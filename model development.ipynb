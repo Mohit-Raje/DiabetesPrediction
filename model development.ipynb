{
 "cells": [
  {
   "cell_type": "code",
   "execution_count": 17,
   "id": "5d0d4676-0854-454b-b030-fdccb9a8a923",
   "metadata": {
    "tags": []
   },
   "outputs": [],
   "source": [
    "import pandas as pd\n",
    "import numpy as np\n",
    "from sklearn.preprocessing import StandardScaler\n",
    "from sklearn.linear_model import LogisticRegression\n",
    "from sklearn.tree import DecisionTreeClassifier\n",
    "from sklearn.svm import SVC\n",
    "from sklearn.naive_bayes import BernoulliNB\n",
    "from sklearn.model_selection import train_test_split\n",
    "from sklearn.metrics import accuracy_score , confusion_matrix\n",
    "import matplotlib.pyplot as plt\n",
    "import seaborn as sns"
   ]
  },
  {
   "cell_type": "code",
   "execution_count": 33,
   "id": "bc0d1a91-0fcc-484d-9014-beeb0fb210a0",
   "metadata": {
    "tags": []
   },
   "outputs": [],
   "source": [
    "df=pd.read_csv(\"Dataset/diabetes.csv\")"
   ]
  },
  {
   "cell_type": "code",
   "execution_count": 34,
   "id": "0baabc3f-b908-44e0-9251-821cee643df8",
   "metadata": {
    "tags": []
   },
   "outputs": [
    {
     "data": {
      "text/html": [
       "<div>\n",
       "<style scoped>\n",
       "    .dataframe tbody tr th:only-of-type {\n",
       "        vertical-align: middle;\n",
       "    }\n",
       "\n",
       "    .dataframe tbody tr th {\n",
       "        vertical-align: top;\n",
       "    }\n",
       "\n",
       "    .dataframe thead th {\n",
       "        text-align: right;\n",
       "    }\n",
       "</style>\n",
       "<table border=\"1\" class=\"dataframe\">\n",
       "  <thead>\n",
       "    <tr style=\"text-align: right;\">\n",
       "      <th></th>\n",
       "      <th>Pregnancies</th>\n",
       "      <th>Glucose</th>\n",
       "      <th>BloodPressure</th>\n",
       "      <th>SkinThickness</th>\n",
       "      <th>Insulin</th>\n",
       "      <th>BMI</th>\n",
       "      <th>DiabetesPedigreeFunction</th>\n",
       "      <th>Age</th>\n",
       "      <th>Outcome</th>\n",
       "    </tr>\n",
       "  </thead>\n",
       "  <tbody>\n",
       "    <tr>\n",
       "      <th>0</th>\n",
       "      <td>6</td>\n",
       "      <td>148</td>\n",
       "      <td>72</td>\n",
       "      <td>35</td>\n",
       "      <td>0</td>\n",
       "      <td>33.6</td>\n",
       "      <td>0.627</td>\n",
       "      <td>50</td>\n",
       "      <td>1</td>\n",
       "    </tr>\n",
       "    <tr>\n",
       "      <th>1</th>\n",
       "      <td>1</td>\n",
       "      <td>85</td>\n",
       "      <td>66</td>\n",
       "      <td>29</td>\n",
       "      <td>0</td>\n",
       "      <td>26.6</td>\n",
       "      <td>0.351</td>\n",
       "      <td>31</td>\n",
       "      <td>0</td>\n",
       "    </tr>\n",
       "    <tr>\n",
       "      <th>2</th>\n",
       "      <td>8</td>\n",
       "      <td>183</td>\n",
       "      <td>64</td>\n",
       "      <td>0</td>\n",
       "      <td>0</td>\n",
       "      <td>23.3</td>\n",
       "      <td>0.672</td>\n",
       "      <td>32</td>\n",
       "      <td>1</td>\n",
       "    </tr>\n",
       "    <tr>\n",
       "      <th>3</th>\n",
       "      <td>1</td>\n",
       "      <td>89</td>\n",
       "      <td>66</td>\n",
       "      <td>23</td>\n",
       "      <td>94</td>\n",
       "      <td>28.1</td>\n",
       "      <td>0.167</td>\n",
       "      <td>21</td>\n",
       "      <td>0</td>\n",
       "    </tr>\n",
       "    <tr>\n",
       "      <th>4</th>\n",
       "      <td>0</td>\n",
       "      <td>137</td>\n",
       "      <td>40</td>\n",
       "      <td>35</td>\n",
       "      <td>168</td>\n",
       "      <td>43.1</td>\n",
       "      <td>2.288</td>\n",
       "      <td>33</td>\n",
       "      <td>1</td>\n",
       "    </tr>\n",
       "  </tbody>\n",
       "</table>\n",
       "</div>"
      ],
      "text/plain": [
       "   Pregnancies  Glucose  BloodPressure  SkinThickness  Insulin   BMI  \\\n",
       "0            6      148             72             35        0  33.6   \n",
       "1            1       85             66             29        0  26.6   \n",
       "2            8      183             64              0        0  23.3   \n",
       "3            1       89             66             23       94  28.1   \n",
       "4            0      137             40             35      168  43.1   \n",
       "\n",
       "   DiabetesPedigreeFunction  Age  Outcome  \n",
       "0                     0.627   50        1  \n",
       "1                     0.351   31        0  \n",
       "2                     0.672   32        1  \n",
       "3                     0.167   21        0  \n",
       "4                     2.288   33        1  "
      ]
     },
     "execution_count": 34,
     "metadata": {},
     "output_type": "execute_result"
    }
   ],
   "source": [
    "df.head()"
   ]
  },
  {
   "cell_type": "code",
   "execution_count": 35,
   "id": "8da472e2-20d3-40b5-8ab1-d80a1813f386",
   "metadata": {
    "tags": []
   },
   "outputs": [
    {
     "data": {
      "text/html": [
       "<div>\n",
       "<style scoped>\n",
       "    .dataframe tbody tr th:only-of-type {\n",
       "        vertical-align: middle;\n",
       "    }\n",
       "\n",
       "    .dataframe tbody tr th {\n",
       "        vertical-align: top;\n",
       "    }\n",
       "\n",
       "    .dataframe thead th {\n",
       "        text-align: right;\n",
       "    }\n",
       "</style>\n",
       "<table border=\"1\" class=\"dataframe\">\n",
       "  <thead>\n",
       "    <tr style=\"text-align: right;\">\n",
       "      <th></th>\n",
       "      <th>count</th>\n",
       "      <th>mean</th>\n",
       "      <th>std</th>\n",
       "      <th>min</th>\n",
       "      <th>25%</th>\n",
       "      <th>50%</th>\n",
       "      <th>75%</th>\n",
       "      <th>max</th>\n",
       "    </tr>\n",
       "  </thead>\n",
       "  <tbody>\n",
       "    <tr>\n",
       "      <th>Pregnancies</th>\n",
       "      <td>768.0</td>\n",
       "      <td>3.845052</td>\n",
       "      <td>3.369578</td>\n",
       "      <td>0.000</td>\n",
       "      <td>1.00000</td>\n",
       "      <td>3.0000</td>\n",
       "      <td>6.00000</td>\n",
       "      <td>17.00</td>\n",
       "    </tr>\n",
       "    <tr>\n",
       "      <th>Glucose</th>\n",
       "      <td>768.0</td>\n",
       "      <td>120.894531</td>\n",
       "      <td>31.972618</td>\n",
       "      <td>0.000</td>\n",
       "      <td>99.00000</td>\n",
       "      <td>117.0000</td>\n",
       "      <td>140.25000</td>\n",
       "      <td>199.00</td>\n",
       "    </tr>\n",
       "    <tr>\n",
       "      <th>BloodPressure</th>\n",
       "      <td>768.0</td>\n",
       "      <td>69.105469</td>\n",
       "      <td>19.355807</td>\n",
       "      <td>0.000</td>\n",
       "      <td>62.00000</td>\n",
       "      <td>72.0000</td>\n",
       "      <td>80.00000</td>\n",
       "      <td>122.00</td>\n",
       "    </tr>\n",
       "    <tr>\n",
       "      <th>SkinThickness</th>\n",
       "      <td>768.0</td>\n",
       "      <td>20.536458</td>\n",
       "      <td>15.952218</td>\n",
       "      <td>0.000</td>\n",
       "      <td>0.00000</td>\n",
       "      <td>23.0000</td>\n",
       "      <td>32.00000</td>\n",
       "      <td>99.00</td>\n",
       "    </tr>\n",
       "    <tr>\n",
       "      <th>Insulin</th>\n",
       "      <td>768.0</td>\n",
       "      <td>79.799479</td>\n",
       "      <td>115.244002</td>\n",
       "      <td>0.000</td>\n",
       "      <td>0.00000</td>\n",
       "      <td>30.5000</td>\n",
       "      <td>127.25000</td>\n",
       "      <td>846.00</td>\n",
       "    </tr>\n",
       "    <tr>\n",
       "      <th>BMI</th>\n",
       "      <td>768.0</td>\n",
       "      <td>31.992578</td>\n",
       "      <td>7.884160</td>\n",
       "      <td>0.000</td>\n",
       "      <td>27.30000</td>\n",
       "      <td>32.0000</td>\n",
       "      <td>36.60000</td>\n",
       "      <td>67.10</td>\n",
       "    </tr>\n",
       "    <tr>\n",
       "      <th>DiabetesPedigreeFunction</th>\n",
       "      <td>768.0</td>\n",
       "      <td>0.471876</td>\n",
       "      <td>0.331329</td>\n",
       "      <td>0.078</td>\n",
       "      <td>0.24375</td>\n",
       "      <td>0.3725</td>\n",
       "      <td>0.62625</td>\n",
       "      <td>2.42</td>\n",
       "    </tr>\n",
       "    <tr>\n",
       "      <th>Age</th>\n",
       "      <td>768.0</td>\n",
       "      <td>33.240885</td>\n",
       "      <td>11.760232</td>\n",
       "      <td>21.000</td>\n",
       "      <td>24.00000</td>\n",
       "      <td>29.0000</td>\n",
       "      <td>41.00000</td>\n",
       "      <td>81.00</td>\n",
       "    </tr>\n",
       "    <tr>\n",
       "      <th>Outcome</th>\n",
       "      <td>768.0</td>\n",
       "      <td>0.348958</td>\n",
       "      <td>0.476951</td>\n",
       "      <td>0.000</td>\n",
       "      <td>0.00000</td>\n",
       "      <td>0.0000</td>\n",
       "      <td>1.00000</td>\n",
       "      <td>1.00</td>\n",
       "    </tr>\n",
       "  </tbody>\n",
       "</table>\n",
       "</div>"
      ],
      "text/plain": [
       "                          count        mean         std     min       25%  \\\n",
       "Pregnancies               768.0    3.845052    3.369578   0.000   1.00000   \n",
       "Glucose                   768.0  120.894531   31.972618   0.000  99.00000   \n",
       "BloodPressure             768.0   69.105469   19.355807   0.000  62.00000   \n",
       "SkinThickness             768.0   20.536458   15.952218   0.000   0.00000   \n",
       "Insulin                   768.0   79.799479  115.244002   0.000   0.00000   \n",
       "BMI                       768.0   31.992578    7.884160   0.000  27.30000   \n",
       "DiabetesPedigreeFunction  768.0    0.471876    0.331329   0.078   0.24375   \n",
       "Age                       768.0   33.240885   11.760232  21.000  24.00000   \n",
       "Outcome                   768.0    0.348958    0.476951   0.000   0.00000   \n",
       "\n",
       "                               50%        75%     max  \n",
       "Pregnancies                 3.0000    6.00000   17.00  \n",
       "Glucose                   117.0000  140.25000  199.00  \n",
       "BloodPressure              72.0000   80.00000  122.00  \n",
       "SkinThickness              23.0000   32.00000   99.00  \n",
       "Insulin                    30.5000  127.25000  846.00  \n",
       "BMI                        32.0000   36.60000   67.10  \n",
       "DiabetesPedigreeFunction    0.3725    0.62625    2.42  \n",
       "Age                        29.0000   41.00000   81.00  \n",
       "Outcome                     0.0000    1.00000    1.00  "
      ]
     },
     "execution_count": 35,
     "metadata": {},
     "output_type": "execute_result"
    }
   ],
   "source": [
    "df.describe().T"
   ]
  },
  {
   "cell_type": "code",
   "execution_count": 36,
   "id": "158d67e3-0319-4367-a087-2914a4001d1e",
   "metadata": {
    "tags": []
   },
   "outputs": [
    {
     "data": {
      "text/plain": [
       "Pregnancies                 0\n",
       "Glucose                     0\n",
       "BloodPressure               0\n",
       "SkinThickness               0\n",
       "Insulin                     0\n",
       "BMI                         0\n",
       "DiabetesPedigreeFunction    0\n",
       "Age                         0\n",
       "Outcome                     0\n",
       "dtype: int64"
      ]
     },
     "execution_count": 36,
     "metadata": {},
     "output_type": "execute_result"
    }
   ],
   "source": [
    "df.isnull().sum()"
   ]
  },
  {
   "cell_type": "code",
   "execution_count": 37,
   "id": "2fac5c22-dc1a-464b-9ad6-87fe9743b87f",
   "metadata": {
    "tags": []
   },
   "outputs": [
    {
     "data": {
      "text/plain": [
       "Pregnancies                   int64\n",
       "Glucose                       int64\n",
       "BloodPressure                 int64\n",
       "SkinThickness                 int64\n",
       "Insulin                       int64\n",
       "BMI                         float64\n",
       "DiabetesPedigreeFunction    float64\n",
       "Age                           int64\n",
       "Outcome                       int64\n",
       "dtype: object"
      ]
     },
     "execution_count": 37,
     "metadata": {},
     "output_type": "execute_result"
    }
   ],
   "source": [
    "df.dtypes"
   ]
  },
  {
   "cell_type": "code",
   "execution_count": 43,
   "id": "8926cd78-9e20-48ae-9775-4fd5991de332",
   "metadata": {
    "tags": []
   },
   "outputs": [],
   "source": [
    "cols=list(df.columns)\n",
    "cols.remove('Pregnancies')"
   ]
  },
  {
   "cell_type": "code",
   "execution_count": 44,
   "id": "64e3359b-a8fa-4605-842f-51c67f63d60b",
   "metadata": {
    "tags": []
   },
   "outputs": [],
   "source": [
    "cols.remove('Outcome')\n",
    "cols.remove('DiabetesPedigreeFunction')"
   ]
  },
  {
   "cell_type": "code",
   "execution_count": 45,
   "id": "13973783-c077-43da-8dde-3991b738e5cb",
   "metadata": {
    "tags": []
   },
   "outputs": [
    {
     "data": {
      "text/plain": [
       "['Glucose', 'BloodPressure', 'SkinThickness', 'Insulin', 'BMI', 'Age']"
      ]
     },
     "execution_count": 45,
     "metadata": {},
     "output_type": "execute_result"
    }
   ],
   "source": [
    "cols"
   ]
  },
  {
   "cell_type": "code",
   "execution_count": 46,
   "id": "09621791-7378-44c8-8f3b-9156547350b9",
   "metadata": {
    "tags": []
   },
   "outputs": [],
   "source": [
    "def replace_zero_value(cols):\n",
    "    for i in cols:\n",
    "        df[i]=df[i].replace(0 , df[i].mean())"
   ]
  },
  {
   "cell_type": "code",
   "execution_count": 47,
   "id": "b4a75f34-d44a-4b15-b1a9-501b873d9023",
   "metadata": {
    "tags": []
   },
   "outputs": [],
   "source": [
    "replace_zero_value(cols)"
   ]
  },
  {
   "cell_type": "code",
   "execution_count": 48,
   "id": "942e64cd-a7cf-4aad-b77d-302a0923d201",
   "metadata": {
    "tags": []
   },
   "outputs": [
    {
     "data": {
      "text/html": [
       "<div>\n",
       "<style scoped>\n",
       "    .dataframe tbody tr th:only-of-type {\n",
       "        vertical-align: middle;\n",
       "    }\n",
       "\n",
       "    .dataframe tbody tr th {\n",
       "        vertical-align: top;\n",
       "    }\n",
       "\n",
       "    .dataframe thead th {\n",
       "        text-align: right;\n",
       "    }\n",
       "</style>\n",
       "<table border=\"1\" class=\"dataframe\">\n",
       "  <thead>\n",
       "    <tr style=\"text-align: right;\">\n",
       "      <th></th>\n",
       "      <th>Pregnancies</th>\n",
       "      <th>Glucose</th>\n",
       "      <th>BloodPressure</th>\n",
       "      <th>SkinThickness</th>\n",
       "      <th>Insulin</th>\n",
       "      <th>BMI</th>\n",
       "      <th>DiabetesPedigreeFunction</th>\n",
       "      <th>Age</th>\n",
       "      <th>Outcome</th>\n",
       "    </tr>\n",
       "  </thead>\n",
       "  <tbody>\n",
       "    <tr>\n",
       "      <th>0</th>\n",
       "      <td>6</td>\n",
       "      <td>148.0</td>\n",
       "      <td>72.0</td>\n",
       "      <td>35.000000</td>\n",
       "      <td>79.799479</td>\n",
       "      <td>33.6</td>\n",
       "      <td>0.627</td>\n",
       "      <td>50</td>\n",
       "      <td>1</td>\n",
       "    </tr>\n",
       "    <tr>\n",
       "      <th>1</th>\n",
       "      <td>1</td>\n",
       "      <td>85.0</td>\n",
       "      <td>66.0</td>\n",
       "      <td>29.000000</td>\n",
       "      <td>79.799479</td>\n",
       "      <td>26.6</td>\n",
       "      <td>0.351</td>\n",
       "      <td>31</td>\n",
       "      <td>0</td>\n",
       "    </tr>\n",
       "    <tr>\n",
       "      <th>2</th>\n",
       "      <td>8</td>\n",
       "      <td>183.0</td>\n",
       "      <td>64.0</td>\n",
       "      <td>20.536458</td>\n",
       "      <td>79.799479</td>\n",
       "      <td>23.3</td>\n",
       "      <td>0.672</td>\n",
       "      <td>32</td>\n",
       "      <td>1</td>\n",
       "    </tr>\n",
       "    <tr>\n",
       "      <th>3</th>\n",
       "      <td>1</td>\n",
       "      <td>89.0</td>\n",
       "      <td>66.0</td>\n",
       "      <td>23.000000</td>\n",
       "      <td>94.000000</td>\n",
       "      <td>28.1</td>\n",
       "      <td>0.167</td>\n",
       "      <td>21</td>\n",
       "      <td>0</td>\n",
       "    </tr>\n",
       "    <tr>\n",
       "      <th>4</th>\n",
       "      <td>0</td>\n",
       "      <td>137.0</td>\n",
       "      <td>40.0</td>\n",
       "      <td>35.000000</td>\n",
       "      <td>168.000000</td>\n",
       "      <td>43.1</td>\n",
       "      <td>2.288</td>\n",
       "      <td>33</td>\n",
       "      <td>1</td>\n",
       "    </tr>\n",
       "    <tr>\n",
       "      <th>...</th>\n",
       "      <td>...</td>\n",
       "      <td>...</td>\n",
       "      <td>...</td>\n",
       "      <td>...</td>\n",
       "      <td>...</td>\n",
       "      <td>...</td>\n",
       "      <td>...</td>\n",
       "      <td>...</td>\n",
       "      <td>...</td>\n",
       "    </tr>\n",
       "    <tr>\n",
       "      <th>763</th>\n",
       "      <td>10</td>\n",
       "      <td>101.0</td>\n",
       "      <td>76.0</td>\n",
       "      <td>48.000000</td>\n",
       "      <td>180.000000</td>\n",
       "      <td>32.9</td>\n",
       "      <td>0.171</td>\n",
       "      <td>63</td>\n",
       "      <td>0</td>\n",
       "    </tr>\n",
       "    <tr>\n",
       "      <th>764</th>\n",
       "      <td>2</td>\n",
       "      <td>122.0</td>\n",
       "      <td>70.0</td>\n",
       "      <td>27.000000</td>\n",
       "      <td>79.799479</td>\n",
       "      <td>36.8</td>\n",
       "      <td>0.340</td>\n",
       "      <td>27</td>\n",
       "      <td>0</td>\n",
       "    </tr>\n",
       "    <tr>\n",
       "      <th>765</th>\n",
       "      <td>5</td>\n",
       "      <td>121.0</td>\n",
       "      <td>72.0</td>\n",
       "      <td>23.000000</td>\n",
       "      <td>112.000000</td>\n",
       "      <td>26.2</td>\n",
       "      <td>0.245</td>\n",
       "      <td>30</td>\n",
       "      <td>0</td>\n",
       "    </tr>\n",
       "    <tr>\n",
       "      <th>766</th>\n",
       "      <td>1</td>\n",
       "      <td>126.0</td>\n",
       "      <td>60.0</td>\n",
       "      <td>20.536458</td>\n",
       "      <td>79.799479</td>\n",
       "      <td>30.1</td>\n",
       "      <td>0.349</td>\n",
       "      <td>47</td>\n",
       "      <td>1</td>\n",
       "    </tr>\n",
       "    <tr>\n",
       "      <th>767</th>\n",
       "      <td>1</td>\n",
       "      <td>93.0</td>\n",
       "      <td>70.0</td>\n",
       "      <td>31.000000</td>\n",
       "      <td>79.799479</td>\n",
       "      <td>30.4</td>\n",
       "      <td>0.315</td>\n",
       "      <td>23</td>\n",
       "      <td>0</td>\n",
       "    </tr>\n",
       "  </tbody>\n",
       "</table>\n",
       "<p>768 rows × 9 columns</p>\n",
       "</div>"
      ],
      "text/plain": [
       "     Pregnancies  Glucose  BloodPressure  SkinThickness     Insulin   BMI  \\\n",
       "0              6    148.0           72.0      35.000000   79.799479  33.6   \n",
       "1              1     85.0           66.0      29.000000   79.799479  26.6   \n",
       "2              8    183.0           64.0      20.536458   79.799479  23.3   \n",
       "3              1     89.0           66.0      23.000000   94.000000  28.1   \n",
       "4              0    137.0           40.0      35.000000  168.000000  43.1   \n",
       "..           ...      ...            ...            ...         ...   ...   \n",
       "763           10    101.0           76.0      48.000000  180.000000  32.9   \n",
       "764            2    122.0           70.0      27.000000   79.799479  36.8   \n",
       "765            5    121.0           72.0      23.000000  112.000000  26.2   \n",
       "766            1    126.0           60.0      20.536458   79.799479  30.1   \n",
       "767            1     93.0           70.0      31.000000   79.799479  30.4   \n",
       "\n",
       "     DiabetesPedigreeFunction  Age  Outcome  \n",
       "0                       0.627   50        1  \n",
       "1                       0.351   31        0  \n",
       "2                       0.672   32        1  \n",
       "3                       0.167   21        0  \n",
       "4                       2.288   33        1  \n",
       "..                        ...  ...      ...  \n",
       "763                     0.171   63        0  \n",
       "764                     0.340   27        0  \n",
       "765                     0.245   30        0  \n",
       "766                     0.349   47        1  \n",
       "767                     0.315   23        0  \n",
       "\n",
       "[768 rows x 9 columns]"
      ]
     },
     "execution_count": 48,
     "metadata": {},
     "output_type": "execute_result"
    }
   ],
   "source": [
    "df"
   ]
  },
  {
   "cell_type": "code",
   "execution_count": 52,
   "id": "fe3877b7-6687-4ac8-a10d-5669a2f5a6ea",
   "metadata": {
    "tags": []
   },
   "outputs": [
    {
     "data": {
      "text/plain": [
       "<Axes: >"
      ]
     },
     "execution_count": 52,
     "metadata": {},
     "output_type": "execute_result"
    },
    {
     "data": {
      "image/png": "[encoded data removed]",
      "text/plain": [
       "<Figure size 1500x500 with 1 Axes>"
      ]
     },
     "metadata": {},
     "output_type": "display_data"
    }
   ],
   "source": [
    "plt.figure(figsize=(15 , 5))\n",
    "sns.boxplot(df)"
   ]
  },
  {
   "cell_type": "code",
   "execution_count": 54,
   "id": "1f1eba43-5eca-48a3-964a-0786711cdcdb",
   "metadata": {
    "tags": []
   },
   "outputs": [
    {
     "data": {
      "text/html": [
       "<div>\n",
       "<style scoped>\n",
       "    .dataframe tbody tr th:only-of-type {\n",
       "        vertical-align: middle;\n",
       "    }\n",
       "\n",
       "    .dataframe tbody tr th {\n",
       "        vertical-align: top;\n",
       "    }\n",
       "\n",
       "    .dataframe thead th {\n",
       "        text-align: right;\n",
       "    }\n",
       "</style>\n",
       "<table border=\"1\" class=\"dataframe\">\n",
       "  <thead>\n",
       "    <tr style=\"text-align: right;\">\n",
       "      <th></th>\n",
       "      <th>Pregnancies</th>\n",
       "      <th>Glucose</th>\n",
       "      <th>BloodPressure</th>\n",
       "      <th>SkinThickness</th>\n",
       "      <th>Insulin</th>\n",
       "      <th>BMI</th>\n",
       "      <th>DiabetesPedigreeFunction</th>\n",
       "      <th>Age</th>\n",
       "      <th>Outcome</th>\n",
       "    </tr>\n",
       "  </thead>\n",
       "  <tbody>\n",
       "    <tr>\n",
       "      <th>0</th>\n",
       "      <td>6</td>\n",
       "      <td>148.0</td>\n",
       "      <td>72.0</td>\n",
       "      <td>35.000000</td>\n",
       "      <td>79.799479</td>\n",
       "      <td>33.6</td>\n",
       "      <td>0.627</td>\n",
       "      <td>50</td>\n",
       "      <td>1</td>\n",
       "    </tr>\n",
       "    <tr>\n",
       "      <th>1</th>\n",
       "      <td>1</td>\n",
       "      <td>85.0</td>\n",
       "      <td>66.0</td>\n",
       "      <td>29.000000</td>\n",
       "      <td>79.799479</td>\n",
       "      <td>26.6</td>\n",
       "      <td>0.351</td>\n",
       "      <td>31</td>\n",
       "      <td>0</td>\n",
       "    </tr>\n",
       "    <tr>\n",
       "      <th>2</th>\n",
       "      <td>8</td>\n",
       "      <td>183.0</td>\n",
       "      <td>64.0</td>\n",
       "      <td>20.536458</td>\n",
       "      <td>79.799479</td>\n",
       "      <td>23.3</td>\n",
       "      <td>0.672</td>\n",
       "      <td>32</td>\n",
       "      <td>1</td>\n",
       "    </tr>\n",
       "    <tr>\n",
       "      <th>3</th>\n",
       "      <td>1</td>\n",
       "      <td>89.0</td>\n",
       "      <td>66.0</td>\n",
       "      <td>23.000000</td>\n",
       "      <td>94.000000</td>\n",
       "      <td>28.1</td>\n",
       "      <td>0.167</td>\n",
       "      <td>21</td>\n",
       "      <td>0</td>\n",
       "    </tr>\n",
       "    <tr>\n",
       "      <th>4</th>\n",
       "      <td>0</td>\n",
       "      <td>137.0</td>\n",
       "      <td>40.0</td>\n",
       "      <td>35.000000</td>\n",
       "      <td>168.000000</td>\n",
       "      <td>43.1</td>\n",
       "      <td>2.288</td>\n",
       "      <td>33</td>\n",
       "      <td>1</td>\n",
       "    </tr>\n",
       "  </tbody>\n",
       "</table>\n",
       "</div>"
      ],
      "text/plain": [
       "   Pregnancies  Glucose  BloodPressure  SkinThickness     Insulin   BMI  \\\n",
       "0            6    148.0           72.0      35.000000   79.799479  33.6   \n",
       "1            1     85.0           66.0      29.000000   79.799479  26.6   \n",
       "2            8    183.0           64.0      20.536458   79.799479  23.3   \n",
       "3            1     89.0           66.0      23.000000   94.000000  28.1   \n",
       "4            0    137.0           40.0      35.000000  168.000000  43.1   \n",
       "\n",
       "   DiabetesPedigreeFunction  Age  Outcome  \n",
       "0                     0.627   50        1  \n",
       "1                     0.351   31        0  \n",
       "2                     0.672   32        1  \n",
       "3                     0.167   21        0  \n",
       "4                     2.288   33        1  "
      ]
     },
     "execution_count": 54,
     "metadata": {},
     "output_type": "execute_result"
    }
   ],
   "source": [
    "df.head()"
   ]
  },
  {
   "cell_type": "code",
   "execution_count": 55,
   "id": "c16547cc-292a-484b-8788-a427bf8d2ddd",
   "metadata": {
    "tags": []
   },
   "outputs": [],
   "source": [
    "X=df.iloc[: , :-1]\n",
    "y=df.iloc[: ,-1]"
   ]
  },
  {
   "cell_type": "code",
   "execution_count": 57,
   "id": "88267180-ef68-40e9-b03c-fd4f01cd3b46",
   "metadata": {
    "tags": []
   },
   "outputs": [],
   "source": [
    "X_train , X_test , y_train ,y_test = train_test_split(X , y , test_size=0.25 , random_state=0)"
   ]
  },
  {
   "cell_type": "code",
   "execution_count": 58,
   "id": "c095136d-3cb2-4faf-abe0-f3cba8eecdb9",
   "metadata": {
    "tags": []
   },
   "outputs": [],
   "source": [
    "import pickle\n",
    "\n",
    "\n",
    "def scaling(X_train , X_test):\n",
    "    scaler=StandardScaler()\n",
    "    X_train_scaled = scaler.fit_transform(X_train)\n",
    "    X_test_scaled=scaler.transform(X_test)\n",
    "    \n",
    "    file=open(\"standardscaler.pkl\" , 'wb')\n",
    "    pickle.dump(scaler , file)\n",
    "    file.close\n",
    "    \n",
    "    return X_train_scaled , X_test_scaled"
   ]
  },
  {
   "cell_type": "code",
   "execution_count": 59,
   "id": "40b9cd61-fdc0-41e5-b0c5-b02e610c1fe8",
   "metadata": {
    "tags": []
   },
   "outputs": [],
   "source": [
    "X_train_scaled , X_test_scaled = scaling(X_train , X_test)"
   ]
  },
  {
   "cell_type": "code",
   "execution_count": 61,
   "id": "6d0a9a97-b87a-4ef3-ab50-5e39f7df541e",
   "metadata": {
    "tags": []
   },
   "outputs": [],
   "source": [
    "import warnings \n",
    "warnings.filterwarnings('ignore')"
   ]
  },
  {
   "cell_type": "code",
   "execution_count": 62,
   "id": "f601705b-27a9-4e34-87f7-e3101795f1ca",
   "metadata": {
    "tags": []
   },
   "outputs": [],
   "source": [
    "parameter={\n",
    " 'criterion':['gini','entropy','log_loss'],\n",
    "  'splitter':['best','random'],\n",
    "  'max_depth':[1,2,3,4,5],\n",
    "  'max_features':['auto', 'sqrt', 'log2']\n",
    "    \n",
    "}"
   ]
  },
  {
   "cell_type": "code",
   "execution_count": 64,
   "id": "8c1ed6af-be7c-4ef7-8d5f-99c982641f81",
   "metadata": {
    "tags": []
   },
   "outputs": [],
   "source": [
    "from sklearn.model_selection import GridSearchCV\n",
    "classifier=DecisionTreeClassifier()"
   ]
  },
  {
   "cell_type": "code",
   "execution_count": 65,
   "id": "b2396ccd-6037-4d2f-8551-7a793ad5fd08",
   "metadata": {
    "tags": []
   },
   "outputs": [
    {
     "name": "stdout",
     "output_type": "stream",
     "text": [
      "Fitting 3 folds for each of 90 candidates, totalling 270 fits\n",
      "[CV 1/3] END criterion=gini, max_depth=1, max_features=auto, splitter=best;, score=0.646 total time=   0.0s\n",
      "[CV 2/3] END criterion=gini, max_depth=1, max_features=auto, splitter=best;, score=0.641 total time=   0.0s\n",
      "[CV 3/3] END criterion=gini, max_depth=1, max_features=auto, splitter=best;, score=0.641 total time=   0.0s\n",
      "[CV 1/3] END criterion=gini, max_depth=1, max_features=auto, splitter=random;, score=0.646 total time=   0.0s\n",
      "[CV 2/3] END criterion=gini, max_depth=1, max_features=auto, splitter=random;, score=0.651 total time=   0.0s\n",
      "[CV 3/3] END criterion=gini, max_depth=1, max_features=auto, splitter=random;, score=0.630 total time=   0.0s\n",
      "[CV 1/3] END criterion=gini, max_depth=1, max_features=sqrt, splitter=best;, score=0.708 total time=   0.0s\n",
      "[CV 2/3] END criterion=gini, max_depth=1, max_features=sqrt, splitter=best;, score=0.583 total time=   0.0s\n",
      "[CV 3/3] END criterion=gini, max_depth=1, max_features=sqrt, splitter=best;, score=0.641 total time=   0.0s\n",
      "[CV 1/3] END criterion=gini, max_depth=1, max_features=sqrt, splitter=random;, score=0.682 total time=   0.0s\n",
      "[CV 2/3] END criterion=gini, max_depth=1, max_features=sqrt, splitter=random;, score=0.641 total time=   0.0s\n",
      "[CV 3/3] END criterion=gini, max_depth=1, max_features=sqrt, splitter=random;, score=0.641 total time=   0.0s\n",
      "[CV 1/3] END criterion=gini, max_depth=1, max_features=log2, splitter=best;, score=0.708 total time=   0.0s\n",
      "[CV 2/3] END criterion=gini, max_depth=1, max_features=log2, splitter=best;, score=0.641 total time=   0.0s\n",
      "[CV 3/3] END criterion=gini, max_depth=1, max_features=log2, splitter=best;, score=0.688 total time=   0.0s\n",
      "[CV 1/3] END criterion=gini, max_depth=1, max_features=log2, splitter=random;, score=0.693 total time=   0.0s\n",
      "[CV 2/3] END criterion=gini, max_depth=1, max_features=log2, splitter=random;, score=0.750 total time=   0.0s\n",
      "[CV 3/3] END criterion=gini, max_depth=1, max_features=log2, splitter=random;, score=0.641 total time=   0.0s\n",
      "[CV 1/3] END criterion=gini, max_depth=2, max_features=auto, splitter=best;, score=0.708 total time=   0.0s\n",
      "[CV 2/3] END criterion=gini, max_depth=2, max_features=auto, splitter=best;, score=0.620 total time=   0.0s\n",
      "[CV 3/3] END criterion=gini, max_depth=2, max_features=auto, splitter=best;, score=0.688 total time=   0.0s\n",
      "[CV 1/3] END criterion=gini, max_depth=2, max_features=auto, splitter=random;, score=0.651 total time=   0.0s\n",
      "[CV 2/3] END criterion=gini, max_depth=2, max_features=auto, splitter=random;, score=0.672 total time=   0.0s\n",
      "[CV 3/3] END criterion=gini, max_depth=2, max_features=auto, splitter=random;, score=0.646 total time=   0.0s\n",
      "[CV 1/3] END criterion=gini, max_depth=2, max_features=sqrt, splitter=best;, score=0.630 total time=   0.0s\n",
      "[CV 2/3] END criterion=gini, max_depth=2, max_features=sqrt, splitter=best;, score=0.682 total time=   0.0s\n",
      "[CV 3/3] END criterion=gini, max_depth=2, max_features=sqrt, splitter=best;, score=0.641 total time=   0.0s\n",
      "[CV 1/3] END criterion=gini, max_depth=2, max_features=sqrt, splitter=random;, score=0.646 total time=   0.0s\n",
      "[CV 2/3] END criterion=gini, max_depth=2, max_features=sqrt, splitter=random;, score=0.688 total time=   0.0s\n",
      "[CV 3/3] END criterion=gini, max_depth=2, max_features=sqrt, splitter=random;, score=0.594 total time=   0.0s\n",
      "[CV 1/3] END criterion=gini, max_depth=2, max_features=log2, splitter=best;, score=0.708 total time=   0.0s\n",
      "[CV 2/3] END criterion=gini, max_depth=2, max_features=log2, splitter=best;, score=0.771 total time=   0.0s\n",
      "[CV 3/3] END criterion=gini, max_depth=2, max_features=log2, splitter=best;, score=0.672 total time=   0.0s\n",
      "[CV 1/3] END criterion=gini, max_depth=2, max_features=log2, splitter=random;, score=0.677 total time=   0.0s\n",
      "[CV 2/3] END criterion=gini, max_depth=2, max_features=log2, splitter=random;, score=0.677 total time=   0.0s\n",
      "[CV 3/3] END criterion=gini, max_depth=2, max_features=log2, splitter=random;, score=0.708 total time=   0.0s\n",
      "[CV 1/3] END criterion=gini, max_depth=3, max_features=auto, splitter=best;, score=0.672 total time=   0.0s\n",
      "[CV 2/3] END criterion=gini, max_depth=3, max_features=auto, splitter=best;, score=0.724 total time=   0.0s\n",
      "[CV 3/3] END criterion=gini, max_depth=3, max_features=auto, splitter=best;, score=0.724 total time=   0.0s\n",
      "[CV 1/3] END criterion=gini, max_depth=3, max_features=auto, splitter=random;, score=0.693 total time=   0.0s\n",
      "[CV 2/3] END criterion=gini, max_depth=3, max_features=auto, splitter=random;, score=0.708 total time=   0.0s\n",
      "[CV 3/3] END criterion=gini, max_depth=3, max_features=auto, splitter=random;, score=0.667 total time=   0.0s\n",
      "[CV 1/3] END criterion=gini, max_depth=3, max_features=sqrt, splitter=best;, score=0.724 total time=   0.0s\n",
      "[CV 2/3] END criterion=gini, max_depth=3, max_features=sqrt, splitter=best;, score=0.750 total time=   0.0s\n",
      "[CV 3/3] END criterion=gini, max_depth=3, max_features=sqrt, splitter=best;, score=0.672 total time=   0.0s\n",
      "[CV 1/3] END criterion=gini, max_depth=3, max_features=sqrt, splitter=random;, score=0.656 total time=   0.0s\n",
      "[CV 2/3] END criterion=gini, max_depth=3, max_features=sqrt, splitter=random;, score=0.750 total time=   0.0s\n",
      "[CV 3/3] END criterion=gini, max_depth=3, max_features=sqrt, splitter=random;, score=0.625 total time=   0.0s\n",
      "[CV 1/3] END criterion=gini, max_depth=3, max_features=log2, splitter=best;, score=0.771 total time=   0.0s\n",
      "[CV 2/3] END criterion=gini, max_depth=3, max_features=log2, splitter=best;, score=0.714 total time=   0.0s\n",
      "[CV 3/3] END criterion=gini, max_depth=3, max_features=log2, splitter=best;, score=0.714 total time=   0.0s\n",
      "[CV 1/3] END criterion=gini, max_depth=3, max_features=log2, splitter=random;, score=0.729 total time=   0.0s\n",
      "[CV 2/3] END criterion=gini, max_depth=3, max_features=log2, splitter=random;, score=0.755 total time=   0.0s\n",
      "[CV 3/3] END criterion=gini, max_depth=3, max_features=log2, splitter=random;, score=0.698 total time=   0.0s\n",
      "[CV 1/3] END criterion=gini, max_depth=4, max_features=auto, splitter=best;, score=0.703 total time=   0.0s\n",
      "[CV 2/3] END criterion=gini, max_depth=4, max_features=auto, splitter=best;, score=0.641 total time=   0.0s\n",
      "[CV 3/3] END criterion=gini, max_depth=4, max_features=auto, splitter=best;, score=0.677 total time=   0.0s\n",
      "[CV 1/3] END criterion=gini, max_depth=4, max_features=auto, splitter=random;, score=0.661 total time=   0.0s\n",
      "[CV 2/3] END criterion=gini, max_depth=4, max_features=auto, splitter=random;, score=0.615 total time=   0.0s\n",
      "[CV 3/3] END criterion=gini, max_depth=4, max_features=auto, splitter=random;, score=0.693 total time=   0.0s\n",
      "[CV 1/3] END criterion=gini, max_depth=4, max_features=sqrt, splitter=best;, score=0.698 total time=   0.0s\n",
      "[CV 2/3] END criterion=gini, max_depth=4, max_features=sqrt, splitter=best;, score=0.740 total time=   0.0s\n",
      "[CV 3/3] END criterion=gini, max_depth=4, max_features=sqrt, splitter=best;, score=0.708 total time=   0.0s\n",
      "[CV 1/3] END criterion=gini, max_depth=4, max_features=sqrt, splitter=random;, score=0.646 total time=   0.0s\n",
      "[CV 2/3] END criterion=gini, max_depth=4, max_features=sqrt, splitter=random;, score=0.656 total time=   0.0s\n",
      "[CV 3/3] END criterion=gini, max_depth=4, max_features=sqrt, splitter=random;, score=0.630 total time=   0.0s\n",
      "[CV 1/3] END criterion=gini, max_depth=4, max_features=log2, splitter=best;, score=0.714 total time=   0.0s\n",
      "[CV 2/3] END criterion=gini, max_depth=4, max_features=log2, splitter=best;, score=0.714 total time=   0.0s\n",
      "[CV 3/3] END criterion=gini, max_depth=4, max_features=log2, splitter=best;, score=0.682 total time=   0.0s\n",
      "[CV 1/3] END criterion=gini, max_depth=4, max_features=log2, splitter=random;, score=0.755 total time=   0.0s\n",
      "[CV 2/3] END criterion=gini, max_depth=4, max_features=log2, splitter=random;, score=0.656 total time=   0.0s\n",
      "[CV 3/3] END criterion=gini, max_depth=4, max_features=log2, splitter=random;, score=0.693 total time=   0.0s\n",
      "[CV 1/3] END criterion=gini, max_depth=5, max_features=auto, splitter=best;, score=0.734 total time=   0.0s\n",
      "[CV 2/3] END criterion=gini, max_depth=5, max_features=auto, splitter=best;, score=0.630 total time=   0.0s\n",
      "[CV 3/3] END criterion=gini, max_depth=5, max_features=auto, splitter=best;, score=0.703 total time=   0.0s\n",
      "[CV 1/3] END criterion=gini, max_depth=5, max_features=auto, splitter=random;, score=0.625 total time=   0.0s\n",
      "[CV 2/3] END criterion=gini, max_depth=5, max_features=auto, splitter=random;, score=0.693 total time=   0.0s\n",
      "[CV 3/3] END criterion=gini, max_depth=5, max_features=auto, splitter=random;, score=0.661 total time=   0.0s\n",
      "[CV 1/3] END criterion=gini, max_depth=5, max_features=sqrt, splitter=best;, score=0.729 total time=   0.0s\n",
      "[CV 2/3] END criterion=gini, max_depth=5, max_features=sqrt, splitter=best;, score=0.682 total time=   0.0s\n",
      "[CV 3/3] END criterion=gini, max_depth=5, max_features=sqrt, splitter=best;, score=0.682 total time=   0.0s\n",
      "[CV 1/3] END criterion=gini, max_depth=5, max_features=sqrt, splitter=random;, score=0.745 total time=   0.0s\n",
      "[CV 2/3] END criterion=gini, max_depth=5, max_features=sqrt, splitter=random;, score=0.651 total time=   0.0s\n",
      "[CV 3/3] END criterion=gini, max_depth=5, max_features=sqrt, splitter=random;, score=0.698 total time=   0.0s\n",
      "[CV 1/3] END criterion=gini, max_depth=5, max_features=log2, splitter=best;, score=0.755 total time=   0.0s\n",
      "[CV 2/3] END criterion=gini, max_depth=5, max_features=log2, splitter=best;, score=0.750 total time=   0.0s\n",
      "[CV 3/3] END criterion=gini, max_depth=5, max_features=log2, splitter=best;, score=0.745 total time=   0.0s\n",
      "[CV 1/3] END criterion=gini, max_depth=5, max_features=log2, splitter=random;, score=0.708 total time=   0.0s\n",
      "[CV 2/3] END criterion=gini, max_depth=5, max_features=log2, splitter=random;, score=0.672 total time=   0.0s\n",
      "[CV 3/3] END criterion=gini, max_depth=5, max_features=log2, splitter=random;, score=0.740 total time=   0.0s\n",
      "[CV 1/3] END criterion=entropy, max_depth=1, max_features=auto, splitter=best;, score=0.708 total time=   0.0s\n",
      "[CV 2/3] END criterion=entropy, max_depth=1, max_features=auto, splitter=best;, score=0.641 total time=   0.0s\n",
      "[CV 3/3] END criterion=entropy, max_depth=1, max_features=auto, splitter=best;, score=0.641 total time=   0.0s\n",
      "[CV 1/3] END criterion=entropy, max_depth=1, max_features=auto, splitter=random;, score=0.641 total time=   0.0s\n",
      "[CV 2/3] END criterion=entropy, max_depth=1, max_features=auto, splitter=random;, score=0.641 total time=   0.0s\n",
      "[CV 3/3] END criterion=entropy, max_depth=1, max_features=auto, splitter=random;, score=0.677 total time=   0.0s\n",
      "[CV 1/3] END criterion=entropy, max_depth=1, max_features=sqrt, splitter=best;, score=0.646 total time=   0.0s\n",
      "[CV 2/3] END criterion=entropy, max_depth=1, max_features=sqrt, splitter=best;, score=0.641 total time=   0.0s\n",
      "[CV 3/3] END criterion=entropy, max_depth=1, max_features=sqrt, splitter=best;, score=0.641 total time=   0.0s\n",
      "[CV 1/3] END criterion=entropy, max_depth=1, max_features=sqrt, splitter=random;, score=0.672 total time=   0.0s\n",
      "[CV 2/3] END criterion=entropy, max_depth=1, max_features=sqrt, splitter=random;, score=0.641 total time=   0.0s\n",
      "[CV 3/3] END criterion=entropy, max_depth=1, max_features=sqrt, splitter=random;, score=0.667 total time=   0.0s\n",
      "[CV 1/3] END criterion=entropy, max_depth=1, max_features=log2, splitter=best;, score=0.635 total time=   0.0s\n",
      "[CV 2/3] END criterion=entropy, max_depth=1, max_features=log2, splitter=best;, score=0.641 total time=   0.0s\n",
      "[CV 3/3] END criterion=entropy, max_depth=1, max_features=log2, splitter=best;, score=0.688 total time=   0.0s\n",
      "[CV 1/3] END criterion=entropy, max_depth=1, max_features=log2, splitter=random;, score=0.646 total time=   0.0s\n",
      "[CV 2/3] END criterion=entropy, max_depth=1, max_features=log2, splitter=random;, score=0.646 total time=   0.0s\n",
      "[CV 3/3] END criterion=entropy, max_depth=1, max_features=log2, splitter=random;, score=0.651 total time=   0.0s\n",
      "[CV 1/3] END criterion=entropy, max_depth=2, max_features=auto, splitter=best;, score=0.672 total time=   0.0s\n",
      "[CV 2/3] END criterion=entropy, max_depth=2, max_features=auto, splitter=best;, score=0.771 total time=   0.0s\n",
      "[CV 3/3] END criterion=entropy, max_depth=2, max_features=auto, splitter=best;, score=0.641 total time=   0.0s\n",
      "[CV 1/3] END criterion=entropy, max_depth=2, max_features=auto, splitter=random;, score=0.708 total time=   0.0s\n",
      "[CV 2/3] END criterion=entropy, max_depth=2, max_features=auto, splitter=random;, score=0.641 total time=   0.0s\n",
      "[CV 3/3] END criterion=entropy, max_depth=2, max_features=auto, splitter=random;, score=0.620 total time=   0.0s\n",
      "[CV 1/3] END criterion=entropy, max_depth=2, max_features=sqrt, splitter=best;, score=0.708 total time=   0.0s\n",
      "[CV 2/3] END criterion=entropy, max_depth=2, max_features=sqrt, splitter=best;, score=0.667 total time=   0.0s\n",
      "[CV 3/3] END criterion=entropy, max_depth=2, max_features=sqrt, splitter=best;, score=0.708 total time=   0.0s\n",
      "[CV 1/3] END criterion=entropy, max_depth=2, max_features=sqrt, splitter=random;, score=0.714 total time=   0.0s\n",
      "[CV 2/3] END criterion=entropy, max_depth=2, max_features=sqrt, splitter=random;, score=0.688 total time=   0.0s\n",
      "[CV 3/3] END criterion=entropy, max_depth=2, max_features=sqrt, splitter=random;, score=0.641 total time=   0.0s\n",
      "[CV 1/3] END criterion=entropy, max_depth=2, max_features=log2, splitter=best;, score=0.672 total time=   0.0s\n",
      "[CV 2/3] END criterion=entropy, max_depth=2, max_features=log2, splitter=best;, score=0.771 total time=   0.0s\n",
      "[CV 3/3] END criterion=entropy, max_depth=2, max_features=log2, splitter=best;, score=0.688 total time=   0.0s\n",
      "[CV 1/3] END criterion=entropy, max_depth=2, max_features=log2, splitter=random;, score=0.661 total time=   0.0s\n",
      "[CV 2/3] END criterion=entropy, max_depth=2, max_features=log2, splitter=random;, score=0.661 total time=   0.0s\n",
      "[CV 3/3] END criterion=entropy, max_depth=2, max_features=log2, splitter=random;, score=0.677 total time=   0.0s\n",
      "[CV 1/3] END criterion=entropy, max_depth=3, max_features=auto, splitter=best;, score=0.771 total time=   0.0s\n",
      "[CV 2/3] END criterion=entropy, max_depth=3, max_features=auto, splitter=best;, score=0.724 total time=   0.0s\n",
      "[CV 3/3] END criterion=entropy, max_depth=3, max_features=auto, splitter=best;, score=0.661 total time=   0.0s\n",
      "[CV 1/3] END criterion=entropy, max_depth=3, max_features=auto, splitter=random;, score=0.708 total time=   0.0s\n",
      "[CV 2/3] END criterion=entropy, max_depth=3, max_features=auto, splitter=random;, score=0.620 total time=   0.0s\n",
      "[CV 3/3] END criterion=entropy, max_depth=3, max_features=auto, splitter=random;, score=0.693 total time=   0.0s\n",
      "[CV 1/3] END criterion=entropy, max_depth=3, max_features=sqrt, splitter=best;, score=0.698 total time=   0.0s\n",
      "[CV 2/3] END criterion=entropy, max_depth=3, max_features=sqrt, splitter=best;, score=0.609 total time=   0.0s\n",
      "[CV 3/3] END criterion=entropy, max_depth=3, max_features=sqrt, splitter=best;, score=0.682 total time=   0.0s\n",
      "[CV 1/3] END criterion=entropy, max_depth=3, max_features=sqrt, splitter=random;, score=0.641 total time=   0.0s\n",
      "[CV 2/3] END criterion=entropy, max_depth=3, max_features=sqrt, splitter=random;, score=0.635 total time=   0.0s\n",
      "[CV 3/3] END criterion=entropy, max_depth=3, max_features=sqrt, splitter=random;, score=0.641 total time=   0.0s\n",
      "[CV 1/3] END criterion=entropy, max_depth=3, max_features=log2, splitter=best;, score=0.714 total time=   0.0s\n",
      "[CV 2/3] END criterion=entropy, max_depth=3, max_features=log2, splitter=best;, score=0.599 total time=   0.0s\n",
      "[CV 3/3] END criterion=entropy, max_depth=3, max_features=log2, splitter=best;, score=0.714 total time=   0.0s\n",
      "[CV 1/3] END criterion=entropy, max_depth=3, max_features=log2, splitter=random;, score=0.656 total time=   0.0s\n",
      "[CV 2/3] END criterion=entropy, max_depth=3, max_features=log2, splitter=random;, score=0.677 total time=   0.0s\n",
      "[CV 3/3] END criterion=entropy, max_depth=3, max_features=log2, splitter=random;, score=0.677 total time=   0.0s\n",
      "[CV 1/3] END criterion=entropy, max_depth=4, max_features=auto, splitter=best;, score=0.714 total time=   0.0s\n",
      "[CV 2/3] END criterion=entropy, max_depth=4, max_features=auto, splitter=best;, score=0.745 total time=   0.0s\n",
      "[CV 3/3] END criterion=entropy, max_depth=4, max_features=auto, splitter=best;, score=0.651 total time=   0.0s\n",
      "[CV 1/3] END criterion=entropy, max_depth=4, max_features=auto, splitter=random;, score=0.635 total time=   0.0s\n",
      "[CV 2/3] END criterion=entropy, max_depth=4, max_features=auto, splitter=random;, score=0.677 total time=   0.0s\n",
      "[CV 3/3] END criterion=entropy, max_depth=4, max_features=auto, splitter=random;, score=0.656 total time=   0.0s\n",
      "[CV 1/3] END criterion=entropy, max_depth=4, max_features=sqrt, splitter=best;, score=0.661 total time=   0.0s\n",
      "[CV 2/3] END criterion=entropy, max_depth=4, max_features=sqrt, splitter=best;, score=0.672 total time=   0.0s\n",
      "[CV 3/3] END criterion=entropy, max_depth=4, max_features=sqrt, splitter=best;, score=0.688 total time=   0.0s\n",
      "[CV 1/3] END criterion=entropy, max_depth=4, max_features=sqrt, splitter=random;, score=0.672 total time=   0.0s\n",
      "[CV 2/3] END criterion=entropy, max_depth=4, max_features=sqrt, splitter=random;, score=0.594 total time=   0.0s\n",
      "[CV 3/3] END criterion=entropy, max_depth=4, max_features=sqrt, splitter=random;, score=0.646 total time=   0.0s\n",
      "[CV 1/3] END criterion=entropy, max_depth=4, max_features=log2, splitter=best;, score=0.698 total time=   0.0s\n",
      "[CV 2/3] END criterion=entropy, max_depth=4, max_features=log2, splitter=best;, score=0.740 total time=   0.0s\n",
      "[CV 3/3] END criterion=entropy, max_depth=4, max_features=log2, splitter=best;, score=0.693 total time=   0.0s\n",
      "[CV 1/3] END criterion=entropy, max_depth=4, max_features=log2, splitter=random;, score=0.719 total time=   0.0s\n",
      "[CV 2/3] END criterion=entropy, max_depth=4, max_features=log2, splitter=random;, score=0.719 total time=   0.0s\n",
      "[CV 3/3] END criterion=entropy, max_depth=4, max_features=log2, splitter=random;, score=0.698 total time=   0.0s\n",
      "[CV 1/3] END criterion=entropy, max_depth=5, max_features=auto, splitter=best;, score=0.693 total time=   0.0s\n",
      "[CV 2/3] END criterion=entropy, max_depth=5, max_features=auto, splitter=best;, score=0.755 total time=   0.0s\n",
      "[CV 3/3] END criterion=entropy, max_depth=5, max_features=auto, splitter=best;, score=0.682 total time=   0.0s\n",
      "[CV 1/3] END criterion=entropy, max_depth=5, max_features=auto, splitter=random;, score=0.620 total time=   0.0s\n",
      "[CV 2/3] END criterion=entropy, max_depth=5, max_features=auto, splitter=random;, score=0.708 total time=   0.0s\n",
      "[CV 3/3] END criterion=entropy, max_depth=5, max_features=auto, splitter=random;, score=0.698 total time=   0.0s\n",
      "[CV 1/3] END criterion=entropy, max_depth=5, max_features=sqrt, splitter=best;, score=0.693 total time=   0.0s\n",
      "[CV 2/3] END criterion=entropy, max_depth=5, max_features=sqrt, splitter=best;, score=0.755 total time=   0.0s\n",
      "[CV 3/3] END criterion=entropy, max_depth=5, max_features=sqrt, splitter=best;, score=0.708 total time=   0.0s\n",
      "[CV 1/3] END criterion=entropy, max_depth=5, max_features=sqrt, splitter=random;, score=0.651 total time=   0.0s\n",
      "[CV 2/3] END criterion=entropy, max_depth=5, max_features=sqrt, splitter=random;, score=0.656 total time=   0.0s\n",
      "[CV 3/3] END criterion=entropy, max_depth=5, max_features=sqrt, splitter=random;, score=0.688 total time=   0.0s\n",
      "[CV 1/3] END criterion=entropy, max_depth=5, max_features=log2, splitter=best;, score=0.677 total time=   0.0s\n",
      "[CV 2/3] END criterion=entropy, max_depth=5, max_features=log2, splitter=best;, score=0.734 total time=   0.0s\n",
      "[CV 3/3] END criterion=entropy, max_depth=5, max_features=log2, splitter=best;, score=0.651 total time=   0.0s\n",
      "[CV 1/3] END criterion=entropy, max_depth=5, max_features=log2, splitter=random;, score=0.719 total time=   0.0s\n",
      "[CV 2/3] END criterion=entropy, max_depth=5, max_features=log2, splitter=random;, score=0.714 total time=   0.0s\n",
      "[CV 3/3] END criterion=entropy, max_depth=5, max_features=log2, splitter=random;, score=0.677 total time=   0.0s\n",
      "[CV 1/3] END criterion=log_loss, max_depth=1, max_features=auto, splitter=best;, score=0.646 total time=   0.0s\n",
      "[CV 2/3] END criterion=log_loss, max_depth=1, max_features=auto, splitter=best;, score=0.583 total time=   0.0s\n",
      "[CV 3/3] END criterion=log_loss, max_depth=1, max_features=auto, splitter=best;, score=0.688 total time=   0.0s\n",
      "[CV 1/3] END criterion=log_loss, max_depth=1, max_features=auto, splitter=random;, score=0.646 total time=   0.0s\n",
      "[CV 2/3] END criterion=log_loss, max_depth=1, max_features=auto, splitter=random;, score=0.656 total time=   0.0s\n",
      "[CV 3/3] END criterion=log_loss, max_depth=1, max_features=auto, splitter=random;, score=0.635 total time=   0.0s\n",
      "[CV 1/3] END criterion=log_loss, max_depth=1, max_features=sqrt, splitter=best;, score=0.646 total time=   0.0s\n",
      "[CV 2/3] END criterion=log_loss, max_depth=1, max_features=sqrt, splitter=best;, score=0.703 total time=   0.0s\n",
      "[CV 3/3] END criterion=log_loss, max_depth=1, max_features=sqrt, splitter=best;, score=0.641 total time=   0.0s\n",
      "[CV 1/3] END criterion=log_loss, max_depth=1, max_features=sqrt, splitter=random;, score=0.708 total time=   0.0s\n",
      "[CV 2/3] END criterion=log_loss, max_depth=1, max_features=sqrt, splitter=random;, score=0.641 total time=   0.0s\n",
      "[CV 3/3] END criterion=log_loss, max_depth=1, max_features=sqrt, splitter=random;, score=0.641 total time=   0.0s\n",
      "[CV 1/3] END criterion=log_loss, max_depth=1, max_features=log2, splitter=best;, score=0.646 total time=   0.0s\n",
      "[CV 2/3] END criterion=log_loss, max_depth=1, max_features=log2, splitter=best;, score=0.635 total time=   0.0s\n",
      "[CV 3/3] END criterion=log_loss, max_depth=1, max_features=log2, splitter=best;, score=0.641 total time=   0.0s\n",
      "[CV 1/3] END criterion=log_loss, max_depth=1, max_features=log2, splitter=random;, score=0.641 total time=   0.0s\n",
      "[CV 2/3] END criterion=log_loss, max_depth=1, max_features=log2, splitter=random;, score=0.641 total time=   0.0s\n",
      "[CV 3/3] END criterion=log_loss, max_depth=1, max_features=log2, splitter=random;, score=0.641 total time=   0.0s\n",
      "[CV 1/3] END criterion=log_loss, max_depth=2, max_features=auto, splitter=best;, score=0.661 total time=   0.0s\n",
      "[CV 2/3] END criterion=log_loss, max_depth=2, max_features=auto, splitter=best;, score=0.641 total time=   0.0s\n",
      "[CV 3/3] END criterion=log_loss, max_depth=2, max_features=auto, splitter=best;, score=0.656 total time=   0.0s\n",
      "[CV 1/3] END criterion=log_loss, max_depth=2, max_features=auto, splitter=random;, score=0.656 total time=   0.0s\n",
      "[CV 2/3] END criterion=log_loss, max_depth=2, max_features=auto, splitter=random;, score=0.646 total time=   0.0s\n",
      "[CV 3/3] END criterion=log_loss, max_depth=2, max_features=auto, splitter=random;, score=0.750 total time=   0.0s\n",
      "[CV 1/3] END criterion=log_loss, max_depth=2, max_features=sqrt, splitter=best;, score=0.708 total time=   0.0s\n",
      "[CV 2/3] END criterion=log_loss, max_depth=2, max_features=sqrt, splitter=best;, score=0.615 total time=   0.0s\n",
      "[CV 3/3] END criterion=log_loss, max_depth=2, max_features=sqrt, splitter=best;, score=0.708 total time=   0.0s\n",
      "[CV 1/3] END criterion=log_loss, max_depth=2, max_features=sqrt, splitter=random;, score=0.641 total time=   0.0s\n",
      "[CV 2/3] END criterion=log_loss, max_depth=2, max_features=sqrt, splitter=random;, score=0.729 total time=   0.0s\n",
      "[CV 3/3] END criterion=log_loss, max_depth=2, max_features=sqrt, splitter=random;, score=0.740 total time=   0.0s\n",
      "[CV 1/3] END criterion=log_loss, max_depth=2, max_features=log2, splitter=best;, score=0.750 total time=   0.0s\n",
      "[CV 2/3] END criterion=log_loss, max_depth=2, max_features=log2, splitter=best;, score=0.771 total time=   0.0s\n",
      "[CV 3/3] END criterion=log_loss, max_depth=2, max_features=log2, splitter=best;, score=0.708 total time=   0.0s\n",
      "[CV 1/3] END criterion=log_loss, max_depth=2, max_features=log2, splitter=random;, score=0.651 total time=   0.0s\n",
      "[CV 2/3] END criterion=log_loss, max_depth=2, max_features=log2, splitter=random;, score=0.688 total time=   0.0s\n",
      "[CV 3/3] END criterion=log_loss, max_depth=2, max_features=log2, splitter=random;, score=0.620 total time=   0.0s\n",
      "[CV 1/3] END criterion=log_loss, max_depth=3, max_features=auto, splitter=best;, score=0.708 total time=   0.0s\n",
      "[CV 2/3] END criterion=log_loss, max_depth=3, max_features=auto, splitter=best;, score=0.776 total time=   0.0s\n",
      "[CV 3/3] END criterion=log_loss, max_depth=3, max_features=auto, splitter=best;, score=0.693 total time=   0.0s\n",
      "[CV 1/3] END criterion=log_loss, max_depth=3, max_features=auto, splitter=random;, score=0.656 total time=   0.0s\n",
      "[CV 2/3] END criterion=log_loss, max_depth=3, max_features=auto, splitter=random;, score=0.729 total time=   0.0s\n",
      "[CV 3/3] END criterion=log_loss, max_depth=3, max_features=auto, splitter=random;, score=0.714 total time=   0.0s\n",
      "[CV 1/3] END criterion=log_loss, max_depth=3, max_features=sqrt, splitter=best;, score=0.641 total time=   0.0s\n",
      "[CV 2/3] END criterion=log_loss, max_depth=3, max_features=sqrt, splitter=best;, score=0.729 total time=   0.0s\n",
      "[CV 3/3] END criterion=log_loss, max_depth=3, max_features=sqrt, splitter=best;, score=0.646 total time=   0.0s\n",
      "[CV 1/3] END criterion=log_loss, max_depth=3, max_features=sqrt, splitter=random;, score=0.641 total time=   0.0s\n",
      "[CV 2/3] END criterion=log_loss, max_depth=3, max_features=sqrt, splitter=random;, score=0.677 total time=   0.0s\n",
      "[CV 3/3] END criterion=log_loss, max_depth=3, max_features=sqrt, splitter=random;, score=0.656 total time=   0.0s\n",
      "[CV 1/3] END criterion=log_loss, max_depth=3, max_features=log2, splitter=best;, score=0.703 total time=   0.0s\n",
      "[CV 2/3] END criterion=log_loss, max_depth=3, max_features=log2, splitter=best;, score=0.688 total time=   0.0s\n",
      "[CV 3/3] END criterion=log_loss, max_depth=3, max_features=log2, splitter=best;, score=0.682 total time=   0.0s\n",
      "[CV 1/3] END criterion=log_loss, max_depth=3, max_features=log2, splitter=random;, score=0.672 total time=   0.0s\n",
      "[CV 2/3] END criterion=log_loss, max_depth=3, max_features=log2, splitter=random;, score=0.703 total time=   0.0s\n",
      "[CV 3/3] END criterion=log_loss, max_depth=3, max_features=log2, splitter=random;, score=0.688 total time=   0.0s\n",
      "[CV 1/3] END criterion=log_loss, max_depth=4, max_features=auto, splitter=best;, score=0.724 total time=   0.0s\n",
      "[CV 2/3] END criterion=log_loss, max_depth=4, max_features=auto, splitter=best;, score=0.766 total time=   0.0s\n",
      "[CV 3/3] END criterion=log_loss, max_depth=4, max_features=auto, splitter=best;, score=0.703 total time=   0.0s\n",
      "[CV 1/3] END criterion=log_loss, max_depth=4, max_features=auto, splitter=random;, score=0.703 total time=   0.0s\n",
      "[CV 2/3] END criterion=log_loss, max_depth=4, max_features=auto, splitter=random;, score=0.672 total time=   0.0s\n",
      "[CV 3/3] END criterion=log_loss, max_depth=4, max_features=auto, splitter=random;, score=0.708 total time=   0.0s\n",
      "[CV 1/3] END criterion=log_loss, max_depth=4, max_features=sqrt, splitter=best;, score=0.729 total time=   0.0s\n",
      "[CV 2/3] END criterion=log_loss, max_depth=4, max_features=sqrt, splitter=best;, score=0.688 total time=   0.0s\n",
      "[CV 3/3] END criterion=log_loss, max_depth=4, max_features=sqrt, splitter=best;, score=0.708 total time=   0.0s\n",
      "[CV 1/3] END criterion=log_loss, max_depth=4, max_features=sqrt, splitter=random;, score=0.714 total time=   0.0s\n",
      "[CV 2/3] END criterion=log_loss, max_depth=4, max_features=sqrt, splitter=random;, score=0.698 total time=   0.0s\n",
      "[CV 3/3] END criterion=log_loss, max_depth=4, max_features=sqrt, splitter=random;, score=0.661 total time=   0.0s\n",
      "[CV 1/3] END criterion=log_loss, max_depth=4, max_features=log2, splitter=best;, score=0.719 total time=   0.0s\n",
      "[CV 2/3] END criterion=log_loss, max_depth=4, max_features=log2, splitter=best;, score=0.719 total time=   0.0s\n",
      "[CV 3/3] END criterion=log_loss, max_depth=4, max_features=log2, splitter=best;, score=0.714 total time=   0.0s\n",
      "[CV 1/3] END criterion=log_loss, max_depth=4, max_features=log2, splitter=random;, score=0.651 total time=   0.0s\n",
      "[CV 2/3] END criterion=log_loss, max_depth=4, max_features=log2, splitter=random;, score=0.708 total time=   0.0s\n",
      "[CV 3/3] END criterion=log_loss, max_depth=4, max_features=log2, splitter=random;, score=0.625 total time=   0.0s\n",
      "[CV 1/3] END criterion=log_loss, max_depth=5, max_features=auto, splitter=best;, score=0.656 total time=   0.0s\n",
      "[CV 2/3] END criterion=log_loss, max_depth=5, max_features=auto, splitter=best;, score=0.719 total time=   0.0s\n",
      "[CV 3/3] END criterion=log_loss, max_depth=5, max_features=auto, splitter=best;, score=0.698 total time=   0.0s\n",
      "[CV 1/3] END criterion=log_loss, max_depth=5, max_features=auto, splitter=random;, score=0.703 total time=   0.0s\n",
      "[CV 2/3] END criterion=log_loss, max_depth=5, max_features=auto, splitter=random;, score=0.698 total time=   0.0s\n",
      "[CV 3/3] END criterion=log_loss, max_depth=5, max_features=auto, splitter=random;, score=0.682 total time=   0.0s\n",
      "[CV 1/3] END criterion=log_loss, max_depth=5, max_features=sqrt, splitter=best;, score=0.604 total time=   0.0s\n",
      "[CV 2/3] END criterion=log_loss, max_depth=5, max_features=sqrt, splitter=best;, score=0.667 total time=   0.0s\n",
      "[CV 3/3] END criterion=log_loss, max_depth=5, max_features=sqrt, splitter=best;, score=0.656 total time=   0.0s\n",
      "[CV 1/3] END criterion=log_loss, max_depth=5, max_features=sqrt, splitter=random;, score=0.677 total time=   0.0s\n",
      "[CV 2/3] END criterion=log_loss, max_depth=5, max_features=sqrt, splitter=random;, score=0.719 total time=   0.0s\n",
      "[CV 3/3] END criterion=log_loss, max_depth=5, max_features=sqrt, splitter=random;, score=0.609 total time=   0.0s\n",
      "[CV 1/3] END criterion=log_loss, max_depth=5, max_features=log2, splitter=best;, score=0.719 total time=   0.0s\n",
      "[CV 2/3] END criterion=log_loss, max_depth=5, max_features=log2, splitter=best;, score=0.734 total time=   0.0s\n",
      "[CV 3/3] END criterion=log_loss, max_depth=5, max_features=log2, splitter=best;, score=0.714 total time=   0.0s\n",
      "[CV 1/3] END criterion=log_loss, max_depth=5, max_features=log2, splitter=random;, score=0.714 total time=   0.0s\n",
      "[CV 2/3] END criterion=log_loss, max_depth=5, max_features=log2, splitter=random;, score=0.661 total time=   0.0s\n",
      "[CV 3/3] END criterion=log_loss, max_depth=5, max_features=log2, splitter=random;, score=0.714 total time=   0.0s\n"
     ]
    },
    {
     "data": {
      "text/html": [
       "<style>#sk-container-id-1 {color: black;background-color: white;}#sk-container-id-1 pre{padding: 0;}#sk-container-id-1 div.sk-toggleable {background-color: white;}#sk-container-id-1 label.sk-toggleable__label {cursor: pointer;display: block;width: 100%;margin-bottom: 0;padding: 0.3em;box-sizing: border-box;text-align: center;}#sk-container-id-1 label.sk-toggleable__label-arrow:before {content: \"▸\";float: left;margin-right: 0.25em;color: #696969;}#sk-container-id-1 label.sk-toggleable__label-arrow:hover:before {color: black;}#sk-container-id-1 div.sk-estimator:hover label.sk-toggleable__label-arrow:before {color: black;}#sk-container-id-1 div.sk-toggleable__content {max-height: 0;max-width: 0;overflow: hidden;text-align: left;background-color: #f0f8ff;}#sk-container-id-1 div.sk-toggleable__content pre {margin: 0.2em;color: black;border-radius: 0.25em;background-color: #f0f8ff;}#sk-container-id-1 input.sk-toggleable__control:checked~div.sk-toggleable__content {max-height: 200px;max-width: 100%;overflow: auto;}#sk-container-id-1 input.sk-toggleable__control:checked~label.sk-toggleable__label-arrow:before {content: \"▾\";}#sk-container-id-1 div.sk-estimator input.sk-toggleable__control:checked~label.sk-toggleable__label {background-color: #d4ebff;}#sk-container-id-1 div.sk-label input.sk-toggleable__control:checked~label.sk-toggleable__label {background-color: #d4ebff;}#sk-container-id-1 input.sk-hidden--visually {border: 0;clip: rect(1px 1px 1px 1px);clip: rect(1px, 1px, 1px, 1px);height: 1px;margin: -1px;overflow: hidden;padding: 0;position: absolute;width: 1px;}#sk-container-id-1 div.sk-estimator {font-family: monospace;background-color: #f0f8ff;border: 1px dotted black;border-radius: 0.25em;box-sizing: border-box;margin-bottom: 0.5em;}#sk-container-id-1 div.sk-estimator:hover {background-color: #d4ebff;}#sk-container-id-1 div.sk-parallel-item::after {content: \"\";width: 100%;border-bottom: 1px solid gray;flex-grow: 1;}#sk-container-id-1 div.sk-label:hover label.sk-toggleable__label {background-color: #d4ebff;}#sk-container-id-1 div.sk-serial::before {content: \"\";position: absolute;border-left: 1px solid gray;box-sizing: border-box;top: 0;bottom: 0;left: 50%;z-index: 0;}#sk-container-id-1 div.sk-serial {display: flex;flex-direction: column;align-items: center;background-color: white;padding-right: 0.2em;padding-left: 0.2em;position: relative;}#sk-container-id-1 div.sk-item {position: relative;z-index: 1;}#sk-container-id-1 div.sk-parallel {display: flex;align-items: stretch;justify-content: center;background-color: white;position: relative;}#sk-container-id-1 div.sk-item::before, #sk-container-id-1 div.sk-parallel-item::before {content: \"\";position: absolute;border-left: 1px solid gray;box-sizing: border-box;top: 0;bottom: 0;left: 50%;z-index: -1;}#sk-container-id-1 div.sk-parallel-item {display: flex;flex-direction: column;z-index: 1;position: relative;background-color: white;}#sk-container-id-1 div.sk-parallel-item:first-child::after {align-self: flex-end;width: 50%;}#sk-container-id-1 div.sk-parallel-item:last-child::after {align-self: flex-start;width: 50%;}#sk-container-id-1 div.sk-parallel-item:only-child::after {width: 0;}#sk-container-id-1 div.sk-dashed-wrapped {border: 1px dashed gray;margin: 0 0.4em 0.5em 0.4em;box-sizing: border-box;padding-bottom: 0.4em;background-color: white;}#sk-container-id-1 div.sk-label label {font-family: monospace;font-weight: bold;display: inline-block;line-height: 1.2em;}#sk-container-id-1 div.sk-label-container {text-align: center;}#sk-container-id-1 div.sk-container {/* jupyter's `normalize.less` sets `[hidden] { display: none; }` but bootstrap.min.css set `[hidden] { display: none !important; }` so we also need the `!important` here to be able to override the default hidden behavior on the sphinx rendered scikit-learn.org. See: https://github.com/scikit-learn/scikit-learn/issues/21755 */display: inline-block !important;position: relative;}#sk-container-id-1 div.sk-text-repr-fallback {display: none;}</style><div id=\"sk-container-id-1\" class=\"sk-top-container\"><div class=\"sk-text-repr-fallback\"><pre>GridSearchCV(cv=3, estimator=DecisionTreeClassifier(),\n",
       "             param_grid={&#x27;criterion&#x27;: [&#x27;gini&#x27;, &#x27;entropy&#x27;, &#x27;log_loss&#x27;],\n",
       "                         &#x27;max_depth&#x27;: [1, 2, 3, 4, 5],\n",
       "                         &#x27;max_features&#x27;: [&#x27;auto&#x27;, &#x27;sqrt&#x27;, &#x27;log2&#x27;],\n",
       "                         &#x27;splitter&#x27;: [&#x27;best&#x27;, &#x27;random&#x27;]},\n",
       "             scoring=&#x27;accuracy&#x27;, verbose=3)</pre><b>In a Jupyter environment, please rerun this cell to show the HTML representation or trust the notebook. <br />On GitHub, the HTML representation is unable to render, please try loading this page with nbviewer.org.</b></div><div class=\"sk-container\" hidden><div class=\"sk-item sk-dashed-wrapped\"><div class=\"sk-label-container\"><div class=\"sk-label sk-toggleable\"><input class=\"sk-toggleable__control sk-hidden--visually\" id=\"sk-estimator-id-1\" type=\"checkbox\" ><label for=\"sk-estimator-id-1\" class=\"sk-toggleable__label sk-toggleable__label-arrow\">GridSearchCV</label><div class=\"sk-toggleable__content\"><pre>GridSearchCV(cv=3, estimator=DecisionTreeClassifier(),\n",
       "             param_grid={&#x27;criterion&#x27;: [&#x27;gini&#x27;, &#x27;entropy&#x27;, &#x27;log_loss&#x27;],\n",
       "                         &#x27;max_depth&#x27;: [1, 2, 3, 4, 5],\n",
       "                         &#x27;max_features&#x27;: [&#x27;auto&#x27;, &#x27;sqrt&#x27;, &#x27;log2&#x27;],\n",
       "                         &#x27;splitter&#x27;: [&#x27;best&#x27;, &#x27;random&#x27;]},\n",
       "             scoring=&#x27;accuracy&#x27;, verbose=3)</pre></div></div></div><div class=\"sk-parallel\"><div class=\"sk-parallel-item\"><div class=\"sk-item\"><div class=\"sk-label-container\"><div class=\"sk-label sk-toggleable\"><input class=\"sk-toggleable__control sk-hidden--visually\" id=\"sk-estimator-id-2\" type=\"checkbox\" ><label for=\"sk-estimator-id-2\" class=\"sk-toggleable__label sk-toggleable__label-arrow\">estimator: DecisionTreeClassifier</label><div class=\"sk-toggleable__content\"><pre>DecisionTreeClassifier()</pre></div></div></div><div class=\"sk-serial\"><div class=\"sk-item\"><div class=\"sk-estimator sk-toggleable\"><input class=\"sk-toggleable__control sk-hidden--visually\" id=\"sk-estimator-id-3\" type=\"checkbox\" ><label for=\"sk-estimator-id-3\" class=\"sk-toggleable__label sk-toggleable__label-arrow\">DecisionTreeClassifier</label><div class=\"sk-toggleable__content\"><pre>DecisionTreeClassifier()</pre></div></div></div></div></div></div></div></div></div></div>"
      ],
      "text/plain": [
       "GridSearchCV(cv=3, estimator=DecisionTreeClassifier(),\n",
       "             param_grid={'criterion': ['gini', 'entropy', 'log_loss'],\n",
       "                         'max_depth': [1, 2, 3, 4, 5],\n",
       "                         'max_features': ['auto', 'sqrt', 'log2'],\n",
       "                         'splitter': ['best', 'random']},\n",
       "             scoring='accuracy', verbose=3)"
      ]
     },
     "execution_count": 65,
     "metadata": {},
     "output_type": "execute_result"
    }
   ],
   "source": [
    "clf=GridSearchCV(classifier , param_grid=parameter , cv=3 ,scoring='accuracy' , verbose=3)\n",
    "clf.fit(X_train , y_train)"
   ]
  },
  {
   "cell_type": "code",
   "execution_count": 66,
   "id": "ef882e28-b322-4615-a93c-a1002b27a735",
   "metadata": {
    "tags": []
   },
   "outputs": [
    {
     "data": {
      "text/plain": [
       "{'criterion': 'gini',\n",
       " 'max_depth': 5,\n",
       " 'max_features': 'log2',\n",
       " 'splitter': 'best'}"
      ]
     },
     "execution_count": 66,
     "metadata": {},
     "output_type": "execute_result"
    }
   ],
   "source": [
    " clf.best_params_"
   ]
  },
  {
   "cell_type": "code",
   "execution_count": 67,
   "id": "19e69d40-7ec4-4170-a009-712019c76bc5",
   "metadata": {
    "tags": []
   },
   "outputs": [
    {
     "data": {
      "text/plain": [
       "0.75"
      ]
     },
     "execution_count": 67,
     "metadata": {},
     "output_type": "execute_result"
    }
   ],
   "source": [
    "clf.best_score_"
   ]
  },
  {
   "cell_type": "code",
   "execution_count": 69,
   "id": "05f3ad98-2884-4437-b9e9-9045464dd330",
   "metadata": {
    "tags": []
   },
   "outputs": [],
   "source": [
    "model=DecisionTreeClassifier(criterion='gini' , max_depth=5 , max_features='log2' , splitter='best')"
   ]
  },
  {
   "cell_type": "code",
   "execution_count": 76,
   "id": "41a877c6-e104-45fe-a81c-1742dd39eafa",
   "metadata": {
    "tags": []
   },
   "outputs": [
    {
     "data": {
      "text/html": [
       "<style>#sk-container-id-3 {color: black;background-color: white;}#sk-container-id-3 pre{padding: 0;}#sk-container-id-3 div.sk-toggleable {background-color: white;}#sk-container-id-3 label.sk-toggleable__label {cursor: pointer;display: block;width: 100%;margin-bottom: 0;padding: 0.3em;box-sizing: border-box;text-align: center;}#sk-container-id-3 label.sk-toggleable__label-arrow:before {content: \"▸\";float: left;margin-right: 0.25em;color: #696969;}#sk-container-id-3 label.sk-toggleable__label-arrow:hover:before {color: black;}#sk-container-id-3 div.sk-estimator:hover label.sk-toggleable__label-arrow:before {color: black;}#sk-container-id-3 div.sk-toggleable__content {max-height: 0;max-width: 0;overflow: hidden;text-align: left;background-color: #f0f8ff;}#sk-container-id-3 div.sk-toggleable__content pre {margin: 0.2em;color: black;border-radius: 0.25em;background-color: #f0f8ff;}#sk-container-id-3 input.sk-toggleable__control:checked~div.sk-toggleable__content {max-height: 200px;max-width: 100%;overflow: auto;}#sk-container-id-3 input.sk-toggleable__control:checked~label.sk-toggleable__label-arrow:before {content: \"▾\";}#sk-container-id-3 div.sk-estimator input.sk-toggleable__control:checked~label.sk-toggleable__label {background-color: #d4ebff;}#sk-container-id-3 div.sk-label input.sk-toggleable__control:checked~label.sk-toggleable__label {background-color: #d4ebff;}#sk-container-id-3 input.sk-hidden--visually {border: 0;clip: rect(1px 1px 1px 1px);clip: rect(1px, 1px, 1px, 1px);height: 1px;margin: -1px;overflow: hidden;padding: 0;position: absolute;width: 1px;}#sk-container-id-3 div.sk-estimator {font-family: monospace;background-color: #f0f8ff;border: 1px dotted black;border-radius: 0.25em;box-sizing: border-box;margin-bottom: 0.5em;}#sk-container-id-3 div.sk-estimator:hover {background-color: #d4ebff;}#sk-container-id-3 div.sk-parallel-item::after {content: \"\";width: 100%;border-bottom: 1px solid gray;flex-grow: 1;}#sk-container-id-3 div.sk-label:hover label.sk-toggleable__label {background-color: #d4ebff;}#sk-container-id-3 div.sk-serial::before {content: \"\";position: absolute;border-left: 1px solid gray;box-sizing: border-box;top: 0;bottom: 0;left: 50%;z-index: 0;}#sk-container-id-3 div.sk-serial {display: flex;flex-direction: column;align-items: center;background-color: white;padding-right: 0.2em;padding-left: 0.2em;position: relative;}#sk-container-id-3 div.sk-item {position: relative;z-index: 1;}#sk-container-id-3 div.sk-parallel {display: flex;align-items: stretch;justify-content: center;background-color: white;position: relative;}#sk-container-id-3 div.sk-item::before, #sk-container-id-3 div.sk-parallel-item::before {content: \"\";position: absolute;border-left: 1px solid gray;box-sizing: border-box;top: 0;bottom: 0;left: 50%;z-index: -1;}#sk-container-id-3 div.sk-parallel-item {display: flex;flex-direction: column;z-index: 1;position: relative;background-color: white;}#sk-container-id-3 div.sk-parallel-item:first-child::after {align-self: flex-end;width: 50%;}#sk-container-id-3 div.sk-parallel-item:last-child::after {align-self: flex-start;width: 50%;}#sk-container-id-3 div.sk-parallel-item:only-child::after {width: 0;}#sk-container-id-3 div.sk-dashed-wrapped {border: 1px dashed gray;margin: 0 0.4em 0.5em 0.4em;box-sizing: border-box;padding-bottom: 0.4em;background-color: white;}#sk-container-id-3 div.sk-label label {font-family: monospace;font-weight: bold;display: inline-block;line-height: 1.2em;}#sk-container-id-3 div.sk-label-container {text-align: center;}#sk-container-id-3 div.sk-container {/* jupyter's `normalize.less` sets `[hidden] { display: none; }` but bootstrap.min.css set `[hidden] { display: none !important; }` so we also need the `!important` here to be able to override the default hidden behavior on the sphinx rendered scikit-learn.org. See: https://github.com/scikit-learn/scikit-learn/issues/21755 */display: inline-block !important;position: relative;}#sk-container-id-3 div.sk-text-repr-fallback {display: none;}</style><div id=\"sk-container-id-3\" class=\"sk-top-container\"><div class=\"sk-text-repr-fallback\"><pre>DecisionTreeClassifier(max_depth=5, max_features=&#x27;log2&#x27;)</pre><b>In a Jupyter environment, please rerun this cell to show the HTML representation or trust the notebook. <br />On GitHub, the HTML representation is unable to render, please try loading this page with nbviewer.org.</b></div><div class=\"sk-container\" hidden><div class=\"sk-item\"><div class=\"sk-estimator sk-toggleable\"><input class=\"sk-toggleable__control sk-hidden--visually\" id=\"sk-estimator-id-5\" type=\"checkbox\" checked><label for=\"sk-estimator-id-5\" class=\"sk-toggleable__label sk-toggleable__label-arrow\">DecisionTreeClassifier</label><div class=\"sk-toggleable__content\"><pre>DecisionTreeClassifier(max_depth=5, max_features=&#x27;log2&#x27;)</pre></div></div></div></div></div>"
      ],
      "text/plain": [
       "DecisionTreeClassifier(max_depth=5, max_features='log2')"
      ]
     },
     "execution_count": 76,
     "metadata": {},
     "output_type": "execute_result"
    }
   ],
   "source": [
    "model"
   ]
  },
  {
   "cell_type": "code",
   "execution_count": 77,
   "id": "1a4ee26e-b38f-4bc3-904b-6c5e042a127a",
   "metadata": {
    "tags": []
   },
   "outputs": [
    {
     "data": {
      "text/html": [
       "<style>#sk-container-id-4 {color: black;background-color: white;}#sk-container-id-4 pre{padding: 0;}#sk-container-id-4 div.sk-toggleable {background-color: white;}#sk-container-id-4 label.sk-toggleable__label {cursor: pointer;display: block;width: 100%;margin-bottom: 0;padding: 0.3em;box-sizing: border-box;text-align: center;}#sk-container-id-4 label.sk-toggleable__label-arrow:before {content: \"▸\";float: left;margin-right: 0.25em;color: #696969;}#sk-container-id-4 label.sk-toggleable__label-arrow:hover:before {color: black;}#sk-container-id-4 div.sk-estimator:hover label.sk-toggleable__label-arrow:before {color: black;}#sk-container-id-4 div.sk-toggleable__content {max-height: 0;max-width: 0;overflow: hidden;text-align: left;background-color: #f0f8ff;}#sk-container-id-4 div.sk-toggleable__content pre {margin: 0.2em;color: black;border-radius: 0.25em;background-color: #f0f8ff;}#sk-container-id-4 input.sk-toggleable__control:checked~div.sk-toggleable__content {max-height: 200px;max-width: 100%;overflow: auto;}#sk-container-id-4 input.sk-toggleable__control:checked~label.sk-toggleable__label-arrow:before {content: \"▾\";}#sk-container-id-4 div.sk-estimator input.sk-toggleable__control:checked~label.sk-toggleable__label {background-color: #d4ebff;}#sk-container-id-4 div.sk-label input.sk-toggleable__control:checked~label.sk-toggleable__label {background-color: #d4ebff;}#sk-container-id-4 input.sk-hidden--visually {border: 0;clip: rect(1px 1px 1px 1px);clip: rect(1px, 1px, 1px, 1px);height: 1px;margin: -1px;overflow: hidden;padding: 0;position: absolute;width: 1px;}#sk-container-id-4 div.sk-estimator {font-family: monospace;background-color: #f0f8ff;border: 1px dotted black;border-radius: 0.25em;box-sizing: border-box;margin-bottom: 0.5em;}#sk-container-id-4 div.sk-estimator:hover {background-color: #d4ebff;}#sk-container-id-4 div.sk-parallel-item::after {content: \"\";width: 100%;border-bottom: 1px solid gray;flex-grow: 1;}#sk-container-id-4 div.sk-label:hover label.sk-toggleable__label {background-color: #d4ebff;}#sk-container-id-4 div.sk-serial::before {content: \"\";position: absolute;border-left: 1px solid gray;box-sizing: border-box;top: 0;bottom: 0;left: 50%;z-index: 0;}#sk-container-id-4 div.sk-serial {display: flex;flex-direction: column;align-items: center;background-color: white;padding-right: 0.2em;padding-left: 0.2em;position: relative;}#sk-container-id-4 div.sk-item {position: relative;z-index: 1;}#sk-container-id-4 div.sk-parallel {display: flex;align-items: stretch;justify-content: center;background-color: white;position: relative;}#sk-container-id-4 div.sk-item::before, #sk-container-id-4 div.sk-parallel-item::before {content: \"\";position: absolute;border-left: 1px solid gray;box-sizing: border-box;top: 0;bottom: 0;left: 50%;z-index: -1;}#sk-container-id-4 div.sk-parallel-item {display: flex;flex-direction: column;z-index: 1;position: relative;background-color: white;}#sk-container-id-4 div.sk-parallel-item:first-child::after {align-self: flex-end;width: 50%;}#sk-container-id-4 div.sk-parallel-item:last-child::after {align-self: flex-start;width: 50%;}#sk-container-id-4 div.sk-parallel-item:only-child::after {width: 0;}#sk-container-id-4 div.sk-dashed-wrapped {border: 1px dashed gray;margin: 0 0.4em 0.5em 0.4em;box-sizing: border-box;padding-bottom: 0.4em;background-color: white;}#sk-container-id-4 div.sk-label label {font-family: monospace;font-weight: bold;display: inline-block;line-height: 1.2em;}#sk-container-id-4 div.sk-label-container {text-align: center;}#sk-container-id-4 div.sk-container {/* jupyter's `normalize.less` sets `[hidden] { display: none; }` but bootstrap.min.css set `[hidden] { display: none !important; }` so we also need the `!important` here to be able to override the default hidden behavior on the sphinx rendered scikit-learn.org. See: https://github.com/scikit-learn/scikit-learn/issues/21755 */display: inline-block !important;position: relative;}#sk-container-id-4 div.sk-text-repr-fallback {display: none;}</style><div id=\"sk-container-id-4\" class=\"sk-top-container\"><div class=\"sk-text-repr-fallback\"><pre>DecisionTreeClassifier(max_depth=5, max_features=&#x27;log2&#x27;)</pre><b>In a Jupyter environment, please rerun this cell to show the HTML representation or trust the notebook. <br />On GitHub, the HTML representation is unable to render, please try loading this page with nbviewer.org.</b></div><div class=\"sk-container\" hidden><div class=\"sk-item\"><div class=\"sk-estimator sk-toggleable\"><input class=\"sk-toggleable__control sk-hidden--visually\" id=\"sk-estimator-id-6\" type=\"checkbox\" checked><label for=\"sk-estimator-id-6\" class=\"sk-toggleable__label sk-toggleable__label-arrow\">DecisionTreeClassifier</label><div class=\"sk-toggleable__content\"><pre>DecisionTreeClassifier(max_depth=5, max_features=&#x27;log2&#x27;)</pre></div></div></div></div></div>"
      ],
      "text/plain": [
       "DecisionTreeClassifier(max_depth=5, max_features='log2')"
      ]
     },
     "execution_count": 77,
     "metadata": {},
     "output_type": "execute_result"
    }
   ],
   "source": [
    "model.fit(X_train , y_train)"
   ]
  },
  {
   "cell_type": "code",
   "execution_count": 78,
   "id": "2f6db062-d896-461c-9567-bc626b38be7e",
   "metadata": {
    "tags": []
   },
   "outputs": [],
   "source": [
    "y_pred=model.predict(X_test)"
   ]
  },
  {
   "cell_type": "code",
   "execution_count": 80,
   "id": "44388a1f-ceb8-4d68-ab64-acb8b13ad11c",
   "metadata": {
    "tags": []
   },
   "outputs": [],
   "source": [
    "from sklearn.metrics import confusion_matrix , classification_report , accuracy_score , precision_score , recall_score , f1_score"
   ]
  },
  {
   "cell_type": "code",
   "execution_count": 81,
   "id": "b27bdfeb-4d6d-4dd3-ad31-6075b55988aa",
   "metadata": {
    "tags": []
   },
   "outputs": [
    {
     "name": "stdout",
     "output_type": "stream",
     "text": [
      "[[109  21]\n",
      " [ 22  40]]\n",
      "              precision    recall  f1-score   support\n",
      "\n",
      "           0       0.83      0.84      0.84       130\n",
      "           1       0.66      0.65      0.65        62\n",
      "\n",
      "    accuracy                           0.78       192\n",
      "   macro avg       0.74      0.74      0.74       192\n",
      "weighted avg       0.78      0.78      0.78       192\n",
      "\n",
      "0.7760416666666666\n",
      "0.6557377049180327\n",
      "0.6451612903225806\n",
      "0.6504065040650406\n"
     ]
    }
   ],
   "source": [
    "print(confusion_matrix(y_test , y_pred))\n",
    "print(classification_report(y_test , y_pred))\n",
    "print(accuracy_score(y_test , y_pred))\n",
    "print(precision_score(y_test , y_pred))\n",
    "print(recall_score(y_test , y_pred))\n",
    "print(f1_score(y_test , y_pred))"
   ]
  },
  {
   "cell_type": "markdown",
   "id": "0c2ea553-7767-4a85-a61b-39bcd006dd92",
   "metadata": {},
   "source": [
    "## SVC"
   ]
  },
  {
   "cell_type": "code",
   "execution_count": 82,
   "id": "56e17b43-f270-462e-bc80-2c876f35b603",
   "metadata": {
    "tags": []
   },
   "outputs": [],
   "source": [
    "## Support Vector Classifier With Hyperparameter Tuning\n",
    "\n",
    "# defining parameter range\n",
    "param_grid = {'C': [0.1, 1, 10],\n",
    "              'gamma': [1, 0.1, 0.01, 0.001, 0.0001],\n",
    "              'kernel':['linear','rbf','polynomial']\n",
    "              }"
   ]
  },
  {
   "cell_type": "code",
   "execution_count": 83,
   "id": "f2799652-cea1-4895-9239-a7da4dfa3de5",
   "metadata": {
    "tags": []
   },
   "outputs": [],
   "source": [
    "svc=SVC()\n",
    "gscv=GridSearchCV(svc , param_grid=param_grid , cv=3 , verbose=3 , scoring='accuracy')"
   ]
  },
  {
   "cell_type": "code",
   "execution_count": 84,
   "id": "ad5d42a5-71b6-4ced-9ce3-6d474dc04f36",
   "metadata": {
    "tags": []
   },
   "outputs": [
    {
     "name": "stdout",
     "output_type": "stream",
     "text": [
      "Fitting 3 folds for each of 45 candidates, totalling 135 fits\n",
      "[CV 1/3] END .....C=0.1, gamma=1, kernel=linear;, score=0.771 total time=   0.5s\n",
      "[CV 2/3] END .....C=0.1, gamma=1, kernel=linear;, score=0.771 total time=   0.1s\n",
      "[CV 3/3] END .....C=0.1, gamma=1, kernel=linear;, score=0.745 total time=   0.0s\n",
      "[CV 1/3] END ........C=0.1, gamma=1, kernel=rbf;, score=0.646 total time=   0.0s\n",
      "[CV 2/3] END ........C=0.1, gamma=1, kernel=rbf;, score=0.641 total time=   0.0s\n",
      "[CV 3/3] END ........C=0.1, gamma=1, kernel=rbf;, score=0.641 total time=   0.0s\n",
      "[CV 1/3] END ...C=0.1, gamma=1, kernel=polynomial;, score=nan total time=   0.0s\n",
      "[CV 2/3] END ...C=0.1, gamma=1, kernel=polynomial;, score=nan total time=   0.0s\n",
      "[CV 3/3] END ...C=0.1, gamma=1, kernel=polynomial;, score=nan total time=   0.0s\n",
      "[CV 1/3] END ...C=0.1, gamma=0.1, kernel=linear;, score=0.771 total time=   0.5s\n",
      "[CV 2/3] END ...C=0.1, gamma=0.1, kernel=linear;, score=0.771 total time=   0.1s\n",
      "[CV 3/3] END ...C=0.1, gamma=0.1, kernel=linear;, score=0.745 total time=   0.0s\n",
      "[CV 1/3] END ......C=0.1, gamma=0.1, kernel=rbf;, score=0.646 total time=   0.0s\n",
      "[CV 2/3] END ......C=0.1, gamma=0.1, kernel=rbf;, score=0.641 total time=   0.0s\n",
      "[CV 3/3] END ......C=0.1, gamma=0.1, kernel=rbf;, score=0.641 total time=   0.0s\n",
      "[CV 1/3] END .C=0.1, gamma=0.1, kernel=polynomial;, score=nan total time=   0.0s\n",
      "[CV 2/3] END .C=0.1, gamma=0.1, kernel=polynomial;, score=nan total time=   0.0s\n",
      "[CV 3/3] END .C=0.1, gamma=0.1, kernel=polynomial;, score=nan total time=   0.0s\n",
      "[CV 1/3] END ..C=0.1, gamma=0.01, kernel=linear;, score=0.771 total time=   0.5s\n",
      "[CV 2/3] END ..C=0.1, gamma=0.01, kernel=linear;, score=0.771 total time=   0.1s\n",
      "[CV 3/3] END ..C=0.1, gamma=0.01, kernel=linear;, score=0.745 total time=   0.0s\n",
      "[CV 1/3] END .....C=0.1, gamma=0.01, kernel=rbf;, score=0.646 total time=   0.0s\n",
      "[CV 2/3] END .....C=0.1, gamma=0.01, kernel=rbf;, score=0.641 total time=   0.0s\n",
      "[CV 3/3] END .....C=0.1, gamma=0.01, kernel=rbf;, score=0.641 total time=   0.0s\n",
      "[CV 1/3] END C=0.1, gamma=0.01, kernel=polynomial;, score=nan total time=   0.0s\n",
      "[CV 2/3] END C=0.1, gamma=0.01, kernel=polynomial;, score=nan total time=   0.0s\n",
      "[CV 3/3] END C=0.1, gamma=0.01, kernel=polynomial;, score=nan total time=   0.0s\n",
      "[CV 1/3] END .C=0.1, gamma=0.001, kernel=linear;, score=0.771 total time=   0.5s\n",
      "[CV 2/3] END .C=0.1, gamma=0.001, kernel=linear;, score=0.771 total time=   0.1s\n",
      "[CV 3/3] END .C=0.1, gamma=0.001, kernel=linear;, score=0.745 total time=   0.1s\n",
      "[CV 1/3] END ....C=0.1, gamma=0.001, kernel=rbf;, score=0.677 total time=   0.0s\n",
      "[CV 2/3] END ....C=0.1, gamma=0.001, kernel=rbf;, score=0.682 total time=   0.0s\n",
      "[CV 3/3] END ....C=0.1, gamma=0.001, kernel=rbf;, score=0.672 total time=   0.0s\n",
      "[CV 1/3] END C=0.1, gamma=0.001, kernel=polynomial;, score=nan total time=   0.0s\n",
      "[CV 2/3] END C=0.1, gamma=0.001, kernel=polynomial;, score=nan total time=   0.0s\n",
      "[CV 3/3] END C=0.1, gamma=0.001, kernel=polynomial;, score=nan total time=   0.0s\n",
      "[CV 1/3] END C=0.1, gamma=0.0001, kernel=linear;, score=0.771 total time=   0.5s\n",
      "[CV 2/3] END C=0.1, gamma=0.0001, kernel=linear;, score=0.771 total time=   0.1s\n",
      "[CV 3/3] END C=0.1, gamma=0.0001, kernel=linear;, score=0.745 total time=   0.0s\n",
      "[CV 1/3] END ...C=0.1, gamma=0.0001, kernel=rbf;, score=0.708 total time=   0.0s\n",
      "[CV 2/3] END ...C=0.1, gamma=0.0001, kernel=rbf;, score=0.740 total time=   0.0s\n",
      "[CV 3/3] END ...C=0.1, gamma=0.0001, kernel=rbf;, score=0.719 total time=   0.0s\n",
      "[CV 1/3] END C=0.1, gamma=0.0001, kernel=polynomial;, score=nan total time=   0.0s\n",
      "[CV 2/3] END C=0.1, gamma=0.0001, kernel=polynomial;, score=nan total time=   0.0s\n",
      "[CV 3/3] END C=0.1, gamma=0.0001, kernel=polynomial;, score=nan total time=   0.0s\n",
      "[CV 1/3] END .......C=1, gamma=1, kernel=linear;, score=0.771 total time=   2.7s\n",
      "[CV 2/3] END .......C=1, gamma=1, kernel=linear;, score=0.776 total time=   1.9s\n",
      "[CV 3/3] END .......C=1, gamma=1, kernel=linear;, score=0.734 total time=   0.8s\n",
      "[CV 1/3] END ..........C=1, gamma=1, kernel=rbf;, score=0.646 total time=   0.0s\n",
      "[CV 2/3] END ..........C=1, gamma=1, kernel=rbf;, score=0.641 total time=   0.0s\n",
      "[CV 3/3] END ..........C=1, gamma=1, kernel=rbf;, score=0.641 total time=   0.0s\n",
      "[CV 1/3] END .....C=1, gamma=1, kernel=polynomial;, score=nan total time=   0.0s\n",
      "[CV 2/3] END .....C=1, gamma=1, kernel=polynomial;, score=nan total time=   0.0s\n",
      "[CV 3/3] END .....C=1, gamma=1, kernel=polynomial;, score=nan total time=   0.0s\n",
      "[CV 1/3] END .....C=1, gamma=0.1, kernel=linear;, score=0.771 total time=   2.7s\n",
      "[CV 2/3] END .....C=1, gamma=0.1, kernel=linear;, score=0.776 total time=   2.1s\n",
      "[CV 3/3] END .....C=1, gamma=0.1, kernel=linear;, score=0.734 total time=   0.9s\n",
      "[CV 1/3] END ........C=1, gamma=0.1, kernel=rbf;, score=0.646 total time=   0.0s\n",
      "[CV 2/3] END ........C=1, gamma=0.1, kernel=rbf;, score=0.641 total time=   0.0s\n",
      "[CV 3/3] END ........C=1, gamma=0.1, kernel=rbf;, score=0.641 total time=   0.0s\n",
      "[CV 1/3] END ...C=1, gamma=0.1, kernel=polynomial;, score=nan total time=   0.0s\n",
      "[CV 2/3] END ...C=1, gamma=0.1, kernel=polynomial;, score=nan total time=   0.0s\n",
      "[CV 3/3] END ...C=1, gamma=0.1, kernel=polynomial;, score=nan total time=   0.0s\n",
      "[CV 1/3] END ....C=1, gamma=0.01, kernel=linear;, score=0.771 total time=   2.8s\n",
      "[CV 2/3] END ....C=1, gamma=0.01, kernel=linear;, score=0.776 total time=   1.9s\n",
      "[CV 3/3] END ....C=1, gamma=0.01, kernel=linear;, score=0.734 total time=   0.8s\n",
      "[CV 1/3] END .......C=1, gamma=0.01, kernel=rbf;, score=0.661 total time=   0.0s\n",
      "[CV 2/3] END .......C=1, gamma=0.01, kernel=rbf;, score=0.646 total time=   0.0s\n",
      "[CV 3/3] END .......C=1, gamma=0.01, kernel=rbf;, score=0.656 total time=   0.0s\n",
      "[CV 1/3] END ..C=1, gamma=0.01, kernel=polynomial;, score=nan total time=   0.0s\n",
      "[CV 2/3] END ..C=1, gamma=0.01, kernel=polynomial;, score=nan total time=   0.0s\n",
      "[CV 3/3] END ..C=1, gamma=0.01, kernel=polynomial;, score=nan total time=   0.0s\n",
      "[CV 1/3] END ...C=1, gamma=0.001, kernel=linear;, score=0.771 total time=   2.6s\n",
      "[CV 2/3] END ...C=1, gamma=0.001, kernel=linear;, score=0.776 total time=   1.9s\n",
      "[CV 3/3] END ...C=1, gamma=0.001, kernel=linear;, score=0.734 total time=   0.8s\n",
      "[CV 1/3] END ......C=1, gamma=0.001, kernel=rbf;, score=0.708 total time=   0.0s\n",
      "[CV 2/3] END ......C=1, gamma=0.001, kernel=rbf;, score=0.719 total time=   0.0s\n",
      "[CV 3/3] END ......C=1, gamma=0.001, kernel=rbf;, score=0.703 total time=   0.0s\n",
      "[CV 1/3] END .C=1, gamma=0.001, kernel=polynomial;, score=nan total time=   0.0s\n",
      "[CV 2/3] END .C=1, gamma=0.001, kernel=polynomial;, score=nan total time=   0.0s\n",
      "[CV 3/3] END .C=1, gamma=0.001, kernel=polynomial;, score=nan total time=   0.0s\n",
      "[CV 1/3] END ..C=1, gamma=0.0001, kernel=linear;, score=0.771 total time=   2.6s\n",
      "[CV 2/3] END ..C=1, gamma=0.0001, kernel=linear;, score=0.776 total time=   1.9s\n",
      "[CV 3/3] END ..C=1, gamma=0.0001, kernel=linear;, score=0.734 total time=   0.8s\n",
      "[CV 1/3] END .....C=1, gamma=0.0001, kernel=rbf;, score=0.750 total time=   0.0s\n",
      "[CV 2/3] END .....C=1, gamma=0.0001, kernel=rbf;, score=0.760 total time=   0.0s\n",
      "[CV 3/3] END .....C=1, gamma=0.0001, kernel=rbf;, score=0.755 total time=   0.0s\n",
      "[CV 1/3] END C=1, gamma=0.0001, kernel=polynomial;, score=nan total time=   0.0s\n",
      "[CV 2/3] END C=1, gamma=0.0001, kernel=polynomial;, score=nan total time=   0.0s\n",
      "[CV 3/3] END C=1, gamma=0.0001, kernel=polynomial;, score=nan total time=   0.0s\n",
      "[CV 1/3] END ......C=10, gamma=1, kernel=linear;, score=0.771 total time=  25.2s\n",
      "[CV 2/3] END ......C=10, gamma=1, kernel=linear;, score=0.776 total time=  13.5s\n",
      "[CV 3/3] END ......C=10, gamma=1, kernel=linear;, score=0.740 total time=   7.0s\n",
      "[CV 1/3] END .........C=10, gamma=1, kernel=rbf;, score=0.646 total time=   0.0s\n",
      "[CV 2/3] END .........C=10, gamma=1, kernel=rbf;, score=0.641 total time=   0.0s\n",
      "[CV 3/3] END .........C=10, gamma=1, kernel=rbf;, score=0.641 total time=   0.0s\n",
      "[CV 1/3] END ....C=10, gamma=1, kernel=polynomial;, score=nan total time=   0.0s\n",
      "[CV 2/3] END ....C=10, gamma=1, kernel=polynomial;, score=nan total time=   0.0s\n",
      "[CV 3/3] END ....C=10, gamma=1, kernel=polynomial;, score=nan total time=   0.0s\n",
      "[CV 1/3] END ....C=10, gamma=0.1, kernel=linear;, score=0.771 total time=  24.3s\n",
      "[CV 2/3] END ....C=10, gamma=0.1, kernel=linear;, score=0.776 total time=  14.6s\n",
      "[CV 3/3] END ....C=10, gamma=0.1, kernel=linear;, score=0.740 total time=   7.0s\n",
      "[CV 1/3] END .......C=10, gamma=0.1, kernel=rbf;, score=0.646 total time=   0.0s\n",
      "[CV 2/3] END .......C=10, gamma=0.1, kernel=rbf;, score=0.641 total time=   0.0s\n",
      "[CV 3/3] END .......C=10, gamma=0.1, kernel=rbf;, score=0.641 total time=   0.0s\n",
      "[CV 1/3] END ..C=10, gamma=0.1, kernel=polynomial;, score=nan total time=   0.0s\n",
      "[CV 2/3] END ..C=10, gamma=0.1, kernel=polynomial;, score=nan total time=   0.0s\n",
      "[CV 3/3] END ..C=10, gamma=0.1, kernel=polynomial;, score=nan total time=   0.0s\n",
      "[CV 1/3] END ...C=10, gamma=0.01, kernel=linear;, score=0.771 total time=  24.1s\n",
      "[CV 2/3] END ...C=10, gamma=0.01, kernel=linear;, score=0.776 total time=  13.9s\n",
      "[CV 3/3] END ...C=10, gamma=0.01, kernel=linear;, score=0.740 total time=   8.2s\n",
      "[CV 1/3] END ......C=10, gamma=0.01, kernel=rbf;, score=0.667 total time=   0.0s\n",
      "[CV 2/3] END ......C=10, gamma=0.01, kernel=rbf;, score=0.641 total time=   0.0s\n",
      "[CV 3/3] END ......C=10, gamma=0.01, kernel=rbf;, score=0.646 total time=   0.0s\n",
      "[CV 1/3] END .C=10, gamma=0.01, kernel=polynomial;, score=nan total time=   0.0s\n",
      "[CV 2/3] END .C=10, gamma=0.01, kernel=polynomial;, score=nan total time=   0.0s\n",
      "[CV 3/3] END .C=10, gamma=0.01, kernel=polynomial;, score=nan total time=   0.0s\n",
      "[CV 1/3] END ..C=10, gamma=0.001, kernel=linear;, score=0.771 total time=  28.7s\n",
      "[CV 2/3] END ..C=10, gamma=0.001, kernel=linear;, score=0.776 total time=  16.2s\n",
      "[CV 3/3] END ..C=10, gamma=0.001, kernel=linear;, score=0.740 total time=   8.3s\n",
      "[CV 1/3] END .....C=10, gamma=0.001, kernel=rbf;, score=0.708 total time=   0.0s\n",
      "[CV 2/3] END .....C=10, gamma=0.001, kernel=rbf;, score=0.682 total time=   0.0s\n",
      "[CV 3/3] END .....C=10, gamma=0.001, kernel=rbf;, score=0.677 total time=   0.0s\n",
      "[CV 1/3] END C=10, gamma=0.001, kernel=polynomial;, score=nan total time=   0.0s\n",
      "[CV 2/3] END C=10, gamma=0.001, kernel=polynomial;, score=nan total time=   0.0s\n",
      "[CV 3/3] END C=10, gamma=0.001, kernel=polynomial;, score=nan total time=   0.0s\n",
      "[CV 1/3] END .C=10, gamma=0.0001, kernel=linear;, score=0.771 total time=  29.4s\n",
      "[CV 2/3] END .C=10, gamma=0.0001, kernel=linear;, score=0.776 total time=  14.7s\n",
      "[CV 3/3] END .C=10, gamma=0.0001, kernel=linear;, score=0.740 total time=   7.8s\n",
      "[CV 1/3] END ....C=10, gamma=0.0001, kernel=rbf;, score=0.724 total time=   0.0s\n",
      "[CV 2/3] END ....C=10, gamma=0.0001, kernel=rbf;, score=0.760 total time=   0.0s\n",
      "[CV 3/3] END ....C=10, gamma=0.0001, kernel=rbf;, score=0.724 total time=   0.0s\n",
      "[CV 1/3] END C=10, gamma=0.0001, kernel=polynomial;, score=nan total time=   0.0s\n",
      "[CV 2/3] END C=10, gamma=0.0001, kernel=polynomial;, score=nan total time=   0.0s\n",
      "[CV 3/3] END C=10, gamma=0.0001, kernel=polynomial;, score=nan total time=   0.0s\n"
     ]
    },
    {
     "data": {
      "text/html": [
       "<style>#sk-container-id-5 {color: black;background-color: white;}#sk-container-id-5 pre{padding: 0;}#sk-container-id-5 div.sk-toggleable {background-color: white;}#sk-container-id-5 label.sk-toggleable__label {cursor: pointer;display: block;width: 100%;margin-bottom: 0;padding: 0.3em;box-sizing: border-box;text-align: center;}#sk-container-id-5 label.sk-toggleable__label-arrow:before {content: \"▸\";float: left;margin-right: 0.25em;color: #696969;}#sk-container-id-5 label.sk-toggleable__label-arrow:hover:before {color: black;}#sk-container-id-5 div.sk-estimator:hover label.sk-toggleable__label-arrow:before {color: black;}#sk-container-id-5 div.sk-toggleable__content {max-height: 0;max-width: 0;overflow: hidden;text-align: left;background-color: #f0f8ff;}#sk-container-id-5 div.sk-toggleable__content pre {margin: 0.2em;color: black;border-radius: 0.25em;background-color: #f0f8ff;}#sk-container-id-5 input.sk-toggleable__control:checked~div.sk-toggleable__content {max-height: 200px;max-width: 100%;overflow: auto;}#sk-container-id-5 input.sk-toggleable__control:checked~label.sk-toggleable__label-arrow:before {content: \"▾\";}#sk-container-id-5 div.sk-estimator input.sk-toggleable__control:checked~label.sk-toggleable__label {background-color: #d4ebff;}#sk-container-id-5 div.sk-label input.sk-toggleable__control:checked~label.sk-toggleable__label {background-color: #d4ebff;}#sk-container-id-5 input.sk-hidden--visually {border: 0;clip: rect(1px 1px 1px 1px);clip: rect(1px, 1px, 1px, 1px);height: 1px;margin: -1px;overflow: hidden;padding: 0;position: absolute;width: 1px;}#sk-container-id-5 div.sk-estimator {font-family: monospace;background-color: #f0f8ff;border: 1px dotted black;border-radius: 0.25em;box-sizing: border-box;margin-bottom: 0.5em;}#sk-container-id-5 div.sk-estimator:hover {background-color: #d4ebff;}#sk-container-id-5 div.sk-parallel-item::after {content: \"\";width: 100%;border-bottom: 1px solid gray;flex-grow: 1;}#sk-container-id-5 div.sk-label:hover label.sk-toggleable__label {background-color: #d4ebff;}#sk-container-id-5 div.sk-serial::before {content: \"\";position: absolute;border-left: 1px solid gray;box-sizing: border-box;top: 0;bottom: 0;left: 50%;z-index: 0;}#sk-container-id-5 div.sk-serial {display: flex;flex-direction: column;align-items: center;background-color: white;padding-right: 0.2em;padding-left: 0.2em;position: relative;}#sk-container-id-5 div.sk-item {position: relative;z-index: 1;}#sk-container-id-5 div.sk-parallel {display: flex;align-items: stretch;justify-content: center;background-color: white;position: relative;}#sk-container-id-5 div.sk-item::before, #sk-container-id-5 div.sk-parallel-item::before {content: \"\";position: absolute;border-left: 1px solid gray;box-sizing: border-box;top: 0;bottom: 0;left: 50%;z-index: -1;}#sk-container-id-5 div.sk-parallel-item {display: flex;flex-direction: column;z-index: 1;position: relative;background-color: white;}#sk-container-id-5 div.sk-parallel-item:first-child::after {align-self: flex-end;width: 50%;}#sk-container-id-5 div.sk-parallel-item:last-child::after {align-self: flex-start;width: 50%;}#sk-container-id-5 div.sk-parallel-item:only-child::after {width: 0;}#sk-container-id-5 div.sk-dashed-wrapped {border: 1px dashed gray;margin: 0 0.4em 0.5em 0.4em;box-sizing: border-box;padding-bottom: 0.4em;background-color: white;}#sk-container-id-5 div.sk-label label {font-family: monospace;font-weight: bold;display: inline-block;line-height: 1.2em;}#sk-container-id-5 div.sk-label-container {text-align: center;}#sk-container-id-5 div.sk-container {/* jupyter's `normalize.less` sets `[hidden] { display: none; }` but bootstrap.min.css set `[hidden] { display: none !important; }` so we also need the `!important` here to be able to override the default hidden behavior on the sphinx rendered scikit-learn.org. See: https://github.com/scikit-learn/scikit-learn/issues/21755 */display: inline-block !important;position: relative;}#sk-container-id-5 div.sk-text-repr-fallback {display: none;}</style><div id=\"sk-container-id-5\" class=\"sk-top-container\"><div class=\"sk-text-repr-fallback\"><pre>GridSearchCV(cv=3, estimator=SVC(),\n",
       "             param_grid={&#x27;C&#x27;: [0.1, 1, 10],\n",
       "                         &#x27;gamma&#x27;: [1, 0.1, 0.01, 0.001, 0.0001],\n",
       "                         &#x27;kernel&#x27;: [&#x27;linear&#x27;, &#x27;rbf&#x27;, &#x27;polynomial&#x27;]},\n",
       "             scoring=&#x27;accuracy&#x27;, verbose=3)</pre><b>In a Jupyter environment, please rerun this cell to show the HTML representation or trust the notebook. <br />On GitHub, the HTML representation is unable to render, please try loading this page with nbviewer.org.</b></div><div class=\"sk-container\" hidden><div class=\"sk-item sk-dashed-wrapped\"><div class=\"sk-label-container\"><div class=\"sk-label sk-toggleable\"><input class=\"sk-toggleable__control sk-hidden--visually\" id=\"sk-estimator-id-7\" type=\"checkbox\" ><label for=\"sk-estimator-id-7\" class=\"sk-toggleable__label sk-toggleable__label-arrow\">GridSearchCV</label><div class=\"sk-toggleable__content\"><pre>GridSearchCV(cv=3, estimator=SVC(),\n",
       "             param_grid={&#x27;C&#x27;: [0.1, 1, 10],\n",
       "                         &#x27;gamma&#x27;: [1, 0.1, 0.01, 0.001, 0.0001],\n",
       "                         &#x27;kernel&#x27;: [&#x27;linear&#x27;, &#x27;rbf&#x27;, &#x27;polynomial&#x27;]},\n",
       "             scoring=&#x27;accuracy&#x27;, verbose=3)</pre></div></div></div><div class=\"sk-parallel\"><div class=\"sk-parallel-item\"><div class=\"sk-item\"><div class=\"sk-label-container\"><div class=\"sk-label sk-toggleable\"><input class=\"sk-toggleable__control sk-hidden--visually\" id=\"sk-estimator-id-8\" type=\"checkbox\" ><label for=\"sk-estimator-id-8\" class=\"sk-toggleable__label sk-toggleable__label-arrow\">estimator: SVC</label><div class=\"sk-toggleable__content\"><pre>SVC()</pre></div></div></div><div class=\"sk-serial\"><div class=\"sk-item\"><div class=\"sk-estimator sk-toggleable\"><input class=\"sk-toggleable__control sk-hidden--visually\" id=\"sk-estimator-id-9\" type=\"checkbox\" ><label for=\"sk-estimator-id-9\" class=\"sk-toggleable__label sk-toggleable__label-arrow\">SVC</label><div class=\"sk-toggleable__content\"><pre>SVC()</pre></div></div></div></div></div></div></div></div></div></div>"
      ],
      "text/plain": [
       "GridSearchCV(cv=3, estimator=SVC(),\n",
       "             param_grid={'C': [0.1, 1, 10],\n",
       "                         'gamma': [1, 0.1, 0.01, 0.001, 0.0001],\n",
       "                         'kernel': ['linear', 'rbf', 'polynomial']},\n",
       "             scoring='accuracy', verbose=3)"
      ]
     },
     "execution_count": 84,
     "metadata": {},
     "output_type": "execute_result"
    }
   ],
   "source": [
    "gscv.fit(X_train , y_train)"
   ]
  },
  {
   "cell_type": "code",
   "execution_count": 85,
   "id": "e5bc8ca2-1081-4f8f-9db8-13c60bca9828",
   "metadata": {
    "tags": []
   },
   "outputs": [
    {
     "data": {
      "text/plain": [
       "{'C': 0.1, 'gamma': 1, 'kernel': 'linear'}"
      ]
     },
     "execution_count": 85,
     "metadata": {},
     "output_type": "execute_result"
    }
   ],
   "source": [
    "gscv.best_params_"
   ]
  },
  {
   "cell_type": "code",
   "execution_count": 86,
   "id": "8795db15-b528-46d7-a756-7b4ef98027f2",
   "metadata": {
    "tags": []
   },
   "outputs": [
    {
     "data": {
      "text/plain": [
       "0.7621527777777778"
      ]
     },
     "execution_count": 86,
     "metadata": {},
     "output_type": "execute_result"
    }
   ],
   "source": [
    "gscv.best_score_"
   ]
  },
  {
   "cell_type": "code",
   "execution_count": 89,
   "id": "dd4c2833-a38e-48bf-b352-6b18fd6ea609",
   "metadata": {
    "tags": []
   },
   "outputs": [],
   "source": [
    "svc=SVC(C=0.1 , gamma=1 , kernel='linear')"
   ]
  },
  {
   "cell_type": "code",
   "execution_count": 90,
   "id": "f1b0c271-00e8-4cc2-b3f2-401b5e39771f",
   "metadata": {
    "tags": []
   },
   "outputs": [
    {
     "data": {
      "text/html": [
       "<style>#sk-container-id-7 {color: black;background-color: white;}#sk-container-id-7 pre{padding: 0;}#sk-container-id-7 div.sk-toggleable {background-color: white;}#sk-container-id-7 label.sk-toggleable__label {cursor: pointer;display: block;width: 100%;margin-bottom: 0;padding: 0.3em;box-sizing: border-box;text-align: center;}#sk-container-id-7 label.sk-toggleable__label-arrow:before {content: \"▸\";float: left;margin-right: 0.25em;color: #696969;}#sk-container-id-7 label.sk-toggleable__label-arrow:hover:before {color: black;}#sk-container-id-7 div.sk-estimator:hover label.sk-toggleable__label-arrow:before {color: black;}#sk-container-id-7 div.sk-toggleable__content {max-height: 0;max-width: 0;overflow: hidden;text-align: left;background-color: #f0f8ff;}#sk-container-id-7 div.sk-toggleable__content pre {margin: 0.2em;color: black;border-radius: 0.25em;background-color: #f0f8ff;}#sk-container-id-7 input.sk-toggleable__control:checked~div.sk-toggleable__content {max-height: 200px;max-width: 100%;overflow: auto;}#sk-container-id-7 input.sk-toggleable__control:checked~label.sk-toggleable__label-arrow:before {content: \"▾\";}#sk-container-id-7 div.sk-estimator input.sk-toggleable__control:checked~label.sk-toggleable__label {background-color: #d4ebff;}#sk-container-id-7 div.sk-label input.sk-toggleable__control:checked~label.sk-toggleable__label {background-color: #d4ebff;}#sk-container-id-7 input.sk-hidden--visually {border: 0;clip: rect(1px 1px 1px 1px);clip: rect(1px, 1px, 1px, 1px);height: 1px;margin: -1px;overflow: hidden;padding: 0;position: absolute;width: 1px;}#sk-container-id-7 div.sk-estimator {font-family: monospace;background-color: #f0f8ff;border: 1px dotted black;border-radius: 0.25em;box-sizing: border-box;margin-bottom: 0.5em;}#sk-container-id-7 div.sk-estimator:hover {background-color: #d4ebff;}#sk-container-id-7 div.sk-parallel-item::after {content: \"\";width: 100%;border-bottom: 1px solid gray;flex-grow: 1;}#sk-container-id-7 div.sk-label:hover label.sk-toggleable__label {background-color: #d4ebff;}#sk-container-id-7 div.sk-serial::before {content: \"\";position: absolute;border-left: 1px solid gray;box-sizing: border-box;top: 0;bottom: 0;left: 50%;z-index: 0;}#sk-container-id-7 div.sk-serial {display: flex;flex-direction: column;align-items: center;background-color: white;padding-right: 0.2em;padding-left: 0.2em;position: relative;}#sk-container-id-7 div.sk-item {position: relative;z-index: 1;}#sk-container-id-7 div.sk-parallel {display: flex;align-items: stretch;justify-content: center;background-color: white;position: relative;}#sk-container-id-7 div.sk-item::before, #sk-container-id-7 div.sk-parallel-item::before {content: \"\";position: absolute;border-left: 1px solid gray;box-sizing: border-box;top: 0;bottom: 0;left: 50%;z-index: -1;}#sk-container-id-7 div.sk-parallel-item {display: flex;flex-direction: column;z-index: 1;position: relative;background-color: white;}#sk-container-id-7 div.sk-parallel-item:first-child::after {align-self: flex-end;width: 50%;}#sk-container-id-7 div.sk-parallel-item:last-child::after {align-self: flex-start;width: 50%;}#sk-container-id-7 div.sk-parallel-item:only-child::after {width: 0;}#sk-container-id-7 div.sk-dashed-wrapped {border: 1px dashed gray;margin: 0 0.4em 0.5em 0.4em;box-sizing: border-box;padding-bottom: 0.4em;background-color: white;}#sk-container-id-7 div.sk-label label {font-family: monospace;font-weight: bold;display: inline-block;line-height: 1.2em;}#sk-container-id-7 div.sk-label-container {text-align: center;}#sk-container-id-7 div.sk-container {/* jupyter's `normalize.less` sets `[hidden] { display: none; }` but bootstrap.min.css set `[hidden] { display: none !important; }` so we also need the `!important` here to be able to override the default hidden behavior on the sphinx rendered scikit-learn.org. See: https://github.com/scikit-learn/scikit-learn/issues/21755 */display: inline-block !important;position: relative;}#sk-container-id-7 div.sk-text-repr-fallback {display: none;}</style><div id=\"sk-container-id-7\" class=\"sk-top-container\"><div class=\"sk-text-repr-fallback\"><pre>SVC(C=0.1, gamma=1, kernel=&#x27;linear&#x27;)</pre><b>In a Jupyter environment, please rerun this cell to show the HTML representation or trust the notebook. <br />On GitHub, the HTML representation is unable to render, please try loading this page with nbviewer.org.</b></div><div class=\"sk-container\" hidden><div class=\"sk-item\"><div class=\"sk-estimator sk-toggleable\"><input class=\"sk-toggleable__control sk-hidden--visually\" id=\"sk-estimator-id-11\" type=\"checkbox\" checked><label for=\"sk-estimator-id-11\" class=\"sk-toggleable__label sk-toggleable__label-arrow\">SVC</label><div class=\"sk-toggleable__content\"><pre>SVC(C=0.1, gamma=1, kernel=&#x27;linear&#x27;)</pre></div></div></div></div></div>"
      ],
      "text/plain": [
       "SVC(C=0.1, gamma=1, kernel='linear')"
      ]
     },
     "execution_count": 90,
     "metadata": {},
     "output_type": "execute_result"
    }
   ],
   "source": [
    "svc.fit(X_train , y_train)"
   ]
  },
  {
   "cell_type": "code",
   "execution_count": 91,
   "id": "6768081b-6fe6-43db-9bdc-608629701ecf",
   "metadata": {
    "tags": []
   },
   "outputs": [],
   "source": [
    "y_pred=svc.predict(X_test)"
   ]
  },
  {
   "cell_type": "code",
   "execution_count": 92,
   "id": "90e5cb6c-c5a2-4bfa-b0f6-8ade43e4eac5",
   "metadata": {
    "tags": []
   },
   "outputs": [
    {
     "name": "stdout",
     "output_type": "stream",
     "text": [
      "[[117  13]\n",
      " [ 27  35]]\n",
      "              precision    recall  f1-score   support\n",
      "\n",
      "           0       0.81      0.90      0.85       130\n",
      "           1       0.73      0.56      0.64        62\n",
      "\n",
      "    accuracy                           0.79       192\n",
      "   macro avg       0.77      0.73      0.75       192\n",
      "weighted avg       0.79      0.79      0.78       192\n",
      "\n",
      "0.7916666666666666\n",
      "0.7291666666666666\n",
      "0.5645161290322581\n",
      "0.6363636363636364\n"
     ]
    }
   ],
   "source": [
    "print(confusion_matrix(y_test , y_pred))\n",
    "print(classification_report(y_test , y_pred))\n",
    "print(accuracy_score(y_test , y_pred))\n",
    "print(precision_score(y_test , y_pred))\n",
    "print(recall_score(y_test , y_pred))\n",
    "print(f1_score(y_test , y_pred))"
   ]
  },
  {
   "cell_type": "code",
   "execution_count": 93,
   "id": "0fa9f8fa-c4ef-4951-809d-bcd17c7e596b",
   "metadata": {
    "tags": []
   },
   "outputs": [],
   "source": [
    "import pickle\n",
    "\n",
    "file=open('model.pkl' , 'wb')\n",
    "pickle.dump(svc , file)\n",
    "file.close()"
   ]
  },
  {
   "cell_type": "markdown",
   "id": "57f61438-def1-482a-80fc-5bb90cb14c5e",
   "metadata": {},
   "source": [
    "## Logistic Regression"
   ]
  },
  {
   "cell_type": "code",
   "execution_count": 96,
   "id": "24fdad84-2916-4fcc-a114-fc0ee0f79988",
   "metadata": {
    "tags": []
   },
   "outputs": [],
   "source": [
    "from sklearn.linear_model import LogisticRegression\n",
    "lr=LogisticRegression()"
   ]
  },
  {
   "cell_type": "code",
   "execution_count": 95,
   "id": "0c56b24a-66e7-44b1-9621-2c21a6177036",
   "metadata": {
    "tags": []
   },
   "outputs": [],
   "source": [
    "param_grid = {\n",
    "    'penalty': ['l1', 'l2'],\n",
    "    'C': [0.01, 0.1, 1, 10, 100],\n",
    "    'solver': ['liblinear', 'saga'],\n",
    "    'class_weight': [None, 'balanced'],\n",
    "    'max_iter': [100, 200, 500]\n",
    "}\n"
   ]
  },
  {
   "cell_type": "code",
   "execution_count": 97,
   "id": "66933fe4-5f9b-4df4-8f7c-9b1dbeb9cd7d",
   "metadata": {
    "tags": []
   },
   "outputs": [],
   "source": [
    "gscv_lg=GridSearchCV(lr , param_grid=param_grid , cv=3 , refit =True , verbose =3 , scoring='accuracy')"
   ]
  },
  {
   "cell_type": "code",
   "execution_count": 98,
   "id": "edc1c7f7-9417-4c61-a076-2787219505dd",
   "metadata": {
    "tags": []
   },
   "outputs": [
    {
     "name": "stdout",
     "output_type": "stream",
     "text": [
      "Fitting 3 folds for each of 120 candidates, totalling 360 fits\n",
      "[CV 1/3] END C=0.01, class_weight=None, max_iter=100, penalty=l1, solver=liblinear;, score=0.688 total time=   0.0s\n",
      "[CV 2/3] END C=0.01, class_weight=None, max_iter=100, penalty=l1, solver=liblinear;, score=0.734 total time=   0.0s\n",
      "[CV 3/3] END C=0.01, class_weight=None, max_iter=100, penalty=l1, solver=liblinear;, score=0.708 total time=   0.0s\n",
      "[CV 1/3] END C=0.01, class_weight=None, max_iter=100, penalty=l1, solver=saga;, score=0.688 total time=   0.0s\n",
      "[CV 2/3] END C=0.01, class_weight=None, max_iter=100, penalty=l1, solver=saga;, score=0.734 total time=   0.0s\n",
      "[CV 3/3] END C=0.01, class_weight=None, max_iter=100, penalty=l1, solver=saga;, score=0.703 total time=   0.0s\n",
      "[CV 1/3] END C=0.01, class_weight=None, max_iter=100, penalty=l2, solver=liblinear;, score=0.714 total time=   0.0s\n",
      "[CV 2/3] END C=0.01, class_weight=None, max_iter=100, penalty=l2, solver=liblinear;, score=0.766 total time=   0.0s\n",
      "[CV 3/3] END C=0.01, class_weight=None, max_iter=100, penalty=l2, solver=liblinear;, score=0.641 total time=   0.0s\n",
      "[CV 1/3] END C=0.01, class_weight=None, max_iter=100, penalty=l2, solver=saga;, score=0.703 total time=   0.0s\n",
      "[CV 2/3] END C=0.01, class_weight=None, max_iter=100, penalty=l2, solver=saga;, score=0.750 total time=   0.0s\n",
      "[CV 3/3] END C=0.01, class_weight=None, max_iter=100, penalty=l2, solver=saga;, score=0.693 total time=   0.0s\n",
      "[CV 1/3] END C=0.01, class_weight=None, max_iter=200, penalty=l1, solver=liblinear;, score=0.688 total time=   0.0s\n",
      "[CV 2/3] END C=0.01, class_weight=None, max_iter=200, penalty=l1, solver=liblinear;, score=0.734 total time=   0.0s\n",
      "[CV 3/3] END C=0.01, class_weight=None, max_iter=200, penalty=l1, solver=liblinear;, score=0.708 total time=   0.0s\n",
      "[CV 1/3] END C=0.01, class_weight=None, max_iter=200, penalty=l1, solver=saga;, score=0.688 total time=   0.0s\n",
      "[CV 2/3] END C=0.01, class_weight=None, max_iter=200, penalty=l1, solver=saga;, score=0.734 total time=   0.0s\n",
      "[CV 3/3] END C=0.01, class_weight=None, max_iter=200, penalty=l1, solver=saga;, score=0.708 total time=   0.0s\n",
      "[CV 1/3] END C=0.01, class_weight=None, max_iter=200, penalty=l2, solver=liblinear;, score=0.714 total time=   0.0s\n",
      "[CV 2/3] END C=0.01, class_weight=None, max_iter=200, penalty=l2, solver=liblinear;, score=0.766 total time=   0.0s\n",
      "[CV 3/3] END C=0.01, class_weight=None, max_iter=200, penalty=l2, solver=liblinear;, score=0.641 total time=   0.0s\n",
      "[CV 1/3] END C=0.01, class_weight=None, max_iter=200, penalty=l2, solver=saga;, score=0.698 total time=   0.0s\n",
      "[CV 2/3] END C=0.01, class_weight=None, max_iter=200, penalty=l2, solver=saga;, score=0.760 total time=   0.0s\n",
      "[CV 3/3] END C=0.01, class_weight=None, max_iter=200, penalty=l2, solver=saga;, score=0.661 total time=   0.0s\n",
      "[CV 1/3] END C=0.01, class_weight=None, max_iter=500, penalty=l1, solver=liblinear;, score=0.688 total time=   0.0s\n",
      "[CV 2/3] END C=0.01, class_weight=None, max_iter=500, penalty=l1, solver=liblinear;, score=0.734 total time=   0.0s\n",
      "[CV 3/3] END C=0.01, class_weight=None, max_iter=500, penalty=l1, solver=liblinear;, score=0.708 total time=   0.0s\n",
      "[CV 1/3] END C=0.01, class_weight=None, max_iter=500, penalty=l1, solver=saga;, score=0.688 total time=   0.0s\n",
      "[CV 2/3] END C=0.01, class_weight=None, max_iter=500, penalty=l1, solver=saga;, score=0.734 total time=   0.0s\n",
      "[CV 3/3] END C=0.01, class_weight=None, max_iter=500, penalty=l1, solver=saga;, score=0.708 total time=   0.0s\n",
      "[CV 1/3] END C=0.01, class_weight=None, max_iter=500, penalty=l2, solver=liblinear;, score=0.714 total time=   0.0s\n",
      "[CV 2/3] END C=0.01, class_weight=None, max_iter=500, penalty=l2, solver=liblinear;, score=0.766 total time=   0.0s\n",
      "[CV 3/3] END C=0.01, class_weight=None, max_iter=500, penalty=l2, solver=liblinear;, score=0.641 total time=   0.0s\n",
      "[CV 1/3] END C=0.01, class_weight=None, max_iter=500, penalty=l2, solver=saga;, score=0.693 total time=   0.0s\n",
      "[CV 2/3] END C=0.01, class_weight=None, max_iter=500, penalty=l2, solver=saga;, score=0.766 total time=   0.0s\n",
      "[CV 3/3] END C=0.01, class_weight=None, max_iter=500, penalty=l2, solver=saga;, score=0.656 total time=   0.0s\n",
      "[CV 1/3] END C=0.01, class_weight=balanced, max_iter=100, penalty=l1, solver=liblinear;, score=0.661 total time=   0.0s\n",
      "[CV 2/3] END C=0.01, class_weight=balanced, max_iter=100, penalty=l1, solver=liblinear;, score=0.661 total time=   0.0s\n",
      "[CV 3/3] END C=0.01, class_weight=balanced, max_iter=100, penalty=l1, solver=liblinear;, score=0.604 total time=   0.0s\n",
      "[CV 1/3] END C=0.01, class_weight=balanced, max_iter=100, penalty=l1, solver=saga;, score=0.656 total time=   0.0s\n",
      "[CV 2/3] END C=0.01, class_weight=balanced, max_iter=100, penalty=l1, solver=saga;, score=0.661 total time=   0.0s\n",
      "[CV 3/3] END C=0.01, class_weight=balanced, max_iter=100, penalty=l1, solver=saga;, score=0.604 total time=   0.0s\n",
      "[CV 1/3] END C=0.01, class_weight=balanced, max_iter=100, penalty=l2, solver=liblinear;, score=0.698 total time=   0.0s\n",
      "[CV 2/3] END C=0.01, class_weight=balanced, max_iter=100, penalty=l2, solver=liblinear;, score=0.708 total time=   0.0s\n",
      "[CV 3/3] END C=0.01, class_weight=balanced, max_iter=100, penalty=l2, solver=liblinear;, score=0.609 total time=   0.0s\n",
      "[CV 1/3] END C=0.01, class_weight=balanced, max_iter=100, penalty=l2, solver=saga;, score=0.667 total time=   0.0s\n",
      "[CV 2/3] END C=0.01, class_weight=balanced, max_iter=100, penalty=l2, solver=saga;, score=0.693 total time=   0.0s\n",
      "[CV 3/3] END C=0.01, class_weight=balanced, max_iter=100, penalty=l2, solver=saga;, score=0.604 total time=   0.0s\n",
      "[CV 1/3] END C=0.01, class_weight=balanced, max_iter=200, penalty=l1, solver=liblinear;, score=0.661 total time=   0.0s\n",
      "[CV 2/3] END C=0.01, class_weight=balanced, max_iter=200, penalty=l1, solver=liblinear;, score=0.661 total time=   0.0s\n",
      "[CV 3/3] END C=0.01, class_weight=balanced, max_iter=200, penalty=l1, solver=liblinear;, score=0.604 total time=   0.0s\n",
      "[CV 1/3] END C=0.01, class_weight=balanced, max_iter=200, penalty=l1, solver=saga;, score=0.667 total time=   0.0s\n",
      "[CV 2/3] END C=0.01, class_weight=balanced, max_iter=200, penalty=l1, solver=saga;, score=0.661 total time=   0.0s\n",
      "[CV 3/3] END C=0.01, class_weight=balanced, max_iter=200, penalty=l1, solver=saga;, score=0.604 total time=   0.0s\n",
      "[CV 1/3] END C=0.01, class_weight=balanced, max_iter=200, penalty=l2, solver=liblinear;, score=0.698 total time=   0.0s\n",
      "[CV 2/3] END C=0.01, class_weight=balanced, max_iter=200, penalty=l2, solver=liblinear;, score=0.708 total time=   0.0s\n",
      "[CV 3/3] END C=0.01, class_weight=balanced, max_iter=200, penalty=l2, solver=liblinear;, score=0.609 total time=   0.0s\n",
      "[CV 1/3] END C=0.01, class_weight=balanced, max_iter=200, penalty=l2, solver=saga;, score=0.677 total time=   0.0s\n",
      "[CV 2/3] END C=0.01, class_weight=balanced, max_iter=200, penalty=l2, solver=saga;, score=0.688 total time=   0.0s\n",
      "[CV 3/3] END C=0.01, class_weight=balanced, max_iter=200, penalty=l2, solver=saga;, score=0.604 total time=   0.0s\n",
      "[CV 1/3] END C=0.01, class_weight=balanced, max_iter=500, penalty=l1, solver=liblinear;, score=0.661 total time=   0.0s\n",
      "[CV 2/3] END C=0.01, class_weight=balanced, max_iter=500, penalty=l1, solver=liblinear;, score=0.661 total time=   0.0s\n",
      "[CV 3/3] END C=0.01, class_weight=balanced, max_iter=500, penalty=l1, solver=liblinear;, score=0.604 total time=   0.0s\n",
      "[CV 1/3] END C=0.01, class_weight=balanced, max_iter=500, penalty=l1, solver=saga;, score=0.667 total time=   0.0s\n",
      "[CV 2/3] END C=0.01, class_weight=balanced, max_iter=500, penalty=l1, solver=saga;, score=0.661 total time=   0.0s\n",
      "[CV 3/3] END C=0.01, class_weight=balanced, max_iter=500, penalty=l1, solver=saga;, score=0.604 total time=   0.0s\n",
      "[CV 1/3] END C=0.01, class_weight=balanced, max_iter=500, penalty=l2, solver=liblinear;, score=0.698 total time=   0.0s\n",
      "[CV 2/3] END C=0.01, class_weight=balanced, max_iter=500, penalty=l2, solver=liblinear;, score=0.708 total time=   0.0s\n",
      "[CV 3/3] END C=0.01, class_weight=balanced, max_iter=500, penalty=l2, solver=liblinear;, score=0.609 total time=   0.0s\n",
      "[CV 1/3] END C=0.01, class_weight=balanced, max_iter=500, penalty=l2, solver=saga;, score=0.703 total time=   0.0s\n",
      "[CV 2/3] END C=0.01, class_weight=balanced, max_iter=500, penalty=l2, solver=saga;, score=0.703 total time=   0.0s\n",
      "[CV 3/3] END C=0.01, class_weight=balanced, max_iter=500, penalty=l2, solver=saga;, score=0.609 total time=   0.0s\n",
      "[CV 1/3] END C=0.1, class_weight=None, max_iter=100, penalty=l1, solver=liblinear;, score=0.708 total time=   0.0s\n",
      "[CV 2/3] END C=0.1, class_weight=None, max_iter=100, penalty=l1, solver=liblinear;, score=0.781 total time=   0.0s\n",
      "[CV 3/3] END C=0.1, class_weight=None, max_iter=100, penalty=l1, solver=liblinear;, score=0.635 total time=   0.0s\n",
      "[CV 1/3] END C=0.1, class_weight=None, max_iter=100, penalty=l1, solver=saga;, score=0.698 total time=   0.0s\n",
      "[CV 2/3] END C=0.1, class_weight=None, max_iter=100, penalty=l1, solver=saga;, score=0.750 total time=   0.0s\n",
      "[CV 3/3] END C=0.1, class_weight=None, max_iter=100, penalty=l1, solver=saga;, score=0.698 total time=   0.0s\n",
      "[CV 1/3] END C=0.1, class_weight=None, max_iter=100, penalty=l2, solver=liblinear;, score=0.708 total time=   0.0s\n",
      "[CV 2/3] END C=0.1, class_weight=None, max_iter=100, penalty=l2, solver=liblinear;, score=0.771 total time=   0.0s\n",
      "[CV 3/3] END C=0.1, class_weight=None, max_iter=100, penalty=l2, solver=liblinear;, score=0.672 total time=   0.0s\n",
      "[CV 1/3] END C=0.1, class_weight=None, max_iter=100, penalty=l2, solver=saga;, score=0.703 total time=   0.0s\n",
      "[CV 2/3] END C=0.1, class_weight=None, max_iter=100, penalty=l2, solver=saga;, score=0.750 total time=   0.0s\n",
      "[CV 3/3] END C=0.1, class_weight=None, max_iter=100, penalty=l2, solver=saga;, score=0.698 total time=   0.0s\n",
      "[CV 1/3] END C=0.1, class_weight=None, max_iter=200, penalty=l1, solver=liblinear;, score=0.708 total time=   0.0s\n",
      "[CV 2/3] END C=0.1, class_weight=None, max_iter=200, penalty=l1, solver=liblinear;, score=0.781 total time=   0.0s\n",
      "[CV 3/3] END C=0.1, class_weight=None, max_iter=200, penalty=l1, solver=liblinear;, score=0.635 total time=   0.0s\n",
      "[CV 1/3] END C=0.1, class_weight=None, max_iter=200, penalty=l1, solver=saga;, score=0.693 total time=   0.0s\n",
      "[CV 2/3] END C=0.1, class_weight=None, max_iter=200, penalty=l1, solver=saga;, score=0.755 total time=   0.0s\n",
      "[CV 3/3] END C=0.1, class_weight=None, max_iter=200, penalty=l1, solver=saga;, score=0.672 total time=   0.0s\n",
      "[CV 1/3] END C=0.1, class_weight=None, max_iter=200, penalty=l2, solver=liblinear;, score=0.708 total time=   0.0s\n",
      "[CV 2/3] END C=0.1, class_weight=None, max_iter=200, penalty=l2, solver=liblinear;, score=0.771 total time=   0.0s\n",
      "[CV 3/3] END C=0.1, class_weight=None, max_iter=200, penalty=l2, solver=liblinear;, score=0.672 total time=   0.0s\n",
      "[CV 1/3] END C=0.1, class_weight=None, max_iter=200, penalty=l2, solver=saga;, score=0.703 total time=   0.0s\n",
      "[CV 2/3] END C=0.1, class_weight=None, max_iter=200, penalty=l2, solver=saga;, score=0.760 total time=   0.0s\n",
      "[CV 3/3] END C=0.1, class_weight=None, max_iter=200, penalty=l2, solver=saga;, score=0.661 total time=   0.0s\n",
      "[CV 1/3] END C=0.1, class_weight=None, max_iter=500, penalty=l1, solver=liblinear;, score=0.708 total time=   0.0s\n",
      "[CV 2/3] END C=0.1, class_weight=None, max_iter=500, penalty=l1, solver=liblinear;, score=0.781 total time=   0.0s\n",
      "[CV 3/3] END C=0.1, class_weight=None, max_iter=500, penalty=l1, solver=liblinear;, score=0.635 total time=   0.0s\n",
      "[CV 1/3] END C=0.1, class_weight=None, max_iter=500, penalty=l1, solver=saga;, score=0.698 total time=   0.0s\n",
      "[CV 2/3] END C=0.1, class_weight=None, max_iter=500, penalty=l1, solver=saga;, score=0.771 total time=   0.0s\n",
      "[CV 3/3] END C=0.1, class_weight=None, max_iter=500, penalty=l1, solver=saga;, score=0.651 total time=   0.0s\n",
      "[CV 1/3] END C=0.1, class_weight=None, max_iter=500, penalty=l2, solver=liblinear;, score=0.708 total time=   0.0s\n",
      "[CV 2/3] END C=0.1, class_weight=None, max_iter=500, penalty=l2, solver=liblinear;, score=0.771 total time=   0.0s\n",
      "[CV 3/3] END C=0.1, class_weight=None, max_iter=500, penalty=l2, solver=liblinear;, score=0.672 total time=   0.0s\n",
      "[CV 1/3] END C=0.1, class_weight=None, max_iter=500, penalty=l2, solver=saga;, score=0.698 total time=   0.0s\n",
      "[CV 2/3] END C=0.1, class_weight=None, max_iter=500, penalty=l2, solver=saga;, score=0.766 total time=   0.0s\n",
      "[CV 3/3] END C=0.1, class_weight=None, max_iter=500, penalty=l2, solver=saga;, score=0.661 total time=   0.0s\n",
      "[CV 1/3] END C=0.1, class_weight=balanced, max_iter=100, penalty=l1, solver=liblinear;, score=0.703 total time=   0.0s\n",
      "[CV 2/3] END C=0.1, class_weight=balanced, max_iter=100, penalty=l1, solver=liblinear;, score=0.724 total time=   0.0s\n",
      "[CV 3/3] END C=0.1, class_weight=balanced, max_iter=100, penalty=l1, solver=liblinear;, score=0.615 total time=   0.0s\n",
      "[CV 1/3] END C=0.1, class_weight=balanced, max_iter=100, penalty=l1, solver=saga;, score=0.667 total time=   0.0s\n",
      "[CV 2/3] END C=0.1, class_weight=balanced, max_iter=100, penalty=l1, solver=saga;, score=0.688 total time=   0.0s\n",
      "[CV 3/3] END C=0.1, class_weight=balanced, max_iter=100, penalty=l1, solver=saga;, score=0.609 total time=   0.0s\n",
      "[CV 1/3] END C=0.1, class_weight=balanced, max_iter=100, penalty=l2, solver=liblinear;, score=0.708 total time=   0.0s\n",
      "[CV 2/3] END C=0.1, class_weight=balanced, max_iter=100, penalty=l2, solver=liblinear;, score=0.740 total time=   0.0s\n",
      "[CV 3/3] END C=0.1, class_weight=balanced, max_iter=100, penalty=l2, solver=liblinear;, score=0.646 total time=   0.0s\n",
      "[CV 1/3] END C=0.1, class_weight=balanced, max_iter=100, penalty=l2, solver=saga;, score=0.667 total time=   0.0s\n",
      "[CV 2/3] END C=0.1, class_weight=balanced, max_iter=100, penalty=l2, solver=saga;, score=0.693 total time=   0.0s\n",
      "[CV 3/3] END C=0.1, class_weight=balanced, max_iter=100, penalty=l2, solver=saga;, score=0.609 total time=   0.0s\n",
      "[CV 1/3] END C=0.1, class_weight=balanced, max_iter=200, penalty=l1, solver=liblinear;, score=0.703 total time=   0.0s\n",
      "[CV 2/3] END C=0.1, class_weight=balanced, max_iter=200, penalty=l1, solver=liblinear;, score=0.724 total time=   0.0s\n",
      "[CV 3/3] END C=0.1, class_weight=balanced, max_iter=200, penalty=l1, solver=liblinear;, score=0.615 total time=   0.0s\n",
      "[CV 1/3] END C=0.1, class_weight=balanced, max_iter=200, penalty=l1, solver=saga;, score=0.667 total time=   0.0s\n",
      "[CV 2/3] END C=0.1, class_weight=balanced, max_iter=200, penalty=l1, solver=saga;, score=0.703 total time=   0.0s\n",
      "[CV 3/3] END C=0.1, class_weight=balanced, max_iter=200, penalty=l1, solver=saga;, score=0.604 total time=   0.0s\n",
      "[CV 1/3] END C=0.1, class_weight=balanced, max_iter=200, penalty=l2, solver=liblinear;, score=0.708 total time=   0.0s\n",
      "[CV 2/3] END C=0.1, class_weight=balanced, max_iter=200, penalty=l2, solver=liblinear;, score=0.740 total time=   0.0s\n",
      "[CV 3/3] END C=0.1, class_weight=balanced, max_iter=200, penalty=l2, solver=liblinear;, score=0.646 total time=   0.0s\n",
      "[CV 1/3] END C=0.1, class_weight=balanced, max_iter=200, penalty=l2, solver=saga;, score=0.682 total time=   0.0s\n",
      "[CV 2/3] END C=0.1, class_weight=balanced, max_iter=200, penalty=l2, solver=saga;, score=0.698 total time=   0.0s\n",
      "[CV 3/3] END C=0.1, class_weight=balanced, max_iter=200, penalty=l2, solver=saga;, score=0.604 total time=   0.0s\n",
      "[CV 1/3] END C=0.1, class_weight=balanced, max_iter=500, penalty=l1, solver=liblinear;, score=0.703 total time=   0.0s\n",
      "[CV 2/3] END C=0.1, class_weight=balanced, max_iter=500, penalty=l1, solver=liblinear;, score=0.724 total time=   0.0s\n",
      "[CV 3/3] END C=0.1, class_weight=balanced, max_iter=500, penalty=l1, solver=liblinear;, score=0.615 total time=   0.0s\n",
      "[CV 1/3] END C=0.1, class_weight=balanced, max_iter=500, penalty=l1, solver=saga;, score=0.688 total time=   0.0s\n",
      "[CV 2/3] END C=0.1, class_weight=balanced, max_iter=500, penalty=l1, solver=saga;, score=0.703 total time=   0.0s\n",
      "[CV 3/3] END C=0.1, class_weight=balanced, max_iter=500, penalty=l1, solver=saga;, score=0.609 total time=   0.0s\n",
      "[CV 1/3] END C=0.1, class_weight=balanced, max_iter=500, penalty=l2, solver=liblinear;, score=0.708 total time=   0.0s\n",
      "[CV 2/3] END C=0.1, class_weight=balanced, max_iter=500, penalty=l2, solver=liblinear;, score=0.740 total time=   0.0s\n",
      "[CV 3/3] END C=0.1, class_weight=balanced, max_iter=500, penalty=l2, solver=liblinear;, score=0.646 total time=   0.0s\n",
      "[CV 1/3] END C=0.1, class_weight=balanced, max_iter=500, penalty=l2, solver=saga;, score=0.698 total time=   0.0s\n",
      "[CV 2/3] END C=0.1, class_weight=balanced, max_iter=500, penalty=l2, solver=saga;, score=0.703 total time=   0.0s\n",
      "[CV 3/3] END C=0.1, class_weight=balanced, max_iter=500, penalty=l2, solver=saga;, score=0.609 total time=   0.0s\n",
      "[CV 1/3] END C=1, class_weight=None, max_iter=100, penalty=l1, solver=liblinear;, score=0.771 total time=   0.0s\n",
      "[CV 2/3] END C=1, class_weight=None, max_iter=100, penalty=l1, solver=liblinear;, score=0.776 total time=   0.0s\n",
      "[CV 3/3] END C=1, class_weight=None, max_iter=100, penalty=l1, solver=liblinear;, score=0.745 total time=   0.0s\n",
      "[CV 1/3] END C=1, class_weight=None, max_iter=100, penalty=l1, solver=saga;, score=0.703 total time=   0.0s\n",
      "[CV 2/3] END C=1, class_weight=None, max_iter=100, penalty=l1, solver=saga;, score=0.750 total time=   0.0s\n",
      "[CV 3/3] END C=1, class_weight=None, max_iter=100, penalty=l1, solver=saga;, score=0.698 total time=   0.0s\n",
      "[CV 1/3] END C=1, class_weight=None, max_iter=100, penalty=l2, solver=liblinear;, score=0.760 total time=   0.0s\n",
      "[CV 2/3] END C=1, class_weight=None, max_iter=100, penalty=l2, solver=liblinear;, score=0.797 total time=   0.0s\n",
      "[CV 3/3] END C=1, class_weight=None, max_iter=100, penalty=l2, solver=liblinear;, score=0.698 total time=   0.0s\n",
      "[CV 1/3] END C=1, class_weight=None, max_iter=100, penalty=l2, solver=saga;, score=0.703 total time=   0.0s\n",
      "[CV 2/3] END C=1, class_weight=None, max_iter=100, penalty=l2, solver=saga;, score=0.750 total time=   0.0s\n",
      "[CV 3/3] END C=1, class_weight=None, max_iter=100, penalty=l2, solver=saga;, score=0.698 total time=   0.0s\n",
      "[CV 1/3] END C=1, class_weight=None, max_iter=200, penalty=l1, solver=liblinear;, score=0.771 total time=   0.0s\n",
      "[CV 2/3] END C=1, class_weight=None, max_iter=200, penalty=l1, solver=liblinear;, score=0.776 total time=   0.0s\n",
      "[CV 3/3] END C=1, class_weight=None, max_iter=200, penalty=l1, solver=liblinear;, score=0.745 total time=   0.0s\n",
      "[CV 1/3] END C=1, class_weight=None, max_iter=200, penalty=l1, solver=saga;, score=0.698 total time=   0.0s\n",
      "[CV 2/3] END C=1, class_weight=None, max_iter=200, penalty=l1, solver=saga;, score=0.760 total time=   0.0s\n",
      "[CV 3/3] END C=1, class_weight=None, max_iter=200, penalty=l1, solver=saga;, score=0.661 total time=   0.0s\n",
      "[CV 1/3] END C=1, class_weight=None, max_iter=200, penalty=l2, solver=liblinear;, score=0.760 total time=   0.0s\n",
      "[CV 2/3] END C=1, class_weight=None, max_iter=200, penalty=l2, solver=liblinear;, score=0.797 total time=   0.0s\n",
      "[CV 3/3] END C=1, class_weight=None, max_iter=200, penalty=l2, solver=liblinear;, score=0.698 total time=   0.0s\n",
      "[CV 1/3] END C=1, class_weight=None, max_iter=200, penalty=l2, solver=saga;, score=0.703 total time=   0.0s\n",
      "[CV 2/3] END C=1, class_weight=None, max_iter=200, penalty=l2, solver=saga;, score=0.760 total time=   0.0s\n",
      "[CV 3/3] END C=1, class_weight=None, max_iter=200, penalty=l2, solver=saga;, score=0.661 total time=   0.0s\n",
      "[CV 1/3] END C=1, class_weight=None, max_iter=500, penalty=l1, solver=liblinear;, score=0.771 total time=   0.0s\n",
      "[CV 2/3] END C=1, class_weight=None, max_iter=500, penalty=l1, solver=liblinear;, score=0.776 total time=   0.0s\n",
      "[CV 3/3] END C=1, class_weight=None, max_iter=500, penalty=l1, solver=liblinear;, score=0.745 total time=   0.0s\n",
      "[CV 1/3] END C=1, class_weight=None, max_iter=500, penalty=l1, solver=saga;, score=0.693 total time=   0.0s\n",
      "[CV 2/3] END C=1, class_weight=None, max_iter=500, penalty=l1, solver=saga;, score=0.766 total time=   0.0s\n",
      "[CV 3/3] END C=1, class_weight=None, max_iter=500, penalty=l1, solver=saga;, score=0.656 total time=   0.0s\n",
      "[CV 1/3] END C=1, class_weight=None, max_iter=500, penalty=l2, solver=liblinear;, score=0.760 total time=   0.0s\n",
      "[CV 2/3] END C=1, class_weight=None, max_iter=500, penalty=l2, solver=liblinear;, score=0.797 total time=   0.0s\n",
      "[CV 3/3] END C=1, class_weight=None, max_iter=500, penalty=l2, solver=liblinear;, score=0.698 total time=   0.0s\n",
      "[CV 1/3] END C=1, class_weight=None, max_iter=500, penalty=l2, solver=saga;, score=0.698 total time=   0.0s\n",
      "[CV 2/3] END C=1, class_weight=None, max_iter=500, penalty=l2, solver=saga;, score=0.766 total time=   0.0s\n",
      "[CV 3/3] END C=1, class_weight=None, max_iter=500, penalty=l2, solver=saga;, score=0.661 total time=   0.0s\n",
      "[CV 1/3] END C=1, class_weight=balanced, max_iter=100, penalty=l1, solver=liblinear;, score=0.760 total time=   0.0s\n",
      "[CV 2/3] END C=1, class_weight=balanced, max_iter=100, penalty=l1, solver=liblinear;, score=0.776 total time=   0.0s\n",
      "[CV 3/3] END C=1, class_weight=balanced, max_iter=100, penalty=l1, solver=liblinear;, score=0.745 total time=   0.0s\n",
      "[CV 1/3] END C=1, class_weight=balanced, max_iter=100, penalty=l1, solver=saga;, score=0.667 total time=   0.0s\n",
      "[CV 2/3] END C=1, class_weight=balanced, max_iter=100, penalty=l1, solver=saga;, score=0.693 total time=   0.0s\n",
      "[CV 3/3] END C=1, class_weight=balanced, max_iter=100, penalty=l1, solver=saga;, score=0.604 total time=   0.0s\n",
      "[CV 1/3] END C=1, class_weight=balanced, max_iter=100, penalty=l2, solver=liblinear;, score=0.719 total time=   0.0s\n",
      "[CV 2/3] END C=1, class_weight=balanced, max_iter=100, penalty=l2, solver=liblinear;, score=0.781 total time=   0.0s\n",
      "[CV 3/3] END C=1, class_weight=balanced, max_iter=100, penalty=l2, solver=liblinear;, score=0.719 total time=   0.0s\n",
      "[CV 1/3] END C=1, class_weight=balanced, max_iter=100, penalty=l2, solver=saga;, score=0.667 total time=   0.0s\n",
      "[CV 2/3] END C=1, class_weight=balanced, max_iter=100, penalty=l2, solver=saga;, score=0.693 total time=   0.0s\n",
      "[CV 3/3] END C=1, class_weight=balanced, max_iter=100, penalty=l2, solver=saga;, score=0.609 total time=   0.0s\n",
      "[CV 1/3] END C=1, class_weight=balanced, max_iter=200, penalty=l1, solver=liblinear;, score=0.760 total time=   0.0s\n",
      "[CV 2/3] END C=1, class_weight=balanced, max_iter=200, penalty=l1, solver=liblinear;, score=0.776 total time=   0.0s\n",
      "[CV 3/3] END C=1, class_weight=balanced, max_iter=200, penalty=l1, solver=liblinear;, score=0.745 total time=   0.0s\n",
      "[CV 1/3] END C=1, class_weight=balanced, max_iter=200, penalty=l1, solver=saga;, score=0.682 total time=   0.0s\n",
      "[CV 2/3] END C=1, class_weight=balanced, max_iter=200, penalty=l1, solver=saga;, score=0.688 total time=   0.0s\n",
      "[CV 3/3] END C=1, class_weight=balanced, max_iter=200, penalty=l1, solver=saga;, score=0.604 total time=   0.0s\n",
      "[CV 1/3] END C=1, class_weight=balanced, max_iter=200, penalty=l2, solver=liblinear;, score=0.719 total time=   0.0s\n",
      "[CV 2/3] END C=1, class_weight=balanced, max_iter=200, penalty=l2, solver=liblinear;, score=0.781 total time=   0.0s\n",
      "[CV 3/3] END C=1, class_weight=balanced, max_iter=200, penalty=l2, solver=liblinear;, score=0.719 total time=   0.0s\n",
      "[CV 1/3] END C=1, class_weight=balanced, max_iter=200, penalty=l2, solver=saga;, score=0.682 total time=   0.0s\n",
      "[CV 2/3] END C=1, class_weight=balanced, max_iter=200, penalty=l2, solver=saga;, score=0.698 total time=   0.0s\n",
      "[CV 3/3] END C=1, class_weight=balanced, max_iter=200, penalty=l2, solver=saga;, score=0.609 total time=   0.0s\n",
      "[CV 1/3] END C=1, class_weight=balanced, max_iter=500, penalty=l1, solver=liblinear;, score=0.760 total time=   0.0s\n",
      "[CV 2/3] END C=1, class_weight=balanced, max_iter=500, penalty=l1, solver=liblinear;, score=0.776 total time=   0.0s\n",
      "[CV 3/3] END C=1, class_weight=balanced, max_iter=500, penalty=l1, solver=liblinear;, score=0.745 total time=   0.0s\n",
      "[CV 1/3] END C=1, class_weight=balanced, max_iter=500, penalty=l1, solver=saga;, score=0.698 total time=   0.0s\n",
      "[CV 2/3] END C=1, class_weight=balanced, max_iter=500, penalty=l1, solver=saga;, score=0.703 total time=   0.0s\n",
      "[CV 3/3] END C=1, class_weight=balanced, max_iter=500, penalty=l1, solver=saga;, score=0.609 total time=   0.0s\n",
      "[CV 1/3] END C=1, class_weight=balanced, max_iter=500, penalty=l2, solver=liblinear;, score=0.719 total time=   0.0s\n",
      "[CV 2/3] END C=1, class_weight=balanced, max_iter=500, penalty=l2, solver=liblinear;, score=0.781 total time=   0.0s\n",
      "[CV 3/3] END C=1, class_weight=balanced, max_iter=500, penalty=l2, solver=liblinear;, score=0.719 total time=   0.0s\n",
      "[CV 1/3] END C=1, class_weight=balanced, max_iter=500, penalty=l2, solver=saga;, score=0.693 total time=   0.0s\n",
      "[CV 2/3] END C=1, class_weight=balanced, max_iter=500, penalty=l2, solver=saga;, score=0.703 total time=   0.0s\n",
      "[CV 3/3] END C=1, class_weight=balanced, max_iter=500, penalty=l2, solver=saga;, score=0.609 total time=   0.0s\n",
      "[CV 1/3] END C=10, class_weight=None, max_iter=100, penalty=l1, solver=liblinear;, score=0.786 total time=   0.0s\n",
      "[CV 2/3] END C=10, class_weight=None, max_iter=100, penalty=l1, solver=liblinear;, score=0.771 total time=   0.0s\n",
      "[CV 3/3] END C=10, class_weight=None, max_iter=100, penalty=l1, solver=liblinear;, score=0.755 total time=   0.0s\n",
      "[CV 1/3] END C=10, class_weight=None, max_iter=100, penalty=l1, solver=saga;, score=0.703 total time=   0.0s\n",
      "[CV 2/3] END C=10, class_weight=None, max_iter=100, penalty=l1, solver=saga;, score=0.750 total time=   0.0s\n",
      "[CV 3/3] END C=10, class_weight=None, max_iter=100, penalty=l1, solver=saga;, score=0.698 total time=   0.0s\n",
      "[CV 1/3] END C=10, class_weight=None, max_iter=100, penalty=l2, solver=liblinear;, score=0.771 total time=   0.0s\n",
      "[CV 2/3] END C=10, class_weight=None, max_iter=100, penalty=l2, solver=liblinear;, score=0.776 total time=   0.0s\n",
      "[CV 3/3] END C=10, class_weight=None, max_iter=100, penalty=l2, solver=liblinear;, score=0.750 total time=   0.0s\n",
      "[CV 1/3] END C=10, class_weight=None, max_iter=100, penalty=l2, solver=saga;, score=0.703 total time=   0.0s\n",
      "[CV 2/3] END C=10, class_weight=None, max_iter=100, penalty=l2, solver=saga;, score=0.750 total time=   0.0s\n",
      "[CV 3/3] END C=10, class_weight=None, max_iter=100, penalty=l2, solver=saga;, score=0.698 total time=   0.0s\n",
      "[CV 1/3] END C=10, class_weight=None, max_iter=200, penalty=l1, solver=liblinear;, score=0.786 total time=   0.0s\n",
      "[CV 2/3] END C=10, class_weight=None, max_iter=200, penalty=l1, solver=liblinear;, score=0.771 total time=   0.0s\n",
      "[CV 3/3] END C=10, class_weight=None, max_iter=200, penalty=l1, solver=liblinear;, score=0.755 total time=   0.0s\n",
      "[CV 1/3] END C=10, class_weight=None, max_iter=200, penalty=l1, solver=saga;, score=0.703 total time=   0.0s\n",
      "[CV 2/3] END C=10, class_weight=None, max_iter=200, penalty=l1, solver=saga;, score=0.760 total time=   0.0s\n",
      "[CV 3/3] END C=10, class_weight=None, max_iter=200, penalty=l1, solver=saga;, score=0.661 total time=   0.0s\n",
      "[CV 1/3] END C=10, class_weight=None, max_iter=200, penalty=l2, solver=liblinear;, score=0.771 total time=   0.0s\n",
      "[CV 2/3] END C=10, class_weight=None, max_iter=200, penalty=l2, solver=liblinear;, score=0.776 total time=   0.0s\n",
      "[CV 3/3] END C=10, class_weight=None, max_iter=200, penalty=l2, solver=liblinear;, score=0.750 total time=   0.0s\n",
      "[CV 1/3] END C=10, class_weight=None, max_iter=200, penalty=l2, solver=saga;, score=0.703 total time=   0.0s\n",
      "[CV 2/3] END C=10, class_weight=None, max_iter=200, penalty=l2, solver=saga;, score=0.760 total time=   0.0s\n",
      "[CV 3/3] END C=10, class_weight=None, max_iter=200, penalty=l2, solver=saga;, score=0.661 total time=   0.0s\n",
      "[CV 1/3] END C=10, class_weight=None, max_iter=500, penalty=l1, solver=liblinear;, score=0.786 total time=   0.0s\n",
      "[CV 2/3] END C=10, class_weight=None, max_iter=500, penalty=l1, solver=liblinear;, score=0.771 total time=   0.0s\n",
      "[CV 3/3] END C=10, class_weight=None, max_iter=500, penalty=l1, solver=liblinear;, score=0.755 total time=   0.0s\n",
      "[CV 1/3] END C=10, class_weight=None, max_iter=500, penalty=l1, solver=saga;, score=0.698 total time=   0.0s\n",
      "[CV 2/3] END C=10, class_weight=None, max_iter=500, penalty=l1, solver=saga;, score=0.766 total time=   0.0s\n",
      "[CV 3/3] END C=10, class_weight=None, max_iter=500, penalty=l1, solver=saga;, score=0.661 total time=   0.0s\n",
      "[CV 1/3] END C=10, class_weight=None, max_iter=500, penalty=l2, solver=liblinear;, score=0.771 total time=   0.0s\n",
      "[CV 2/3] END C=10, class_weight=None, max_iter=500, penalty=l2, solver=liblinear;, score=0.776 total time=   0.0s\n",
      "[CV 3/3] END C=10, class_weight=None, max_iter=500, penalty=l2, solver=liblinear;, score=0.750 total time=   0.0s\n",
      "[CV 1/3] END C=10, class_weight=None, max_iter=500, penalty=l2, solver=saga;, score=0.698 total time=   0.0s\n",
      "[CV 2/3] END C=10, class_weight=None, max_iter=500, penalty=l2, solver=saga;, score=0.766 total time=   0.0s\n",
      "[CV 3/3] END C=10, class_weight=None, max_iter=500, penalty=l2, solver=saga;, score=0.661 total time=   0.0s\n",
      "[CV 1/3] END C=10, class_weight=balanced, max_iter=100, penalty=l1, solver=liblinear;, score=0.745 total time=   0.0s\n",
      "[CV 2/3] END C=10, class_weight=balanced, max_iter=100, penalty=l1, solver=liblinear;, score=0.755 total time=   0.0s\n",
      "[CV 3/3] END C=10, class_weight=balanced, max_iter=100, penalty=l1, solver=liblinear;, score=0.740 total time=   0.0s\n",
      "[CV 1/3] END C=10, class_weight=balanced, max_iter=100, penalty=l1, solver=saga;, score=0.667 total time=   0.0s\n",
      "[CV 2/3] END C=10, class_weight=balanced, max_iter=100, penalty=l1, solver=saga;, score=0.693 total time=   0.0s\n",
      "[CV 3/3] END C=10, class_weight=balanced, max_iter=100, penalty=l1, solver=saga;, score=0.609 total time=   0.0s\n",
      "[CV 1/3] END C=10, class_weight=balanced, max_iter=100, penalty=l2, solver=liblinear;, score=0.745 total time=   0.0s\n",
      "[CV 2/3] END C=10, class_weight=balanced, max_iter=100, penalty=l2, solver=liblinear;, score=0.776 total time=   0.0s\n",
      "[CV 3/3] END C=10, class_weight=balanced, max_iter=100, penalty=l2, solver=liblinear;, score=0.740 total time=   0.0s\n",
      "[CV 1/3] END C=10, class_weight=balanced, max_iter=100, penalty=l2, solver=saga;, score=0.667 total time=   0.0s\n",
      "[CV 2/3] END C=10, class_weight=balanced, max_iter=100, penalty=l2, solver=saga;, score=0.693 total time=   0.0s\n",
      "[CV 3/3] END C=10, class_weight=balanced, max_iter=100, penalty=l2, solver=saga;, score=0.609 total time=   0.0s\n",
      "[CV 1/3] END C=10, class_weight=balanced, max_iter=200, penalty=l1, solver=liblinear;, score=0.745 total time=   0.0s\n",
      "[CV 2/3] END C=10, class_weight=balanced, max_iter=200, penalty=l1, solver=liblinear;, score=0.755 total time=   0.0s\n",
      "[CV 3/3] END C=10, class_weight=balanced, max_iter=200, penalty=l1, solver=liblinear;, score=0.740 total time=   0.0s\n",
      "[CV 1/3] END C=10, class_weight=balanced, max_iter=200, penalty=l1, solver=saga;, score=0.682 total time=   0.0s\n",
      "[CV 2/3] END C=10, class_weight=balanced, max_iter=200, penalty=l1, solver=saga;, score=0.693 total time=   0.0s\n",
      "[CV 3/3] END C=10, class_weight=balanced, max_iter=200, penalty=l1, solver=saga;, score=0.604 total time=   0.0s\n",
      "[CV 1/3] END C=10, class_weight=balanced, max_iter=200, penalty=l2, solver=liblinear;, score=0.745 total time=   0.0s\n",
      "[CV 2/3] END C=10, class_weight=balanced, max_iter=200, penalty=l2, solver=liblinear;, score=0.776 total time=   0.0s\n",
      "[CV 3/3] END C=10, class_weight=balanced, max_iter=200, penalty=l2, solver=liblinear;, score=0.740 total time=   0.0s\n",
      "[CV 1/3] END C=10, class_weight=balanced, max_iter=200, penalty=l2, solver=saga;, score=0.682 total time=   0.0s\n",
      "[CV 2/3] END C=10, class_weight=balanced, max_iter=200, penalty=l2, solver=saga;, score=0.698 total time=   0.0s\n",
      "[CV 3/3] END C=10, class_weight=balanced, max_iter=200, penalty=l2, solver=saga;, score=0.615 total time=   0.0s\n",
      "[CV 1/3] END C=10, class_weight=balanced, max_iter=500, penalty=l1, solver=liblinear;, score=0.745 total time=   0.0s\n",
      "[CV 2/3] END C=10, class_weight=balanced, max_iter=500, penalty=l1, solver=liblinear;, score=0.755 total time=   0.0s\n",
      "[CV 3/3] END C=10, class_weight=balanced, max_iter=500, penalty=l1, solver=liblinear;, score=0.740 total time=   0.0s\n",
      "[CV 1/3] END C=10, class_weight=balanced, max_iter=500, penalty=l1, solver=saga;, score=0.698 total time=   0.0s\n",
      "[CV 2/3] END C=10, class_weight=balanced, max_iter=500, penalty=l1, solver=saga;, score=0.703 total time=   0.0s\n",
      "[CV 3/3] END C=10, class_weight=balanced, max_iter=500, penalty=l1, solver=saga;, score=0.609 total time=   0.0s\n",
      "[CV 1/3] END C=10, class_weight=balanced, max_iter=500, penalty=l2, solver=liblinear;, score=0.745 total time=   0.0s\n",
      "[CV 2/3] END C=10, class_weight=balanced, max_iter=500, penalty=l2, solver=liblinear;, score=0.776 total time=   0.0s\n",
      "[CV 3/3] END C=10, class_weight=balanced, max_iter=500, penalty=l2, solver=liblinear;, score=0.740 total time=   0.0s\n",
      "[CV 1/3] END C=10, class_weight=balanced, max_iter=500, penalty=l2, solver=saga;, score=0.698 total time=   0.0s\n",
      "[CV 2/3] END C=10, class_weight=balanced, max_iter=500, penalty=l2, solver=saga;, score=0.703 total time=   0.0s\n",
      "[CV 3/3] END C=10, class_weight=balanced, max_iter=500, penalty=l2, solver=saga;, score=0.609 total time=   0.0s\n",
      "[CV 1/3] END C=100, class_weight=None, max_iter=100, penalty=l1, solver=liblinear;, score=0.786 total time=   0.0s\n",
      "[CV 2/3] END C=100, class_weight=None, max_iter=100, penalty=l1, solver=liblinear;, score=0.771 total time=   0.0s\n",
      "[CV 3/3] END C=100, class_weight=None, max_iter=100, penalty=l1, solver=liblinear;, score=0.755 total time=   0.0s\n",
      "[CV 1/3] END C=100, class_weight=None, max_iter=100, penalty=l1, solver=saga;, score=0.703 total time=   0.0s\n",
      "[CV 2/3] END C=100, class_weight=None, max_iter=100, penalty=l1, solver=saga;, score=0.750 total time=   0.0s\n",
      "[CV 3/3] END C=100, class_weight=None, max_iter=100, penalty=l1, solver=saga;, score=0.698 total time=   0.0s\n",
      "[CV 1/3] END C=100, class_weight=None, max_iter=100, penalty=l2, solver=liblinear;, score=0.786 total time=   0.0s\n",
      "[CV 2/3] END C=100, class_weight=None, max_iter=100, penalty=l2, solver=liblinear;, score=0.771 total time=   0.0s\n",
      "[CV 3/3] END C=100, class_weight=None, max_iter=100, penalty=l2, solver=liblinear;, score=0.755 total time=   0.0s\n",
      "[CV 1/3] END C=100, class_weight=None, max_iter=100, penalty=l2, solver=saga;, score=0.703 total time=   0.0s\n",
      "[CV 2/3] END C=100, class_weight=None, max_iter=100, penalty=l2, solver=saga;, score=0.750 total time=   0.0s\n",
      "[CV 3/3] END C=100, class_weight=None, max_iter=100, penalty=l2, solver=saga;, score=0.698 total time=   0.0s\n",
      "[CV 1/3] END C=100, class_weight=None, max_iter=200, penalty=l1, solver=liblinear;, score=0.786 total time=   0.0s\n",
      "[CV 2/3] END C=100, class_weight=None, max_iter=200, penalty=l1, solver=liblinear;, score=0.771 total time=   0.0s\n",
      "[CV 3/3] END C=100, class_weight=None, max_iter=200, penalty=l1, solver=liblinear;, score=0.755 total time=   0.0s\n",
      "[CV 1/3] END C=100, class_weight=None, max_iter=200, penalty=l1, solver=saga;, score=0.703 total time=   0.0s\n",
      "[CV 2/3] END C=100, class_weight=None, max_iter=200, penalty=l1, solver=saga;, score=0.760 total time=   0.0s\n",
      "[CV 3/3] END C=100, class_weight=None, max_iter=200, penalty=l1, solver=saga;, score=0.661 total time=   0.0s\n",
      "[CV 1/3] END C=100, class_weight=None, max_iter=200, penalty=l2, solver=liblinear;, score=0.786 total time=   0.0s\n",
      "[CV 2/3] END C=100, class_weight=None, max_iter=200, penalty=l2, solver=liblinear;, score=0.771 total time=   0.0s\n",
      "[CV 3/3] END C=100, class_weight=None, max_iter=200, penalty=l2, solver=liblinear;, score=0.755 total time=   0.0s\n",
      "[CV 1/3] END C=100, class_weight=None, max_iter=200, penalty=l2, solver=saga;, score=0.703 total time=   0.0s\n",
      "[CV 2/3] END C=100, class_weight=None, max_iter=200, penalty=l2, solver=saga;, score=0.760 total time=   0.0s\n",
      "[CV 3/3] END C=100, class_weight=None, max_iter=200, penalty=l2, solver=saga;, score=0.661 total time=   0.0s\n",
      "[CV 1/3] END C=100, class_weight=None, max_iter=500, penalty=l1, solver=liblinear;, score=0.786 total time=   0.0s\n",
      "[CV 2/3] END C=100, class_weight=None, max_iter=500, penalty=l1, solver=liblinear;, score=0.771 total time=   0.0s\n",
      "[CV 3/3] END C=100, class_weight=None, max_iter=500, penalty=l1, solver=liblinear;, score=0.755 total time=   0.0s\n",
      "[CV 1/3] END C=100, class_weight=None, max_iter=500, penalty=l1, solver=saga;, score=0.698 total time=   0.0s\n",
      "[CV 2/3] END C=100, class_weight=None, max_iter=500, penalty=l1, solver=saga;, score=0.766 total time=   0.0s\n",
      "[CV 3/3] END C=100, class_weight=None, max_iter=500, penalty=l1, solver=saga;, score=0.661 total time=   0.0s\n",
      "[CV 1/3] END C=100, class_weight=None, max_iter=500, penalty=l2, solver=liblinear;, score=0.786 total time=   0.0s\n",
      "[CV 2/3] END C=100, class_weight=None, max_iter=500, penalty=l2, solver=liblinear;, score=0.771 total time=   0.0s\n",
      "[CV 3/3] END C=100, class_weight=None, max_iter=500, penalty=l2, solver=liblinear;, score=0.755 total time=   0.0s\n",
      "[CV 1/3] END C=100, class_weight=None, max_iter=500, penalty=l2, solver=saga;, score=0.698 total time=   0.0s\n",
      "[CV 2/3] END C=100, class_weight=None, max_iter=500, penalty=l2, solver=saga;, score=0.766 total time=   0.0s\n",
      "[CV 3/3] END C=100, class_weight=None, max_iter=500, penalty=l2, solver=saga;, score=0.661 total time=   0.0s\n",
      "[CV 1/3] END C=100, class_weight=balanced, max_iter=100, penalty=l1, solver=liblinear;, score=0.745 total time=   0.0s\n",
      "[CV 2/3] END C=100, class_weight=balanced, max_iter=100, penalty=l1, solver=liblinear;, score=0.750 total time=   0.0s\n",
      "[CV 3/3] END C=100, class_weight=balanced, max_iter=100, penalty=l1, solver=liblinear;, score=0.740 total time=   0.0s\n",
      "[CV 1/3] END C=100, class_weight=balanced, max_iter=100, penalty=l1, solver=saga;, score=0.667 total time=   0.0s\n",
      "[CV 2/3] END C=100, class_weight=balanced, max_iter=100, penalty=l1, solver=saga;, score=0.693 total time=   0.0s\n",
      "[CV 3/3] END C=100, class_weight=balanced, max_iter=100, penalty=l1, solver=saga;, score=0.609 total time=   0.0s\n",
      "[CV 1/3] END C=100, class_weight=balanced, max_iter=100, penalty=l2, solver=liblinear;, score=0.745 total time=   0.0s\n",
      "[CV 2/3] END C=100, class_weight=balanced, max_iter=100, penalty=l2, solver=liblinear;, score=0.755 total time=   0.0s\n",
      "[CV 3/3] END C=100, class_weight=balanced, max_iter=100, penalty=l2, solver=liblinear;, score=0.740 total time=   0.0s\n",
      "[CV 1/3] END C=100, class_weight=balanced, max_iter=100, penalty=l2, solver=saga;, score=0.667 total time=   0.0s\n",
      "[CV 2/3] END C=100, class_weight=balanced, max_iter=100, penalty=l2, solver=saga;, score=0.693 total time=   0.0s\n",
      "[CV 3/3] END C=100, class_weight=balanced, max_iter=100, penalty=l2, solver=saga;, score=0.609 total time=   0.0s\n",
      "[CV 1/3] END C=100, class_weight=balanced, max_iter=200, penalty=l1, solver=liblinear;, score=0.745 total time=   0.0s\n",
      "[CV 2/3] END C=100, class_weight=balanced, max_iter=200, penalty=l1, solver=liblinear;, score=0.750 total time=   0.0s\n",
      "[CV 3/3] END C=100, class_weight=balanced, max_iter=200, penalty=l1, solver=liblinear;, score=0.740 total time=   0.0s\n",
      "[CV 1/3] END C=100, class_weight=balanced, max_iter=200, penalty=l1, solver=saga;, score=0.682 total time=   0.0s\n",
      "[CV 2/3] END C=100, class_weight=balanced, max_iter=200, penalty=l1, solver=saga;, score=0.693 total time=   0.0s\n",
      "[CV 3/3] END C=100, class_weight=balanced, max_iter=200, penalty=l1, solver=saga;, score=0.604 total time=   0.0s\n",
      "[CV 1/3] END C=100, class_weight=balanced, max_iter=200, penalty=l2, solver=liblinear;, score=0.745 total time=   0.0s\n",
      "[CV 2/3] END C=100, class_weight=balanced, max_iter=200, penalty=l2, solver=liblinear;, score=0.755 total time=   0.0s\n",
      "[CV 3/3] END C=100, class_weight=balanced, max_iter=200, penalty=l2, solver=liblinear;, score=0.740 total time=   0.0s\n",
      "[CV 1/3] END C=100, class_weight=balanced, max_iter=200, penalty=l2, solver=saga;, score=0.682 total time=   0.0s\n",
      "[CV 2/3] END C=100, class_weight=balanced, max_iter=200, penalty=l2, solver=saga;, score=0.698 total time=   0.0s\n",
      "[CV 3/3] END C=100, class_weight=balanced, max_iter=200, penalty=l2, solver=saga;, score=0.604 total time=   0.0s\n",
      "[CV 1/3] END C=100, class_weight=balanced, max_iter=500, penalty=l1, solver=liblinear;, score=0.745 total time=   0.0s\n",
      "[CV 2/3] END C=100, class_weight=balanced, max_iter=500, penalty=l1, solver=liblinear;, score=0.750 total time=   0.0s\n",
      "[CV 3/3] END C=100, class_weight=balanced, max_iter=500, penalty=l1, solver=liblinear;, score=0.740 total time=   0.0s\n",
      "[CV 1/3] END C=100, class_weight=balanced, max_iter=500, penalty=l1, solver=saga;, score=0.693 total time=   0.0s\n",
      "[CV 2/3] END C=100, class_weight=balanced, max_iter=500, penalty=l1, solver=saga;, score=0.703 total time=   0.0s\n",
      "[CV 3/3] END C=100, class_weight=balanced, max_iter=500, penalty=l1, solver=saga;, score=0.609 total time=   0.0s\n",
      "[CV 1/3] END C=100, class_weight=balanced, max_iter=500, penalty=l2, solver=liblinear;, score=0.745 total time=   0.0s\n",
      "[CV 2/3] END C=100, class_weight=balanced, max_iter=500, penalty=l2, solver=liblinear;, score=0.755 total time=   0.0s\n",
      "[CV 3/3] END C=100, class_weight=balanced, max_iter=500, penalty=l2, solver=liblinear;, score=0.740 total time=   0.0s\n",
      "[CV 1/3] END C=100, class_weight=balanced, max_iter=500, penalty=l2, solver=saga;, score=0.693 total time=   0.0s\n",
      "[CV 2/3] END C=100, class_weight=balanced, max_iter=500, penalty=l2, solver=saga;, score=0.703 total time=   0.0s\n",
      "[CV 3/3] END C=100, class_weight=balanced, max_iter=500, penalty=l2, solver=saga;, score=0.609 total time=   0.0s\n"
     ]
    },
    {
     "data": {
      "text/html": [
       "<style>#sk-container-id-8 {color: black;background-color: white;}#sk-container-id-8 pre{padding: 0;}#sk-container-id-8 div.sk-toggleable {background-color: white;}#sk-container-id-8 label.sk-toggleable__label {cursor: pointer;display: block;width: 100%;margin-bottom: 0;padding: 0.3em;box-sizing: border-box;text-align: center;}#sk-container-id-8 label.sk-toggleable__label-arrow:before {content: \"▸\";float: left;margin-right: 0.25em;color: #696969;}#sk-container-id-8 label.sk-toggleable__label-arrow:hover:before {color: black;}#sk-container-id-8 div.sk-estimator:hover label.sk-toggleable__label-arrow:before {color: black;}#sk-container-id-8 div.sk-toggleable__content {max-height: 0;max-width: 0;overflow: hidden;text-align: left;background-color: #f0f8ff;}#sk-container-id-8 div.sk-toggleable__content pre {margin: 0.2em;color: black;border-radius: 0.25em;background-color: #f0f8ff;}#sk-container-id-8 input.sk-toggleable__control:checked~div.sk-toggleable__content {max-height: 200px;max-width: 100%;overflow: auto;}#sk-container-id-8 input.sk-toggleable__control:checked~label.sk-toggleable__label-arrow:before {content: \"▾\";}#sk-container-id-8 div.sk-estimator input.sk-toggleable__control:checked~label.sk-toggleable__label {background-color: #d4ebff;}#sk-container-id-8 div.sk-label input.sk-toggleable__control:checked~label.sk-toggleable__label {background-color: #d4ebff;}#sk-container-id-8 input.sk-hidden--visually {border: 0;clip: rect(1px 1px 1px 1px);clip: rect(1px, 1px, 1px, 1px);height: 1px;margin: -1px;overflow: hidden;padding: 0;position: absolute;width: 1px;}#sk-container-id-8 div.sk-estimator {font-family: monospace;background-color: #f0f8ff;border: 1px dotted black;border-radius: 0.25em;box-sizing: border-box;margin-bottom: 0.5em;}#sk-container-id-8 div.sk-estimator:hover {background-color: #d4ebff;}#sk-container-id-8 div.sk-parallel-item::after {content: \"\";width: 100%;border-bottom: 1px solid gray;flex-grow: 1;}#sk-container-id-8 div.sk-label:hover label.sk-toggleable__label {background-color: #d4ebff;}#sk-container-id-8 div.sk-serial::before {content: \"\";position: absolute;border-left: 1px solid gray;box-sizing: border-box;top: 0;bottom: 0;left: 50%;z-index: 0;}#sk-container-id-8 div.sk-serial {display: flex;flex-direction: column;align-items: center;background-color: white;padding-right: 0.2em;padding-left: 0.2em;position: relative;}#sk-container-id-8 div.sk-item {position: relative;z-index: 1;}#sk-container-id-8 div.sk-parallel {display: flex;align-items: stretch;justify-content: center;background-color: white;position: relative;}#sk-container-id-8 div.sk-item::before, #sk-container-id-8 div.sk-parallel-item::before {content: \"\";position: absolute;border-left: 1px solid gray;box-sizing: border-box;top: 0;bottom: 0;left: 50%;z-index: -1;}#sk-container-id-8 div.sk-parallel-item {display: flex;flex-direction: column;z-index: 1;position: relative;background-color: white;}#sk-container-id-8 div.sk-parallel-item:first-child::after {align-self: flex-end;width: 50%;}#sk-container-id-8 div.sk-parallel-item:last-child::after {align-self: flex-start;width: 50%;}#sk-container-id-8 div.sk-parallel-item:only-child::after {width: 0;}#sk-container-id-8 div.sk-dashed-wrapped {border: 1px dashed gray;margin: 0 0.4em 0.5em 0.4em;box-sizing: border-box;padding-bottom: 0.4em;background-color: white;}#sk-container-id-8 div.sk-label label {font-family: monospace;font-weight: bold;display: inline-block;line-height: 1.2em;}#sk-container-id-8 div.sk-label-container {text-align: center;}#sk-container-id-8 div.sk-container {/* jupyter's `normalize.less` sets `[hidden] { display: none; }` but bootstrap.min.css set `[hidden] { display: none !important; }` so we also need the `!important` here to be able to override the default hidden behavior on the sphinx rendered scikit-learn.org. See: https://github.com/scikit-learn/scikit-learn/issues/21755 */display: inline-block !important;position: relative;}#sk-container-id-8 div.sk-text-repr-fallback {display: none;}</style><div id=\"sk-container-id-8\" class=\"sk-top-container\"><div class=\"sk-text-repr-fallback\"><pre>GridSearchCV(cv=3, estimator=LogisticRegression(),\n",
       "             param_grid={&#x27;C&#x27;: [0.01, 0.1, 1, 10, 100],\n",
       "                         &#x27;class_weight&#x27;: [None, &#x27;balanced&#x27;],\n",
       "                         &#x27;max_iter&#x27;: [100, 200, 500], &#x27;penalty&#x27;: [&#x27;l1&#x27;, &#x27;l2&#x27;],\n",
       "                         &#x27;solver&#x27;: [&#x27;liblinear&#x27;, &#x27;saga&#x27;]},\n",
       "             scoring=&#x27;accuracy&#x27;, verbose=3)</pre><b>In a Jupyter environment, please rerun this cell to show the HTML representation or trust the notebook. <br />On GitHub, the HTML representation is unable to render, please try loading this page with nbviewer.org.</b></div><div class=\"sk-container\" hidden><div class=\"sk-item sk-dashed-wrapped\"><div class=\"sk-label-container\"><div class=\"sk-label sk-toggleable\"><input class=\"sk-toggleable__control sk-hidden--visually\" id=\"sk-estimator-id-12\" type=\"checkbox\" ><label for=\"sk-estimator-id-12\" class=\"sk-toggleable__label sk-toggleable__label-arrow\">GridSearchCV</label><div class=\"sk-toggleable__content\"><pre>GridSearchCV(cv=3, estimator=LogisticRegression(),\n",
       "             param_grid={&#x27;C&#x27;: [0.01, 0.1, 1, 10, 100],\n",
       "                         &#x27;class_weight&#x27;: [None, &#x27;balanced&#x27;],\n",
       "                         &#x27;max_iter&#x27;: [100, 200, 500], &#x27;penalty&#x27;: [&#x27;l1&#x27;, &#x27;l2&#x27;],\n",
       "                         &#x27;solver&#x27;: [&#x27;liblinear&#x27;, &#x27;saga&#x27;]},\n",
       "             scoring=&#x27;accuracy&#x27;, verbose=3)</pre></div></div></div><div class=\"sk-parallel\"><div class=\"sk-parallel-item\"><div class=\"sk-item\"><div class=\"sk-label-container\"><div class=\"sk-label sk-toggleable\"><input class=\"sk-toggleable__control sk-hidden--visually\" id=\"sk-estimator-id-13\" type=\"checkbox\" ><label for=\"sk-estimator-id-13\" class=\"sk-toggleable__label sk-toggleable__label-arrow\">estimator: LogisticRegression</label><div class=\"sk-toggleable__content\"><pre>LogisticRegression()</pre></div></div></div><div class=\"sk-serial\"><div class=\"sk-item\"><div class=\"sk-estimator sk-toggleable\"><input class=\"sk-toggleable__control sk-hidden--visually\" id=\"sk-estimator-id-14\" type=\"checkbox\" ><label for=\"sk-estimator-id-14\" class=\"sk-toggleable__label sk-toggleable__label-arrow\">LogisticRegression</label><div class=\"sk-toggleable__content\"><pre>LogisticRegression()</pre></div></div></div></div></div></div></div></div></div></div>"
      ],
      "text/plain": [
       "GridSearchCV(cv=3, estimator=LogisticRegression(),\n",
       "             param_grid={'C': [0.01, 0.1, 1, 10, 100],\n",
       "                         'class_weight': [None, 'balanced'],\n",
       "                         'max_iter': [100, 200, 500], 'penalty': ['l1', 'l2'],\n",
       "                         'solver': ['liblinear', 'saga']},\n",
       "             scoring='accuracy', verbose=3)"
      ]
     },
     "execution_count": 98,
     "metadata": {},
     "output_type": "execute_result"
    }
   ],
   "source": [
    "gscv_lg.fit(X_train , y_train)"
   ]
  },
  {
   "cell_type": "code",
   "execution_count": 99,
   "id": "175089ac-88db-4d40-9908-3e8b11c3970a",
   "metadata": {
    "tags": []
   },
   "outputs": [
    {
     "data": {
      "text/plain": [
       "{'C': 10,\n",
       " 'class_weight': None,\n",
       " 'max_iter': 100,\n",
       " 'penalty': 'l1',\n",
       " 'solver': 'liblinear'}"
      ]
     },
     "execution_count": 99,
     "metadata": {},
     "output_type": "execute_result"
    }
   ],
   "source": [
    "gscv_lg.best_params_"
   ]
  },
  {
   "cell_type": "code",
   "execution_count": 100,
   "id": "17b4d534-e7ca-49d4-b5f6-5ebc27ff9a7a",
   "metadata": {
    "tags": []
   },
   "outputs": [],
   "source": [
    "lr=LogisticRegression(C=10 , max_iter=100 , penalty='l1' , solver='liblinear')"
   ]
  },
  {
   "cell_type": "code",
   "execution_count": 101,
   "id": "0f013c38-bc69-483f-9c6f-f6aa9aa58953",
   "metadata": {
    "tags": []
   },
   "outputs": [
    {
     "data": {
      "text/html": [
       "<style>#sk-container-id-9 {color: black;background-color: white;}#sk-container-id-9 pre{padding: 0;}#sk-container-id-9 div.sk-toggleable {background-color: white;}#sk-container-id-9 label.sk-toggleable__label {cursor: pointer;display: block;width: 100%;margin-bottom: 0;padding: 0.3em;box-sizing: border-box;text-align: center;}#sk-container-id-9 label.sk-toggleable__label-arrow:before {content: \"▸\";float: left;margin-right: 0.25em;color: #696969;}#sk-container-id-9 label.sk-toggleable__label-arrow:hover:before {color: black;}#sk-container-id-9 div.sk-estimator:hover label.sk-toggleable__label-arrow:before {color: black;}#sk-container-id-9 div.sk-toggleable__content {max-height: 0;max-width: 0;overflow: hidden;text-align: left;background-color: #f0f8ff;}#sk-container-id-9 div.sk-toggleable__content pre {margin: 0.2em;color: black;border-radius: 0.25em;background-color: #f0f8ff;}#sk-container-id-9 input.sk-toggleable__control:checked~div.sk-toggleable__content {max-height: 200px;max-width: 100%;overflow: auto;}#sk-container-id-9 input.sk-toggleable__control:checked~label.sk-toggleable__label-arrow:before {content: \"▾\";}#sk-container-id-9 div.sk-estimator input.sk-toggleable__control:checked~label.sk-toggleable__label {background-color: #d4ebff;}#sk-container-id-9 div.sk-label input.sk-toggleable__control:checked~label.sk-toggleable__label {background-color: #d4ebff;}#sk-container-id-9 input.sk-hidden--visually {border: 0;clip: rect(1px 1px 1px 1px);clip: rect(1px, 1px, 1px, 1px);height: 1px;margin: -1px;overflow: hidden;padding: 0;position: absolute;width: 1px;}#sk-container-id-9 div.sk-estimator {font-family: monospace;background-color: #f0f8ff;border: 1px dotted black;border-radius: 0.25em;box-sizing: border-box;margin-bottom: 0.5em;}#sk-container-id-9 div.sk-estimator:hover {background-color: #d4ebff;}#sk-container-id-9 div.sk-parallel-item::after {content: \"\";width: 100%;border-bottom: 1px solid gray;flex-grow: 1;}#sk-container-id-9 div.sk-label:hover label.sk-toggleable__label {background-color: #d4ebff;}#sk-container-id-9 div.sk-serial::before {content: \"\";position: absolute;border-left: 1px solid gray;box-sizing: border-box;top: 0;bottom: 0;left: 50%;z-index: 0;}#sk-container-id-9 div.sk-serial {display: flex;flex-direction: column;align-items: center;background-color: white;padding-right: 0.2em;padding-left: 0.2em;position: relative;}#sk-container-id-9 div.sk-item {position: relative;z-index: 1;}#sk-container-id-9 div.sk-parallel {display: flex;align-items: stretch;justify-content: center;background-color: white;position: relative;}#sk-container-id-9 div.sk-item::before, #sk-container-id-9 div.sk-parallel-item::before {content: \"\";position: absolute;border-left: 1px solid gray;box-sizing: border-box;top: 0;bottom: 0;left: 50%;z-index: -1;}#sk-container-id-9 div.sk-parallel-item {display: flex;flex-direction: column;z-index: 1;position: relative;background-color: white;}#sk-container-id-9 div.sk-parallel-item:first-child::after {align-self: flex-end;width: 50%;}#sk-container-id-9 div.sk-parallel-item:last-child::after {align-self: flex-start;width: 50%;}#sk-container-id-9 div.sk-parallel-item:only-child::after {width: 0;}#sk-container-id-9 div.sk-dashed-wrapped {border: 1px dashed gray;margin: 0 0.4em 0.5em 0.4em;box-sizing: border-box;padding-bottom: 0.4em;background-color: white;}#sk-container-id-9 div.sk-label label {font-family: monospace;font-weight: bold;display: inline-block;line-height: 1.2em;}#sk-container-id-9 div.sk-label-container {text-align: center;}#sk-container-id-9 div.sk-container {/* jupyter's `normalize.less` sets `[hidden] { display: none; }` but bootstrap.min.css set `[hidden] { display: none !important; }` so we also need the `!important` here to be able to override the default hidden behavior on the sphinx rendered scikit-learn.org. See: https://github.com/scikit-learn/scikit-learn/issues/21755 */display: inline-block !important;position: relative;}#sk-container-id-9 div.sk-text-repr-fallback {display: none;}</style><div id=\"sk-container-id-9\" class=\"sk-top-container\"><div class=\"sk-text-repr-fallback\"><pre>LogisticRegression(C=10, penalty=&#x27;l1&#x27;, solver=&#x27;liblinear&#x27;)</pre><b>In a Jupyter environment, please rerun this cell to show the HTML representation or trust the notebook. <br />On GitHub, the HTML representation is unable to render, please try loading this page with nbviewer.org.</b></div><div class=\"sk-container\" hidden><div class=\"sk-item\"><div class=\"sk-estimator sk-toggleable\"><input class=\"sk-toggleable__control sk-hidden--visually\" id=\"sk-estimator-id-15\" type=\"checkbox\" checked><label for=\"sk-estimator-id-15\" class=\"sk-toggleable__label sk-toggleable__label-arrow\">LogisticRegression</label><div class=\"sk-toggleable__content\"><pre>LogisticRegression(C=10, penalty=&#x27;l1&#x27;, solver=&#x27;liblinear&#x27;)</pre></div></div></div></div></div>"
      ],
      "text/plain": [
       "LogisticRegression(C=10, penalty='l1', solver='liblinear')"
      ]
     },
     "execution_count": 101,
     "metadata": {},
     "output_type": "execute_result"
    }
   ],
   "source": [
    "lr.fit(X_train , y_train)"
   ]
  },
  {
   "cell_type": "code",
   "execution_count": 102,
   "id": "d03fbb63-904f-4b90-af74-8f680514d6cf",
   "metadata": {
    "tags": []
   },
   "outputs": [],
   "source": [
    "y_pred=lr.predict(X_test)"
   ]
  },
  {
   "cell_type": "code",
   "execution_count": 103,
   "id": "ef175248-66df-4ae6-acad-f610f98e2161",
   "metadata": {
    "tags": []
   },
   "outputs": [
    {
     "name": "stdout",
     "output_type": "stream",
     "text": [
      "[[117  13]\n",
      " [ 26  36]]\n",
      "              precision    recall  f1-score   support\n",
      "\n",
      "           0       0.82      0.90      0.86       130\n",
      "           1       0.73      0.58      0.65        62\n",
      "\n",
      "    accuracy                           0.80       192\n",
      "   macro avg       0.78      0.74      0.75       192\n",
      "weighted avg       0.79      0.80      0.79       192\n",
      "\n",
      "0.796875\n",
      "0.7346938775510204\n",
      "0.5806451612903226\n",
      "0.6486486486486487\n"
     ]
    }
   ],
   "source": [
    "print(confusion_matrix(y_test , y_pred))\n",
    "print(classification_report(y_test , y_pred))\n",
    "print(accuracy_score(y_test , y_pred))\n",
    "print(precision_score(y_test , y_pred))\n",
    "print(recall_score(y_test , y_pred))\n",
    "print(f1_score(y_test , y_pred))"
   ]
  },
  {
   "cell_type": "code",
   "execution_count": 108,
   "id": "9f760a8e-d6c7-407c-ad7d-71e96dc86752",
   "metadata": {
    "tags": []
   },
   "outputs": [],
   "source": [
    "file=open('model.pkl' , 'wb')\n",
    "pickle.dump(lr , file)\n",
    "file.close()"
   ]
  },
  {
   "cell_type": "markdown",
   "id": "849a8a42-dcfa-4065-9147-c582cc303029",
   "metadata": {
    "tags": []
   },
   "source": [
    "## Gaussian Naive Bayes"
   ]
  },
  {
   "cell_type": "code",
   "execution_count": 110,
   "id": "80551434-920e-408e-b4cc-202c75841e27",
   "metadata": {
    "tags": []
   },
   "outputs": [],
   "source": [
    "from sklearn.naive_bayes import GaussianNB"
   ]
  },
  {
   "cell_type": "code",
   "execution_count": 111,
   "id": "a7e37c76-61dc-4171-a5ad-0c18e21334c2",
   "metadata": {
    "tags": []
   },
   "outputs": [],
   "source": [
    "gnb=GaussianNB()"
   ]
  },
  {
   "cell_type": "code",
   "execution_count": 112,
   "id": "38bac804-45ee-4e9b-a86e-8b69cdf91419",
   "metadata": {
    "tags": []
   },
   "outputs": [
    {
     "data": {
      "text/html": [
       "<style>#sk-container-id-10 {color: black;background-color: white;}#sk-container-id-10 pre{padding: 0;}#sk-container-id-10 div.sk-toggleable {background-color: white;}#sk-container-id-10 label.sk-toggleable__label {cursor: pointer;display: block;width: 100%;margin-bottom: 0;padding: 0.3em;box-sizing: border-box;text-align: center;}#sk-container-id-10 label.sk-toggleable__label-arrow:before {content: \"▸\";float: left;margin-right: 0.25em;color: #696969;}#sk-container-id-10 label.sk-toggleable__label-arrow:hover:before {color: black;}#sk-container-id-10 div.sk-estimator:hover label.sk-toggleable__label-arrow:before {color: black;}#sk-container-id-10 div.sk-toggleable__content {max-height: 0;max-width: 0;overflow: hidden;text-align: left;background-color: #f0f8ff;}#sk-container-id-10 div.sk-toggleable__content pre {margin: 0.2em;color: black;border-radius: 0.25em;background-color: #f0f8ff;}#sk-container-id-10 input.sk-toggleable__control:checked~div.sk-toggleable__content {max-height: 200px;max-width: 100%;overflow: auto;}#sk-container-id-10 input.sk-toggleable__control:checked~label.sk-toggleable__label-arrow:before {content: \"▾\";}#sk-container-id-10 div.sk-estimator input.sk-toggleable__control:checked~label.sk-toggleable__label {background-color: #d4ebff;}#sk-container-id-10 div.sk-label input.sk-toggleable__control:checked~label.sk-toggleable__label {background-color: #d4ebff;}#sk-container-id-10 input.sk-hidden--visually {border: 0;clip: rect(1px 1px 1px 1px);clip: rect(1px, 1px, 1px, 1px);height: 1px;margin: -1px;overflow: hidden;padding: 0;position: absolute;width: 1px;}#sk-container-id-10 div.sk-estimator {font-family: monospace;background-color: #f0f8ff;border: 1px dotted black;border-radius: 0.25em;box-sizing: border-box;margin-bottom: 0.5em;}#sk-container-id-10 div.sk-estimator:hover {background-color: #d4ebff;}#sk-container-id-10 div.sk-parallel-item::after {content: \"\";width: 100%;border-bottom: 1px solid gray;flex-grow: 1;}#sk-container-id-10 div.sk-label:hover label.sk-toggleable__label {background-color: #d4ebff;}#sk-container-id-10 div.sk-serial::before {content: \"\";position: absolute;border-left: 1px solid gray;box-sizing: border-box;top: 0;bottom: 0;left: 50%;z-index: 0;}#sk-container-id-10 div.sk-serial {display: flex;flex-direction: column;align-items: center;background-color: white;padding-right: 0.2em;padding-left: 0.2em;position: relative;}#sk-container-id-10 div.sk-item {position: relative;z-index: 1;}#sk-container-id-10 div.sk-parallel {display: flex;align-items: stretch;justify-content: center;background-color: white;position: relative;}#sk-container-id-10 div.sk-item::before, #sk-container-id-10 div.sk-parallel-item::before {content: \"\";position: absolute;border-left: 1px solid gray;box-sizing: border-box;top: 0;bottom: 0;left: 50%;z-index: -1;}#sk-container-id-10 div.sk-parallel-item {display: flex;flex-direction: column;z-index: 1;position: relative;background-color: white;}#sk-container-id-10 div.sk-parallel-item:first-child::after {align-self: flex-end;width: 50%;}#sk-container-id-10 div.sk-parallel-item:last-child::after {align-self: flex-start;width: 50%;}#sk-container-id-10 div.sk-parallel-item:only-child::after {width: 0;}#sk-container-id-10 div.sk-dashed-wrapped {border: 1px dashed gray;margin: 0 0.4em 0.5em 0.4em;box-sizing: border-box;padding-bottom: 0.4em;background-color: white;}#sk-container-id-10 div.sk-label label {font-family: monospace;font-weight: bold;display: inline-block;line-height: 1.2em;}#sk-container-id-10 div.sk-label-container {text-align: center;}#sk-container-id-10 div.sk-container {/* jupyter's `normalize.less` sets `[hidden] { display: none; }` but bootstrap.min.css set `[hidden] { display: none !important; }` so we also need the `!important` here to be able to override the default hidden behavior on the sphinx rendered scikit-learn.org. See: https://github.com/scikit-learn/scikit-learn/issues/21755 */display: inline-block !important;position: relative;}#sk-container-id-10 div.sk-text-repr-fallback {display: none;}</style><div id=\"sk-container-id-10\" class=\"sk-top-container\"><div class=\"sk-text-repr-fallback\"><pre>GaussianNB()</pre><b>In a Jupyter environment, please rerun this cell to show the HTML representation or trust the notebook. <br />On GitHub, the HTML representation is unable to render, please try loading this page with nbviewer.org.</b></div><div class=\"sk-container\" hidden><div class=\"sk-item\"><div class=\"sk-estimator sk-toggleable\"><input class=\"sk-toggleable__control sk-hidden--visually\" id=\"sk-estimator-id-16\" type=\"checkbox\" checked><label for=\"sk-estimator-id-16\" class=\"sk-toggleable__label sk-toggleable__label-arrow\">GaussianNB</label><div class=\"sk-toggleable__content\"><pre>GaussianNB()</pre></div></div></div></div></div>"
      ],
      "text/plain": [
       "GaussianNB()"
      ]
     },
     "execution_count": 112,
     "metadata": {},
     "output_type": "execute_result"
    }
   ],
   "source": [
    "gnb.fit(X_train , y_train)"
   ]
  },
  {
   "cell_type": "code",
   "execution_count": 113,
   "id": "d97f5793-a5ea-47d0-bc83-2843a0ca3c39",
   "metadata": {
    "tags": []
   },
   "outputs": [],
   "source": [
    "y_pred=gnb.predict(X_test)"
   ]
  },
  {
   "cell_type": "code",
   "execution_count": 114,
   "id": "97c4658c-694f-4d5a-8f9f-5c7c8d8166fb",
   "metadata": {
    "tags": []
   },
   "outputs": [
    {
     "name": "stdout",
     "output_type": "stream",
     "text": [
      "[[113  17]\n",
      " [ 29  33]]\n",
      "              precision    recall  f1-score   support\n",
      "\n",
      "           0       0.80      0.87      0.83       130\n",
      "           1       0.66      0.53      0.59        62\n",
      "\n",
      "    accuracy                           0.76       192\n",
      "   macro avg       0.73      0.70      0.71       192\n",
      "weighted avg       0.75      0.76      0.75       192\n",
      "\n",
      "0.7604166666666666\n",
      "0.66\n",
      "0.532258064516129\n",
      "0.5892857142857142\n"
     ]
    }
   ],
   "source": [
    "print(confusion_matrix(y_test , y_pred))\n",
    "print(classification_report(y_test , y_pred))\n",
    "print(accuracy_score(y_test , y_pred))\n",
    "print(precision_score(y_test , y_pred))\n",
    "print(recall_score(y_test , y_pred))\n",
    "print(f1_score(y_test , y_pred))"
   ]
  },
  {
   "cell_type": "code",
   "execution_count": null,
   "id": "8d1e3105-ca16-4a3c-ad39-2e6a52e670e0",
   "metadata": {},
   "outputs": [],
   "source": []
  }
 ],
 "metadata": {
  "kernelspec": {
   "display_name": "Python 3 (ipykernel)",
   "language": "python",
   "name": "python3"
  },
  "language_info": {
   "codemirror_mode": {
    "name": "ipython",
    "version": 3
   },
   "file_extension": ".py",
   "mimetype": "text/x-python",
   "name": "python",
   "nbconvert_exporter": "python",
   "pygments_lexer": "ipython3",
   "version": "3.11.2"
  }
 },
 "nbformat": 4,
 "nbformat_minor": 5
}
